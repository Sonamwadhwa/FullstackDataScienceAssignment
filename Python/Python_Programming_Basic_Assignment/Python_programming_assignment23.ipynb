{
  "nbformat": 4,
  "nbformat_minor": 0,
  "metadata": {
    "colab": {
      "provenance": []
    },
    "kernelspec": {
      "name": "python3",
      "display_name": "Python 3"
    },
    "language_info": {
      "name": "python"
    }
  },
  "cells": [
    {
      "cell_type": "markdown",
      "source": [
        "Question 1\n",
        "Create a function that takes a number as an argument and returns True or False depending\n",
        "on whether the number is symmetrical or not. A number is symmetrical when it is the same as\n",
        "its reverse.\n",
        "Examples\n",
        "is_symmetrical(7227) ➞ True\n",
        "is_symmetrical(12567) ➞ False\n",
        "is_symmetrical(44444444) ➞ True\n",
        "is_symmetrical(9939) ➞ False\n",
        "is_symmetrical(1112111) ➞ True"
      ],
      "metadata": {
        "id": "9kHEMnwxz_rh"
      }
    },
    {
      "cell_type": "code",
      "source": [
        "def is_symmetrical(num):\n",
        "    currentDigit = reversedDigit = 0\n",
        "    remainingNum = num\n",
        "    while(remainingNum != 0):\n",
        "\n",
        "        currentDigit = remainingNum % 10\n",
        "\n",
        "        reversedDigit = reversedDigit * 10 + currentDigit\n",
        "        print('Reveresed Digit :',reversedDigit)\n",
        "        remainingNum = remainingNum // 10\n",
        "\n",
        "    if reversedDigit == num:\n",
        "        print('Num {} is symmetrical'.format(num))\n",
        "    else:\n",
        "        print('Num {} is not symmetrical'.format(num))"
      ],
      "metadata": {
        "id": "bRzD_2h_0GGy"
      },
      "execution_count": 10,
      "outputs": []
    },
    {
      "cell_type": "code",
      "source": [
        "is_symmetrical(7227)"
      ],
      "metadata": {
        "colab": {
          "base_uri": "https://localhost:8080/"
        },
        "id": "XgB4Oq6X2p95",
        "outputId": "9974e0bd-ad20-463b-b694-01c7a6d3671e"
      },
      "execution_count": 11,
      "outputs": [
        {
          "output_type": "stream",
          "name": "stdout",
          "text": [
            "Reveresed Digit : 7\n",
            "Reveresed Digit : 72\n",
            "Reveresed Digit : 722\n",
            "Reveresed Digit : 7227\n",
            "Num 7227 is symmetrical\n"
          ]
        }
      ]
    },
    {
      "cell_type": "code",
      "source": [
        "is_symmetrical(12567)"
      ],
      "metadata": {
        "colab": {
          "base_uri": "https://localhost:8080/"
        },
        "id": "mKRv-iNQ26p3",
        "outputId": "4c95dc9a-feda-4117-c756-11c8bfbc5f9e"
      },
      "execution_count": 12,
      "outputs": [
        {
          "output_type": "stream",
          "name": "stdout",
          "text": [
            "Reveresed Digit : 7\n",
            "Reveresed Digit : 76\n",
            "Reveresed Digit : 765\n",
            "Reveresed Digit : 7652\n",
            "Reveresed Digit : 76521\n",
            "Num 12567 is not symmetrical\n"
          ]
        }
      ]
    },
    {
      "cell_type": "code",
      "source": [
        "is_symmetrical(44444444)\n"
      ],
      "metadata": {
        "colab": {
          "base_uri": "https://localhost:8080/"
        },
        "id": "0RvMKhaB4Dov",
        "outputId": "30b1da9c-16b4-4cf7-ed5e-80ea99b67464"
      },
      "execution_count": 13,
      "outputs": [
        {
          "output_type": "stream",
          "name": "stdout",
          "text": [
            "Reveresed Digit : 4\n",
            "Reveresed Digit : 44\n",
            "Reveresed Digit : 444\n",
            "Reveresed Digit : 4444\n",
            "Reveresed Digit : 44444\n",
            "Reveresed Digit : 444444\n",
            "Reveresed Digit : 4444444\n",
            "Reveresed Digit : 44444444\n",
            "Num 44444444 is symmetrical\n"
          ]
        }
      ]
    },
    {
      "cell_type": "code",
      "source": [
        "is_symmetrical(9939)\n"
      ],
      "metadata": {
        "colab": {
          "base_uri": "https://localhost:8080/"
        },
        "id": "0bWwdfyr4KUw",
        "outputId": "7bc1720c-ba96-4334-ef5e-f83247d68cde"
      },
      "execution_count": 14,
      "outputs": [
        {
          "output_type": "stream",
          "name": "stdout",
          "text": [
            "Reveresed Digit : 9\n",
            "Reveresed Digit : 93\n",
            "Reveresed Digit : 939\n",
            "Reveresed Digit : 9399\n",
            "Num 9939 is not symmetrical\n"
          ]
        }
      ]
    },
    {
      "cell_type": "code",
      "source": [
        "is_symmetrical(1112111)"
      ],
      "metadata": {
        "colab": {
          "base_uri": "https://localhost:8080/"
        },
        "id": "wk259-Cr4UA4",
        "outputId": "34f46e96-d5d7-4996-ebae-9c2176eede48"
      },
      "execution_count": 15,
      "outputs": [
        {
          "output_type": "stream",
          "name": "stdout",
          "text": [
            "Reveresed Digit : 1\n",
            "Reveresed Digit : 11\n",
            "Reveresed Digit : 111\n",
            "Reveresed Digit : 1112\n",
            "Reveresed Digit : 11121\n",
            "Reveresed Digit : 111211\n",
            "Reveresed Digit : 1112111\n",
            "Num 1112111 is symmetrical\n"
          ]
        }
      ]
    },
    {
      "cell_type": "markdown",
      "source": [
        "Question 2\n",
        "Given a string of numbers separated by a comma and space, return the product of the\n",
        "numbers.\n",
        "Examples\n",
        "multiply_nums(&quot;2, 3&quot;) ➞ 6\n",
        "multiply_nums(&quot;1, 2, 3, 4&quot;) ➞ 24\n",
        "multiply_nums(&quot;54, 75, 453, 0&quot;) ➞ 0\n",
        "multiply_nums(&quot;10, -2&quot;) ➞ -20"
      ],
      "metadata": {
        "id": "l43gejkl4Zlw"
      }
    },
    {
      "cell_type": "code",
      "source": [
        "def multiply_nums(s):\n",
        "    s = s.replace(' ', \"\")\n",
        "    s = s.split(',')\n",
        "    sum = 1\n",
        "    for i in s:\n",
        "        sum = sum * int(i)\n",
        "    return sum"
      ],
      "metadata": {
        "id": "jYmWcLT-4bWn"
      },
      "execution_count": 16,
      "outputs": []
    },
    {
      "cell_type": "code",
      "source": [
        "multiply_nums('2, 3')"
      ],
      "metadata": {
        "colab": {
          "base_uri": "https://localhost:8080/"
        },
        "id": "OfS8U_mB4r3X",
        "outputId": "6c84dfb2-c680-4f28-bb6f-682f40554986"
      },
      "execution_count": 17,
      "outputs": [
        {
          "output_type": "execute_result",
          "data": {
            "text/plain": [
              "6"
            ]
          },
          "metadata": {},
          "execution_count": 17
        }
      ]
    },
    {
      "cell_type": "code",
      "source": [
        "multiply_nums('1, 2, 3, 4')\n"
      ],
      "metadata": {
        "colab": {
          "base_uri": "https://localhost:8080/"
        },
        "id": "6KfwT8NT5BGx",
        "outputId": "fa97edd9-8a06-4d6f-a6dd-51a05207d3a1"
      },
      "execution_count": 18,
      "outputs": [
        {
          "output_type": "execute_result",
          "data": {
            "text/plain": [
              "24"
            ]
          },
          "metadata": {},
          "execution_count": 18
        }
      ]
    },
    {
      "cell_type": "code",
      "source": [
        "multiply_nums('54, 75, 453, 0')"
      ],
      "metadata": {
        "colab": {
          "base_uri": "https://localhost:8080/"
        },
        "id": "WtkjuJkb5E8g",
        "outputId": "3b085794-451c-4514-e249-f19da95af639"
      },
      "execution_count": 19,
      "outputs": [
        {
          "output_type": "execute_result",
          "data": {
            "text/plain": [
              "0"
            ]
          },
          "metadata": {},
          "execution_count": 19
        }
      ]
    },
    {
      "cell_type": "code",
      "source": [
        "multiply_nums('10, -2')\n"
      ],
      "metadata": {
        "colab": {
          "base_uri": "https://localhost:8080/"
        },
        "id": "C47UUOnz5JfP",
        "outputId": "d8d7520e-b63d-40cd-c3bd-91eef41dc95e"
      },
      "execution_count": 20,
      "outputs": [
        {
          "output_type": "execute_result",
          "data": {
            "text/plain": [
              "-20"
            ]
          },
          "metadata": {},
          "execution_count": 20
        }
      ]
    },
    {
      "cell_type": "markdown",
      "source": [
        "Question 3\n",
        "Create a function that squares every digit of a number.\n",
        "Examples\n",
        "square_digits(9119) ➞ 811181\n",
        "square_digits(2483) ➞ 416649\n",
        "square_digits(3212) ➞ 9414\n",
        "Notes\n",
        "The function receives an integer and must return an integer."
      ],
      "metadata": {
        "id": "FJGQ8__r5PEQ"
      }
    },
    {
      "cell_type": "code",
      "source": [
        "def square_digits(num):\n",
        "    z = ''.join(str(int(i)**2) for i in str(num))\n",
        "    return int(z)"
      ],
      "metadata": {
        "id": "hme8CQCx5hfA"
      },
      "execution_count": 21,
      "outputs": []
    },
    {
      "cell_type": "code",
      "source": [
        "square_digits(9119)\n"
      ],
      "metadata": {
        "colab": {
          "base_uri": "https://localhost:8080/"
        },
        "id": "A_wfeAzE5qIY",
        "outputId": "70863bd2-e50c-425e-991b-2e1487e611d5"
      },
      "execution_count": 22,
      "outputs": [
        {
          "output_type": "execute_result",
          "data": {
            "text/plain": [
              "811181"
            ]
          },
          "metadata": {},
          "execution_count": 22
        }
      ]
    },
    {
      "cell_type": "code",
      "source": [
        "square_digits(2483)\n"
      ],
      "metadata": {
        "colab": {
          "base_uri": "https://localhost:8080/"
        },
        "id": "fOig9hpA6C7h",
        "outputId": "ad8436db-ec2f-41f2-a0ff-0f1b76984eb4"
      },
      "execution_count": 23,
      "outputs": [
        {
          "output_type": "execute_result",
          "data": {
            "text/plain": [
              "416649"
            ]
          },
          "metadata": {},
          "execution_count": 23
        }
      ]
    },
    {
      "cell_type": "code",
      "source": [
        "square_digits(3212)\n"
      ],
      "metadata": {
        "colab": {
          "base_uri": "https://localhost:8080/"
        },
        "id": "zo-74vuB6F7p",
        "outputId": "93aeafc2-ae7d-40b5-8690-249133009332"
      },
      "execution_count": 24,
      "outputs": [
        {
          "output_type": "execute_result",
          "data": {
            "text/plain": [
              "9414"
            ]
          },
          "metadata": {},
          "execution_count": 24
        }
      ]
    },
    {
      "cell_type": "markdown",
      "source": [
        "Question 4\n",
        "Create a function that sorts a list and removes all duplicate items from it.\n",
        "Examples\n",
        "setify([1, 3, 3, 5, 5]) ➞ [1, 3, 5]\n",
        "setify([4, 4, 4, 4]) ➞ [4]\n",
        "setify([5, 7, 8, 9, 10, 15]) ➞ [5, 7, 8, 9, 10, 15]\n",
        "setify([3, 3, 3, 2, 1]) ➞ [1, 2, 3]"
      ],
      "metadata": {
        "id": "xRhuZutJ6KIA"
      }
    },
    {
      "cell_type": "code",
      "source": [
        "def setify(lst):\n",
        "    return list(set(lst))"
      ],
      "metadata": {
        "id": "q-8YCoe96Qth"
      },
      "execution_count": 25,
      "outputs": []
    },
    {
      "cell_type": "code",
      "source": [
        "setify([1, 3, 3, 5, 5])\n"
      ],
      "metadata": {
        "colab": {
          "base_uri": "https://localhost:8080/"
        },
        "id": "AiPrGEZU6lao",
        "outputId": "ed176a2d-e7fd-4bf8-b324-8b9eeb4a63e4"
      },
      "execution_count": 26,
      "outputs": [
        {
          "output_type": "execute_result",
          "data": {
            "text/plain": [
              "[1, 3, 5]"
            ]
          },
          "metadata": {},
          "execution_count": 26
        }
      ]
    },
    {
      "cell_type": "code",
      "source": [
        "setify([4, 4, 4, 4])\n"
      ],
      "metadata": {
        "colab": {
          "base_uri": "https://localhost:8080/"
        },
        "id": "k8BWzN9u6nef",
        "outputId": "5b1d8bdf-7444-4dcc-b445-2c7a01178057"
      },
      "execution_count": 27,
      "outputs": [
        {
          "output_type": "execute_result",
          "data": {
            "text/plain": [
              "[4]"
            ]
          },
          "metadata": {},
          "execution_count": 27
        }
      ]
    },
    {
      "cell_type": "code",
      "source": [
        "setify([5, 7, 8, 9, 10, 15])\n"
      ],
      "metadata": {
        "colab": {
          "base_uri": "https://localhost:8080/"
        },
        "id": "pNlax1Er6smL",
        "outputId": "7ce55b9b-6788-4fd3-9fdd-1834012c1b04"
      },
      "execution_count": 28,
      "outputs": [
        {
          "output_type": "execute_result",
          "data": {
            "text/plain": [
              "[5, 7, 8, 9, 10, 15]"
            ]
          },
          "metadata": {},
          "execution_count": 28
        }
      ]
    },
    {
      "cell_type": "code",
      "source": [
        "setify([3, 3, 3, 2, 1])"
      ],
      "metadata": {
        "colab": {
          "base_uri": "https://localhost:8080/"
        },
        "id": "nmH5061m6wW6",
        "outputId": "d3481e9a-e708-4024-8660-916864284ef1"
      },
      "execution_count": 29,
      "outputs": [
        {
          "output_type": "execute_result",
          "data": {
            "text/plain": [
              "[1, 2, 3]"
            ]
          },
          "metadata": {},
          "execution_count": 29
        }
      ]
    },
    {
      "cell_type": "markdown",
      "source": [
        "Question 5\n",
        "Create a function that returns the mean of all digits.\n",
        "Examples\n",
        "mean(42) ➞ 3\n",
        "mean(12345) ➞ 3\n",
        "mean(666) ➞ 6\n",
        "Notes\n",
        " The mean of all digits is the sum of digits / how many digits there are (e.g. mean of digits in\n",
        "512 is (5+1+2)/3(number of digits) = 8/3=2).\n",
        " The mean will always be an integer."
      ],
      "metadata": {
        "id": "az_dGQcR63-A"
      }
    },
    {
      "cell_type": "code",
      "source": [
        "def mean(n): \n",
        "    N = len(str(n)) \n",
        "    sum = mean = 0\n",
        "    \n",
        "    for digit in str(n):\n",
        "        sum += int(digit)       \n",
        "    return int(sum/N)"
      ],
      "metadata": {
        "id": "LGUT4KSjGwoA"
      },
      "execution_count": 30,
      "outputs": []
    },
    {
      "cell_type": "code",
      "source": [
        "mean(42)\n"
      ],
      "metadata": {
        "colab": {
          "base_uri": "https://localhost:8080/"
        },
        "id": "1u7uFxVxG8yL",
        "outputId": "b9481064-e7ef-481a-effb-75822e21d6a0"
      },
      "execution_count": 31,
      "outputs": [
        {
          "output_type": "execute_result",
          "data": {
            "text/plain": [
              "3"
            ]
          },
          "metadata": {},
          "execution_count": 31
        }
      ]
    },
    {
      "cell_type": "code",
      "source": [
        "mean(12345)\n"
      ],
      "metadata": {
        "colab": {
          "base_uri": "https://localhost:8080/"
        },
        "id": "9tpPXn1LHBZj",
        "outputId": "9a6a0e5c-25cd-4df7-fe1c-b813c6983e59"
      },
      "execution_count": 32,
      "outputs": [
        {
          "output_type": "execute_result",
          "data": {
            "text/plain": [
              "3"
            ]
          },
          "metadata": {},
          "execution_count": 32
        }
      ]
    },
    {
      "cell_type": "code",
      "source": [
        "mean(666)"
      ],
      "metadata": {
        "colab": {
          "base_uri": "https://localhost:8080/"
        },
        "id": "yteVeW3pHFNB",
        "outputId": "cae03fab-41bf-407d-eb36-ab3089605c83"
      },
      "execution_count": 33,
      "outputs": [
        {
          "output_type": "execute_result",
          "data": {
            "text/plain": [
              "6"
            ]
          },
          "metadata": {},
          "execution_count": 33
        }
      ]
    }
  ]
}