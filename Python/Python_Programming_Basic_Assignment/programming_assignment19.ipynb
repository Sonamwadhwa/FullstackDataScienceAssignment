{
  "nbformat": 4,
  "nbformat_minor": 0,
  "metadata": {
    "colab": {
      "provenance": [],
      "authorship_tag": "ABX9TyOEhpyGv3Qytg98cWHZOElT"
    },
    "kernelspec": {
      "name": "python3",
      "display_name": "Python 3"
    },
    "language_info": {
      "name": "python"
    }
  },
  "cells": [
    {
      "cell_type": "markdown",
      "source": [
        "**Programming Basic Assignment19**"
      ],
      "metadata": {
        "id": "jcz60gmyQrJe"
      }
    },
    {
      "cell_type": "markdown",
      "source": [
        "Question1\n",
        "Create a function that takes a string and returns a string in which each character is repeated\n",
        "once.\n",
        "Examples\n",
        "double_char(&quot;String&quot;) ➞ &quot;SSttrriinngg&quot;\n",
        "double_char(&quot;Hello World!&quot;) ➞ &quot;HHeelllloo WWoorrlldd!!&quot;\n",
        "double_char(&quot;1234!_ &quot;) ➞ &quot;11223344!!__ &quot;"
      ],
      "metadata": {
        "id": "Hn-7SkIuQyHv"
      }
    },
    {
      "cell_type": "code",
      "source": [
        "def double_char(in_string):\n",
        "    out_string = ''\n",
        "    for ele in in_string:\n",
        "        out_string += ele*2\n",
        "    return out_string\n",
        "\n",
        "print(f'➞ {double_char(\"String\")}')\n",
        "print(f'➞ {double_char(\"Hello World!\")}')\n",
        "print(f'➞ {double_char(\"1234!_\")}')"
      ],
      "metadata": {
        "colab": {
          "base_uri": "https://localhost:8080/"
        },
        "id": "hs3MAYzHRMNl",
        "outputId": "ea9ea84a-7868-46bd-819d-e095fff67b0b"
      },
      "execution_count": 1,
      "outputs": [
        {
          "output_type": "stream",
          "name": "stdout",
          "text": [
            "➞ SSttrriinngg\n",
            "➞ HHeelllloo  WWoorrlldd!!\n",
            "➞ 11223344!!__\n"
          ]
        }
      ]
    },
    {
      "cell_type": "markdown",
      "source": [
        "Question2\n",
        "Create a function that reverses a boolean value and returns the string &quot;boolean expected&quot;\n",
        "if another variable type is given.\n",
        "Examples\n",
        "reverse(True) ➞ False\n",
        "reverse(False) ➞ True\n",
        "reverse(0) ➞ &quot;boolean expected&quot;\n",
        "reverse(None) ➞ &quot;boolean expected&quot;"
      ],
      "metadata": {
        "id": "nnaCTHpSkph0"
      }
    },
    {
      "cell_type": "code",
      "source": [
        "def reverse(in_bool):\n",
        "    if type(in_bool) == bool:\n",
        "        return not in_bool\n",
        "    else:\n",
        "        return \"Boolean Expected\"\n",
        "\n",
        "print(f'reverse(True) ➞ {reverse(True)}')\n",
        "print(f'reverse(False) ➞ {reverse(False)}')\n",
        "print(f'reverse(0) ➞ {reverse(0)}')\n",
        "print(f'reverse(None) ➞ {reverse(None)}')"
      ],
      "metadata": {
        "colab": {
          "base_uri": "https://localhost:8080/"
        },
        "id": "pLzCNBQiksla",
        "outputId": "f85721c4-4021-42d7-b48f-ec7ab194fc29"
      },
      "execution_count": 2,
      "outputs": [
        {
          "output_type": "stream",
          "name": "stdout",
          "text": [
            "reverse(True) ➞ False\n",
            "reverse(False) ➞ True\n",
            "reverse(0) ➞ Boolean Expected\n",
            "reverse(None) ➞ Boolean Expected\n"
          ]
        }
      ]
    },
    {
      "cell_type": "markdown",
      "source": [
        "Question3\n",
        "Create a function that returns the thickness (in meters) of a piece of paper after folding it n\n",
        "number of times. The paper starts off with a thickness of 0.5mm.\n",
        "Examples\n",
        "num_layers(1) ➞ &quot;0.001m&quot;\n",
        "# Paper folded once is 1mm (equal to 0.001m)\n",
        "num_layers(4) ➞ &quot;0.008m&quot;\n",
        "# Paper folded 4 times is 8mm (equal to 0.008m)\n",
        "num_layers(21) ➞ &quot;1048.576m&quot;\n",
        "# Paper folded 21 times is 1048576mm (equal to 1048.576m)"
      ],
      "metadata": {
        "id": "Zh829iEBk2k5"
      }
    },
    {
      "cell_type": "code",
      "source": [
        "def num_layers(in_num):\n",
        "    out_num = 0.5\n",
        "    for ele in range(in_num):\n",
        "        out_num *= 2\n",
        "    print(f'Output ➞ {out_num/1000}m')\n",
        "    \n",
        "num_layers(1)\n",
        "num_layers(4)\n",
        "num_layers(21)"
      ],
      "metadata": {
        "colab": {
          "base_uri": "https://localhost:8080/"
        },
        "id": "INILGNxOk6fK",
        "outputId": "9c5312b7-fe49-4b2f-8461-88db5bb6dd79"
      },
      "execution_count": 3,
      "outputs": [
        {
          "output_type": "stream",
          "name": "stdout",
          "text": [
            "Output ➞ 0.001m\n",
            "Output ➞ 0.008m\n",
            "Output ➞ 1048.576m\n"
          ]
        }
      ]
    },
    {
      "cell_type": "markdown",
      "source": [
        "Create a function that takes a single string as argument and returns an ordered list containing\n",
        "the indices of all capital letters in the string.\n",
        "Examples\n",
        "index_of_caps(&quot;eDaBiT&quot;) ➞ [1, 3, 5]\n",
        "index_of_caps(&quot;eQuINoX&quot;) ➞ [1, 3, 4, 6]\n",
        "index_of_caps(&quot;determine&quot;) ➞ []\n",
        "index_of_caps(&quot;STRIKE&quot;) ➞ [0, 1, 2, 3, 4, 5]\n",
        "index_of_caps(&quot;sUn&quot;) ➞ [1]"
      ],
      "metadata": {
        "id": "MHRNAKMKn5QQ"
      }
    },
    {
      "cell_type": "code",
      "source": [
        "def index_of_caps(in_string):\n",
        "    out_string = []\n",
        "    for ele in in_string:\n",
        "        if ele.isupper():\n",
        "            out_string.append(in_string.index(ele))\n",
        "    print(f'{in_string} ➞ {out_string}')\n",
        "\n",
        "index_of_caps(\"eDaBiT\")\n",
        "index_of_caps(\"eQuINoX\")\n",
        "index_of_caps(\"determine\")\n",
        "index_of_caps(\"STRIKE\")\n",
        "index_of_caps(\"sUn\")"
      ],
      "metadata": {
        "colab": {
          "base_uri": "https://localhost:8080/"
        },
        "id": "DDy39dg3n_ui",
        "outputId": "36f7e976-97a4-4fec-ea4c-808726f714cb"
      },
      "execution_count": 4,
      "outputs": [
        {
          "output_type": "stream",
          "name": "stdout",
          "text": [
            "eDaBiT ➞ [1, 3, 5]\n",
            "eQuINoX ➞ [1, 3, 4, 6]\n",
            "determine ➞ []\n",
            "STRIKE ➞ [0, 1, 2, 3, 4, 5]\n",
            "sUn ➞ [1]\n"
          ]
        }
      ]
    },
    {
      "cell_type": "markdown",
      "source": [
        "Question5\n",
        "Using list comprehensions, create a function that finds all even numbers from 1 to the given\n",
        "number.\n",
        "Examples\n",
        "find_even_nums(8) ➞ [2, 4, 6, 8]\n",
        "find_even_nums(4) ➞ [2, 4]\n",
        "find_even_nums(2) ➞ [2]"
      ],
      "metadata": {
        "id": "kmmPi9AMpizW"
      }
    },
    {
      "cell_type": "code",
      "source": [
        "def find_even_nums(in_num):\n",
        "    out_list = [i for i in range(1,in_num+1) if i%2 == 0]\n",
        "    print(f'Output ➞ {out_list}')\n",
        "    \n",
        "find_even_nums(8)\n",
        "find_even_nums(4)\n",
        "find_even_nums(2)"
      ],
      "metadata": {
        "colab": {
          "base_uri": "https://localhost:8080/"
        },
        "id": "YzVjV_DMqT0A",
        "outputId": "8dafc3a5-c7d8-44e8-bfc8-f99692cb6404"
      },
      "execution_count": 6,
      "outputs": [
        {
          "output_type": "stream",
          "name": "stdout",
          "text": [
            "Output ➞ [2, 4, 6, 8]\n",
            "Output ➞ [2, 4]\n",
            "Output ➞ [2]\n"
          ]
        }
      ]
    }
  ]
}