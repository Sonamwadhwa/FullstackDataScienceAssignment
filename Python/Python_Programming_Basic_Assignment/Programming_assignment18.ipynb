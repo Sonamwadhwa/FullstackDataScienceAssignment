{
  "nbformat": 4,
  "nbformat_minor": 0,
  "metadata": {
    "colab": {
      "provenance": [],
      "authorship_tag": "ABX9TyOYsR8WdVn7t/TQb5x1Dsbj"
    },
    "kernelspec": {
      "name": "python3",
      "display_name": "Python 3"
    },
    "language_info": {
      "name": "python"
    }
  },
  "cells": [
    {
      "cell_type": "markdown",
      "source": [
        "**Python programming Assignment18**"
      ],
      "metadata": {
        "id": "lFTiMrv8cQ8r"
      }
    },
    {
      "cell_type": "markdown",
      "source": [
        "Question 1\n",
        "Create a function that takes a list of non-negative integers and strings and return a new list\n",
        "without the strings.\n",
        "Examples\n",
        "filter_list([1, 2, &quot;a&quot;, &quot;b&quot;]) ➞ [1, 2]\n",
        "filter_list([1, &quot;a&quot;, &quot;b&quot;, 0, 15]) ➞ [1, 0, 15]\n",
        "filter_list([1, 2, &quot;aasf&quot;, &quot;1&quot;, &quot;123&quot;, 123]) ➞ [1, 2, 123]\n",
        "\n",
        "\n",
        "\n"
      ],
      "metadata": {
        "id": "-Wpl3jv_cS9Q"
      }
    },
    {
      "cell_type": "code",
      "source": [
        "l = [1,2,'a','b']\n",
        "\n",
        "def filter_list(l):\n",
        "    new_list = []\n",
        "    for x in l:\n",
        "        if type(x) == int:\n",
        "            new_list.append(x)\n",
        "    return new_list\n",
        "\n",
        "print(filter_list(l))"
      ],
      "metadata": {
        "colab": {
          "base_uri": "https://localhost:8080/"
        },
        "id": "qg3ZCiomI_eG",
        "outputId": "a1edeaa2-b26e-4333-8a83-0d6643b6fe92"
      },
      "execution_count": 5,
      "outputs": [
        {
          "output_type": "stream",
          "name": "stdout",
          "text": [
            "[1, 2]\n"
          ]
        }
      ]
    },
    {
      "cell_type": "markdown",
      "source": [
        "Question 2\n",
        "The \"Reverser\" takes a string as input and returns that string in reverse order, with the opposite case.\n",
        "Examples\n",
        "reverse(\"Hello World\") ➞ \"DLROw OLLEh\"\n",
        "\n",
        "reverse(\"ReVeRsE\") ➞ \"eSrEvEr\"\n",
        "\n",
        "reverse(\"Radar\") ➞ \"RADAr\"\n"
      ],
      "metadata": {
        "id": "Ed4ZgA4JKFKy"
      }
    },
    {
      "cell_type": "code",
      "source": [
        "def reverse(str):\n",
        "    str = str[::-1]\n",
        "    return str.swapcase()\n",
        "    \n",
        "print(reverse('Radar'))"
      ],
      "metadata": {
        "colab": {
          "base_uri": "https://localhost:8080/"
        },
        "id": "Oe33VFB3KNoK",
        "outputId": "ce42bd55-e5d2-4737-caba-80ffeeb79d2d"
      },
      "execution_count": 6,
      "outputs": [
        {
          "output_type": "stream",
          "name": "stdout",
          "text": [
            "RADAr\n"
          ]
        }
      ]
    },
    {
      "cell_type": "markdown",
      "source": [
        "Question 3\n",
        "You can assign variables from lists like this:\n",
        "lst = [1, 2, 3, 4, 5, 6]\n",
        "first = lst[0]\n",
        "middle = lst[1:-1]\n",
        "last = lst[-1]\n",
        "\n",
        "print(first) ➞ outputs 1\n",
        "print(middle) ➞ outputs [2, 3, 4, 5]\n",
        "print(last) ➞ outputs 6\n",
        "With Python 3, you can assign variables from lists in a much more succinct way. Create variables first, middle and last from the given list using destructuring assignment (check the Resources tab for some examples), where:\n",
        "first  ➞ 1\n",
        "\n",
        "middle ➞ [2, 3, 4, 5]\n",
        "\n",
        "last ➞ 6\n",
        "Your task is to unpack the list writeyourcodehere into three variables, being first, middle, and last, with middle being everything in between the first and last element. Then print all three variables."
      ],
      "metadata": {
        "id": "sywTxdkfMwTH"
      }
    },
    {
      "cell_type": "code",
      "source": [
        "lst = [1, 2, 3, 4, 5, 6]\n",
        "first ,*middle,last = lst\n",
        "middle"
      ],
      "metadata": {
        "colab": {
          "base_uri": "https://localhost:8080/"
        },
        "id": "SZ4KKePNMyXv",
        "outputId": "215b0835-31e3-4f14-eb05-93abf43585ba"
      },
      "execution_count": 8,
      "outputs": [
        {
          "output_type": "execute_result",
          "data": {
            "text/plain": [
              "[2, 3, 4, 5]"
            ]
          },
          "metadata": {},
          "execution_count": 8
        }
      ]
    },
    {
      "cell_type": "code",
      "source": [
        "first"
      ],
      "metadata": {
        "colab": {
          "base_uri": "https://localhost:8080/"
        },
        "id": "c23AbxIVO_yg",
        "outputId": "0feff1cb-2165-4f01-b5d2-a21940a6e2f6"
      },
      "execution_count": 9,
      "outputs": [
        {
          "output_type": "execute_result",
          "data": {
            "text/plain": [
              "1"
            ]
          },
          "metadata": {},
          "execution_count": 9
        }
      ]
    },
    {
      "cell_type": "code",
      "source": [
        "last"
      ],
      "metadata": {
        "colab": {
          "base_uri": "https://localhost:8080/"
        },
        "id": "N2sqrqNkPDIl",
        "outputId": "2f37a276-cf70-49da-d4dd-f89e2173eb44"
      },
      "execution_count": 11,
      "outputs": [
        {
          "output_type": "execute_result",
          "data": {
            "text/plain": [
              "6"
            ]
          },
          "metadata": {},
          "execution_count": 11
        }
      ]
    },
    {
      "cell_type": "markdown",
      "source": [
        "Question 4\n",
        "Write a function that calculates the factorial of a number recursively.\n",
        "Examples\n",
        "factorial(5) ➞ 120\n",
        "\n",
        "factorial(3) ➞ 6\n",
        "\n",
        "factorial(1) ➞ 1\n",
        "\n",
        "factorial(0) ➞ 1"
      ],
      "metadata": {
        "id": "n0Pnhp1rPLb8"
      }
    },
    {
      "cell_type": "code",
      "source": [
        "def factorial(n):\n",
        "\t\n",
        "\t# Checking the number\n",
        "\t# is 1 or 0 then\n",
        "\t# return 1\n",
        "\t# other wise return\n",
        "\t# factorial\n",
        "\tif (n==1 or n==0):\n",
        "\t\t\n",
        "\t\treturn 1\n",
        "\t\n",
        "\telse:\n",
        "\t\t\n",
        "\t\treturn (n * factorial(n - 1))\n",
        "num = 5;\n",
        "print(\"enter a number : \",num)\n",
        "print(\"Factorial : \",factorial(num))\n"
      ],
      "metadata": {
        "colab": {
          "base_uri": "https://localhost:8080/"
        },
        "id": "lSNNz6c6Pp88",
        "outputId": "60d34fed-c3c6-44fb-e2bf-d33a86a0ce70"
      },
      "execution_count": 16,
      "outputs": [
        {
          "output_type": "stream",
          "name": "stdout",
          "text": [
            "enter a number :  5\n",
            "Factorial :  120\n"
          ]
        }
      ]
    },
    {
      "cell_type": "markdown",
      "source": [
        "Question 5\n",
        "Write a function that moves all elements of one type to the end of the list.\n",
        "Examples\n",
        "move_to_end([1, 3, 2, 4, 4, 1], 1) ➞ [3, 2, 4, 4, 1, 1]\n",
        "# Move all the 1s to the end of the array.\n",
        "\n",
        "move_to_end([7, 8, 9, 1, 2, 3, 4], 9) ➞ [7, 8, 1, 2, 3, 4, 9]\n",
        "\n",
        "move_to_end([\"a\", \"a\", \"a\", \"b\"], \"a\") ➞ [\"b\", \"a\", \"a\", \"a\"]\n",
        "\n"
      ],
      "metadata": {
        "id": "UmFGF_A4QoDA"
      }
    },
    {
      "cell_type": "code",
      "source": [
        "\n",
        "def move_to_end(array, toMove):\n",
        "     \n",
        "    i = 0\n",
        " \n",
        "    \n",
        "    j = len(array) - 1\n",
        "  \n",
        "   \n",
        "    while (i < j):\n",
        "  \n",
        "        while (i < j and array[j] == toMove):\n",
        "  \n",
        "           \n",
        "            j-=1\n",
        "  \n",
        "        if (array[i] == toMove):\n",
        "  \n",
        "            # swap the two elements\n",
        "            # in the array\n",
        "            array[i], array[j] = array[j] , array[i]\n",
        "  \n",
        "       \n",
        "        i += 1\n",
        "  \n",
        "    # return the result\n",
        "    return array\n",
        "\n",
        "arr = [7, 8, 9, 1, 2, 3, 4]\n",
        "a = 9\n",
        "ans = move_to_end(arr, a)\n",
        "for i in range(len(arr)):\n",
        "    print(ans[i] ,end= \" \")"
      ],
      "metadata": {
        "colab": {
          "base_uri": "https://localhost:8080/"
        },
        "id": "lbcDDpN4RbmB",
        "outputId": "cb707b28-82e0-4072-f4fc-8e594a8fa0b3"
      },
      "execution_count": 19,
      "outputs": [
        {
          "output_type": "stream",
          "name": "stdout",
          "text": [
            "7 8 4 1 2 3 9 "
          ]
        }
      ]
    },
    {
      "cell_type": "code",
      "source": [
        "arr = ['a', 'a', 'a', 'b']\n",
        "k = 'a'\n",
        "ans = move_to_end(arr, k)\n",
        "for i in range(len(arr)):\n",
        "    print(ans[i] ,end= \" \")"
      ],
      "metadata": {
        "colab": {
          "base_uri": "https://localhost:8080/"
        },
        "id": "AQri4V8aUdo6",
        "outputId": "e972ead3-0679-4699-d3ee-cccff2f948d2"
      },
      "execution_count": 20,
      "outputs": [
        {
          "output_type": "stream",
          "name": "stdout",
          "text": [
            "b a a a "
          ]
        }
      ]
    }
  ]
}