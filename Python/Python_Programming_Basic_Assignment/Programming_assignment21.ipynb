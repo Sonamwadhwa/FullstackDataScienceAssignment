{
  "nbformat": 4,
  "nbformat_minor": 0,
  "metadata": {
    "colab": {
      "provenance": []
    },
    "kernelspec": {
      "name": "python3",
      "display_name": "Python 3"
    },
    "language_info": {
      "name": "python"
    }
  },
  "cells": [
    {
      "cell_type": "markdown",
      "source": [
        "Question1\n",
        "Write a function that takes a list and a number as arguments. Add the number to the end of\n",
        "the list, then remove the first element of the list. The function should then return the updated\n",
        "list.\n",
        "Examples\n",
        "next_in_line([5, 6, 7, 8, 9], 1) ➞ [6, 7, 8, 9, 1]\n",
        "next_in_line([7, 6, 3, 23, 17], 10) ➞ [6, 3, 23, 17, 10]\n",
        "next_in_line([1, 10, 20, 42 ], 6) ➞ [10, 20, 42, 6]\n",
        "next_in_line([], 6) ➞ &quot;No list has been selected&quot;"
      ],
      "metadata": {
        "id": "l9lJdufC8QpM"
      }
    },
    {
      "cell_type": "code",
      "source": [
        "def next_in_line(in_list,in_num):\n",
        "    if len(in_list) > 1:\n",
        "        in_list.append(in_num)\n",
        "        in_list.remove(in_list[0])\n",
        "        print(f'Output ➞ {in_list}')\n",
        "    else:\n",
        "        print('No list has been selected')\n",
        "\n",
        "next_in_line([5, 6, 7, 8, 9], 1) \n",
        "next_in_line([7, 6, 3, 23, 17], 10)\n",
        "next_in_line([1, 10, 20, 42 ], 6)\n",
        "next_in_line([], 6)"
      ],
      "metadata": {
        "colab": {
          "base_uri": "https://localhost:8080/"
        },
        "id": "pFuCDa_48SC6",
        "outputId": "a73ebbb8-ce7b-4b88-ced8-a7c2173af400"
      },
      "execution_count": 1,
      "outputs": [
        {
          "output_type": "stream",
          "name": "stdout",
          "text": [
            "Output ➞ [6, 7, 8, 9, 1]\n",
            "Output ➞ [6, 3, 23, 17, 10]\n",
            "Output ➞ [10, 20, 42, 6]\n",
            "No list has been selected\n"
          ]
        }
      ]
    },
    {
      "cell_type": "markdown",
      "source": [
        "Question2\n",
        "Create the function that takes a list of dictionaries and returns the sum of people&#39;s budgets.\n",
        "Examples\n",
        "get_budgets([\n",
        "{ &quot;name&quot;: &quot;John&quot;, &quot;age&quot;: 21, &quot;budget&quot;: 23000 },\n",
        "{ &quot;name&quot;: &quot;Steve&quot;, &quot;age&quot;: 32, &quot;budget&quot;: 40000 },\n",
        "{ &quot;name&quot;: &quot;Martin&quot;, &quot;age&quot;: 16, &quot;budget&quot;: 2700 }\n",
        "]) ➞ 65700\n",
        "get_budgets([\n",
        "{ &quot;name&quot;: &quot;John&quot;, &quot;age&quot;: 21, &quot;budget&quot;: 29000 },\n",
        "{ &quot;name&quot;: &quot;Steve&quot;, &quot;age&quot;: 32, &quot;budget&quot;: 32000 },\n",
        "{ &quot;name&quot;: &quot;Martin&quot;, &quot;age&quot;: 16, &quot;budget&quot;: 1600 }\n",
        "]) "
      ],
      "metadata": {
        "id": "6niS7JHGAsCP"
      }
    },
    {
      "cell_type": "code",
      "source": [
        "def get_budgets(in_dict):\n",
        "    sum = 0\n",
        "    for ele in in_dict:\n",
        "        sum += ele[\"budget\"]\n",
        "    print(f'Output ➞ {sum}')\n",
        "    \n",
        "get_budgets([\n",
        "{ \"name\": \"John\", \"age\": 21, \"budget\": 23000 },\n",
        "{ \"name\": \"Steve\", \"age\": 32, \"budget\": 40000 },\n",
        "{ \"name\": \"Martin\", \"age\": 16, \"budget\": 2700 }\n",
        "])\n",
        "\n",
        "get_budgets([\n",
        "{ \"name\": \"John\", \"age\": 21, \"budget\": 29000 },\n",
        "{ \"name\": \"Steve\", \"age\": 32, \"budget\": 32000 },\n",
        "{ \"name\": \"Martin\", \"age\": 16, \"budget\": 1600 }\n",
        "])"
      ],
      "metadata": {
        "colab": {
          "base_uri": "https://localhost:8080/"
        },
        "id": "8tUG43yoA18Y",
        "outputId": "699abb18-9d17-4d23-cc40-b7038afba8ff"
      },
      "execution_count": 2,
      "outputs": [
        {
          "output_type": "stream",
          "name": "stdout",
          "text": [
            "Output ➞ 65700\n",
            "Output ➞ 62600\n"
          ]
        }
      ]
    },
    {
      "cell_type": "markdown",
      "source": [
        "Question3\n",
        "Create a function that takes a string and returns a string with its letters in alphabetical order.\n",
        "Examples\n",
        "alphabet_soup(&quot;hello&quot;) ➞ &quot;ehllo&quot;\n",
        "alphabet_soup(&quot;edabit&quot;) ➞ &quot;abdeit&quot;\n",
        "alphabet_soup(&quot;hacker&quot;) ➞ &quot;acehkr&quot;\n",
        "alphabet_soup(&quot;geek&quot;) ➞ &quot;eegk&quot;\n",
        "alphabet_soup(&quot;javascript&quot;) ➞ &quot;aacijprstv&quot;"
      ],
      "metadata": {
        "id": "PKTEP3wEBEhC"
      }
    },
    {
      "cell_type": "code",
      "source": [
        "def alphabet_soup(in_string):\n",
        "    out_string = ''.join(sorted(in_string))\n",
        "    print(f'{in_string} ➞ {out_string}')\n",
        "\n",
        "alphabet_soup(\"hello\")\n",
        "alphabet_soup(\"edabit\")\n",
        "alphabet_soup(\"hacker\")\n",
        "alphabet_soup(\"geek\")\n",
        "alphabet_soup(\"javascript\")"
      ],
      "metadata": {
        "colab": {
          "base_uri": "https://localhost:8080/"
        },
        "id": "Hu-oVYowBIkZ",
        "outputId": "0ff43580-d8fa-4df6-a361-64e7386ecc70"
      },
      "execution_count": 3,
      "outputs": [
        {
          "output_type": "stream",
          "name": "stdout",
          "text": [
            "hello ➞ ehllo\n",
            "edabit ➞ abdeit\n",
            "hacker ➞ acehkr\n",
            "geek ➞ eegk\n",
            "javascript ➞ aacijprstv\n"
          ]
        }
      ]
    },
    {
      "cell_type": "markdown",
      "source": [
        "Question4\n",
        "Suppose that you invest $10,000 for 10 years at an interest rate of 6% compounded monthly.\n",
        "What will be the value of your investment at the end of the 10 year period?\n",
        "Create a function that accepts the principal p, the term in years t, the interest rate r, and the\n",
        "number of compounding periods per year n. The function returns the value at the end of term\n",
        "rounded to the nearest cent.\n",
        "For the example above:\n",
        "compound_interest(10000, 10, 0.06, 12) ➞ 18193.97\n",
        "Note that the interest rate is given as a decimal and n=12 because with monthly compounding\n",
        "there are 12 periods per year. Compounding can also be done annually, quarterly, weekly, or\n",
        "daily.\n",
        "Examples\n",
        "compound_interest(100, 1, 0.05, 1) ➞ 105.0\n",
        "compound_interest(3500, 15, 0.1, 4) ➞ 15399.26\n",
        "compound_interest(100000, 20, 0.15, 365) ➞ 2007316.26"
      ],
      "metadata": {
        "id": "NC1DekK3CKvC"
      }
    },
    {
      "cell_type": "code",
      "source": [
        "def compound_interest(principal,years,roi,cp):\n",
        "    ci = principal*(1+(roi/cp))**(cp*years)\n",
        "    print(f'Output ➞ {ci:.2f}')\n",
        "\n",
        "compound_interest(100, 1, 0.05, 1)\n",
        "compound_interest(3500, 15, 0.1, 4)\n",
        "compound_interest(100000, 20, 0.15, 365)"
      ],
      "metadata": {
        "colab": {
          "base_uri": "https://localhost:8080/"
        },
        "id": "3PmO-vDbCPfw",
        "outputId": "5245cbc9-5c7a-4c3b-c2cb-444dd0cff46d"
      },
      "execution_count": 6,
      "outputs": [
        {
          "output_type": "stream",
          "name": "stdout",
          "text": [
            "Output ➞ 105.00\n",
            "Output ➞ 15399.26\n",
            "Output ➞ 2007316.26\n"
          ]
        }
      ]
    },
    {
      "cell_type": "markdown",
      "source": [
        "Question5\n",
        "Write a function that takes a list of elements and returns only the integers.\n",
        "Examples\n",
        "return_only_integer([9, 2, &quot;space&quot;, &quot;car&quot;, &quot;lion&quot;, 16]) ➞ [9, 2, 16]\n",
        "return_only_integer([&quot;hello&quot;, 81, &quot;basketball&quot;, 123, &quot;fox&quot;]) ➞ [81, 123]\n",
        "return_only_integer([10, &quot;121&quot;, 56, 20, &quot;car&quot;, 3, &quot;lion&quot;]) ➞ [10, 56, 20,\n",
        "3]\n",
        "return_only_integer([&quot;String&quot;, True, 3.3, 1]) ➞ [1]"
      ],
      "metadata": {
        "id": "9xVudSPuDztM"
      }
    },
    {
      "cell_type": "code",
      "source": [
        "def return_only_integer(in_list):\n",
        "    out_list = []\n",
        "    for ele in in_list:\n",
        "        if type(ele) == int:\n",
        "            out_list.append(ele)\n",
        "    print(f'{in_list} ➞ {out_list}')\n",
        "    \n",
        "return_only_integer([9, 2, \"space\", \"car\", \"lion\", 16])\n",
        "return_only_integer([\"hello\", 81, \"basketball\", 123, \"fox\"])\n",
        "return_only_integer([10, \"121\", 56, 20, \"car\", 3, \"lion\"]) \n",
        "return_only_integer([\"String\", True, 3.3, 1])"
      ],
      "metadata": {
        "colab": {
          "base_uri": "https://localhost:8080/"
        },
        "id": "v9sjq6QRD2jY",
        "outputId": "50245c7e-d248-4b3e-ee41-6cd5d96d5b04"
      },
      "execution_count": 7,
      "outputs": [
        {
          "output_type": "stream",
          "name": "stdout",
          "text": [
            "[9, 2, 'space', 'car', 'lion', 16] ➞ [9, 2, 16]\n",
            "['hello', 81, 'basketball', 123, 'fox'] ➞ [81, 123]\n",
            "[10, '121', 56, 20, 'car', 3, 'lion'] ➞ [10, 56, 20, 3]\n",
            "['String', True, 3.3, 1] ➞ [1]\n"
          ]
        }
      ]
    }
  ]
}