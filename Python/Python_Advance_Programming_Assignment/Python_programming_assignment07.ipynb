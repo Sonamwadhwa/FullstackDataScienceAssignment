{
  "nbformat": 4,
  "nbformat_minor": 0,
  "metadata": {
    "colab": {
      "provenance": []
    },
    "kernelspec": {
      "name": "python3",
      "display_name": "Python 3"
    },
    "language_info": {
      "name": "python"
    }
  },
  "cells": [
    {
      "cell_type": "markdown",
      "source": [
        "1. Write a function that counts how many concentric layers a rug.\n",
        "\n",
        "Examples\n",
        "count_layers([\n",
        "&quot;AAAA&quot;,\n",
        "&quot;ABBA&quot;,\n",
        "&quot;AAAA&quot;\n",
        "]) ➞ 2\n",
        "\n",
        "count_layers([\n",
        "&quot;AAAAAAAAA&quot;,\n",
        "&quot;ABBBBBBBA&quot;,\n",
        "&quot;ABBAAABBA&quot;,\n",
        "&quot;ABBBBBBBA&quot;,\n",
        "&quot;AAAAAAAAA&quot;\n",
        "]) ➞ 3\n",
        "\n",
        "count_layers([\n",
        "&quot;AAAAAAAAAAA&quot;,\n",
        "&quot;AABBBBBBBAA&quot;,\n",
        "&quot;AABCCCCCBAA&quot;,\n",
        "&quot;AABCAAACBAA&quot;,\n",
        "&quot;AABCADACBAA&quot;,\n",
        "&quot;AABCAAACBAA&quot;,\n",
        "&quot;AABCCCCCBAA&quot;,\n",
        "&quot;AABBBBBBBAA&quot;,\n",
        "&quot;AAAAAAAAAAA&quot;\n",
        "]) ➞ 5"
      ],
      "metadata": {
        "id": "83ZQLqDR5PEc"
      }
    },
    {
      "cell_type": "code",
      "source": [
        "def count_layers(in_list):\n",
        "    out_list = []\n",
        "    for ele in in_list:\n",
        "        if ele not in out_list:\n",
        "            out_list.append(ele)\n",
        "    print(f'count_layers({in_list}) ➞ {len(out_list)}')\n",
        "\n",
        "count_layers([\"AAAA\",\"ABBA\",\"AAAA\"])\n",
        "count_layers([\"AAAAAAAAA\",\"ABBBBBBBA\",\"ABBAAABBA\",\"ABBBBBBBA\",\"AAAAAAAAA\"])\n",
        "count_layers(['AAAAAAAAAAA', 'AABBBBBBBAA', 'AABCCCCCBAA', 'AABCAAACBAA', 'AABCADACBAA', 'AABCAAACBAA', 'AABCCCCCBAA', 'AABBBBBBBAA', 'AAAAAAAAAAA'])"
      ],
      "metadata": {
        "colab": {
          "base_uri": "https://localhost:8080/"
        },
        "id": "C5dmxnmnAnBw",
        "outputId": "169b8d55-8797-4e86-cfa3-11d7e46bcef1"
      },
      "execution_count": 3,
      "outputs": [
        {
          "output_type": "stream",
          "name": "stdout",
          "text": [
            "count_layers(['AAAA', 'ABBA', 'AAAA']) ➞ 2\n",
            "count_layers(['AAAAAAAAA', 'ABBBBBBBA', 'ABBAAABBA', 'ABBBBBBBA', 'AAAAAAAAA']) ➞ 3\n",
            "count_layers(['AAAAAAAAAAA', 'AABBBBBBBAA', 'AABCCCCCBAA', 'AABCAAACBAA', 'AABCADACBAA', 'AABCAAACBAA', 'AABCCCCCBAA', 'AABBBBBBBAA', 'AAAAAAAAAAA']) ➞ 5\n"
          ]
        }
      ]
    },
    {
      "cell_type": "markdown",
      "source": [
        "2. There are many different styles of music and many albums exhibit multiple\n",
        "styles. Create a function that takes a list of musical styles from albums and\n",
        "returns how many styles are unique.\n",
        "\n",
        "Examples\n",
        "\n",
        "unique_styles([\n",
        "&quot;Dub,Dancehall&quot;,\n",
        "&quot;Industrial,Heavy Metal&quot;,\n",
        "&quot;Techno,Dubstep&quot;,\n",
        "&quot;Synth-pop,Euro-Disco&quot;,\n",
        "&quot;Industrial,Techno,Minimal&quot;\n",
        "]) ➞ 9\n",
        "\n",
        "unique_styles([\n",
        "&quot;Soul&quot;,\n",
        "&quot;House,Folk&quot;,\n",
        "&quot;Trance,Downtempo,Big Beat,House&quot;,\n",
        "&quot;Deep House&quot;,\n",
        "&quot;Soul&quot;\n",
        "]) ➞ 7"
      ],
      "metadata": {
        "id": "tyJPNA60BKsU"
      }
    },
    {
      "cell_type": "code",
      "source": [
        "def unique_styles(in_list):\n",
        "    out_list = []\n",
        "    for ele in in_list:\n",
        "        for sub_ele in ele.split(','):\n",
        "            out_list.append(sub_ele)\n",
        "    print(f'unique_styles({in_list}) ➞ {len(set(out_list))}')\n",
        "                \n",
        "unique_styles([\"Dub,Dancehall\",\"Industrial,Heavy Metal\",\"Techno,Dubstep\",\"Synth-pop,Euro-Disco\",\"Industrial,Techno,Minimal\"]) \n",
        "unique_styles([\"Soul\",\"House,Folk\",\"Trance,Downtempo,Big Beat,House\",\"Deep House\",\"Soul\"])"
      ],
      "metadata": {
        "colab": {
          "base_uri": "https://localhost:8080/"
        },
        "id": "BQp-BeJQI2-S",
        "outputId": "8936d3de-42ec-4f5b-df5a-81aae49b2ac7"
      },
      "execution_count": 4,
      "outputs": [
        {
          "output_type": "stream",
          "name": "stdout",
          "text": [
            "unique_styles(['Dub,Dancehall', 'Industrial,Heavy Metal', 'Techno,Dubstep', 'Synth-pop,Euro-Disco', 'Industrial,Techno,Minimal']) ➞ 9\n",
            "unique_styles(['Soul', 'House,Folk', 'Trance,Downtempo,Big Beat,House', 'Deep House', 'Soul']) ➞ 7\n"
          ]
        }
      ]
    },
    {
      "cell_type": "markdown",
      "source": [
        "3. Create a function that finds a target number in a list of prime numbers.\n",
        "Implement a binary search algorithm in your function. The target number will\n",
        "be from 2 through 97. If the target is prime then return &quot;yes&quot; else return &quot;no&quot;.\n",
        "\n",
        "Examples\n",
        "primes = [2, 3, 5, 7, 11, 13, 17, 19, 23, 29, 31, 37, 41, 43, 47, 53, 59, 61, 67,\n",
        "71, 73, 79, 83, 89, 97]\n",
        "\n",
        "is_prime(primes, 3) ➞ &quot;yes&quot;\n",
        "is_prime(primes, 4) ➞ &quot;no&quot;\n",
        "is_prime(primes, 67) ➞ &quot;yes&quot;\n",
        "is_prime(primes, 36) ➞ &quot;no&quot;"
      ],
      "metadata": {
        "id": "6Iyiga4qJM12"
      }
    },
    {
      "cell_type": "code",
      "source": [
        "primes = [2, 3, 5, 7, 11, 13, 17, 19, 23, 29, 31, 37, 41, 43, 47, 53, 59, 61, 67, 71, 73, 79, 83, 89, 97]\n",
        "\n",
        "def is_prime(in_list,in_num):\n",
        "    output = 'No'\n",
        "    start_point = 0\n",
        "    end_point = len(in_list) - 1\n",
        "    mid_point = 0\n",
        "    while start_point <= end_point:\n",
        "        mid_point = (end_point+start_point)//2\n",
        "        if in_list[mid_point] < in_num:\n",
        "            start_point = mid_point + 1\n",
        "        elif in_list[mid_point] > in_num:\n",
        "            end_point = mid_point - 1\n",
        "        else:\n",
        "            output = 'Yes'\n",
        "            break\n",
        "    print(f'is_prime({in_num}) ➞ {output}')\n",
        "\n",
        "is_prime(primes, 3)\n",
        "is_prime(primes, 4)\n",
        "is_prime(primes, 67)\n",
        "is_prime(primes, 36)"
      ],
      "metadata": {
        "colab": {
          "base_uri": "https://localhost:8080/"
        },
        "id": "nojKhG2gJfZR",
        "outputId": "e35f60a1-90a5-4d8d-cdfc-f3c5e261c671"
      },
      "execution_count": 5,
      "outputs": [
        {
          "output_type": "stream",
          "name": "stdout",
          "text": [
            "is_prime(3) ➞ Yes\n",
            "is_prime(4) ➞ No\n",
            "is_prime(67) ➞ Yes\n",
            "is_prime(36) ➞ No\n"
          ]
        }
      ]
    },
    {
      "cell_type": "markdown",
      "source": [
        "4. Create a function that takes in n, a, b and returns the number of positive\n",
        "values raised to the nth power that lie in the range [a, b], inclusive.\n",
        "\n",
        "Examples\n",
        "power_ranger(2, 49, 65) ➞ 2\n",
        "\n",
        "# 2 squares (n^2) lie between 49 and 65, 49 (7^2) and 64 (8^2)\n",
        "power_ranger(3, 1, 27) ➞ 3\n",
        "\n",
        "# 3 cubes (n^3) lie between 1 and 27, 1 (1^3), 8 (2^3) and 27 (3^3)\n",
        "power_ranger(10, 1, 5) ➞ 1\n",
        "\n",
        "# 1 value raised to the 10th power lies between 1 and 5, 1 (1^10)\n",
        "power_ranger(5, 31, 33) ➞ 1\n",
        "power_ranger(4, 250, 1300) ➞ 3"
      ],
      "metadata": {
        "id": "7-o5ABgwJiRf"
      }
    },
    {
      "cell_type": "code",
      "source": [
        "import math\n",
        "def power_ranger(in_base,in_min,in_max):\n",
        "    output = []\n",
        "    for ele in range(in_min,in_max+1):\n",
        "        root = round(math.exp(math.log(ele)/in_base),1)\n",
        "        if str(root).split(\".\")[1] == '0':\n",
        "            output.append(int(root))\n",
        "    print(f'power_ranger{in_base,in_min,in_max} ➞ {len(set(output))}')\n",
        "\n",
        "power_ranger(2, 49, 65)\n",
        "power_ranger(3, 1, 27)\n",
        "power_ranger(10, 1, 5)\n",
        "power_ranger(5, 31, 33)\n",
        "power_ranger(4, 250, 1300)"
      ],
      "metadata": {
        "colab": {
          "base_uri": "https://localhost:8080/"
        },
        "id": "llYGkpEMJ5cf",
        "outputId": "26c986bc-6581-494a-a02f-ac20b7680ee8"
      },
      "execution_count": 6,
      "outputs": [
        {
          "output_type": "stream",
          "name": "stdout",
          "text": [
            "power_ranger(2, 49, 65) ➞ 2\n",
            "power_ranger(3, 1, 27) ➞ 3\n",
            "power_ranger(10, 1, 5) ➞ 1\n",
            "power_ranger(5, 31, 33) ➞ 1\n",
            "power_ranger(4, 250, 1300) ➞ 3\n"
          ]
        }
      ]
    },
    {
      "cell_type": "markdown",
      "source": [
        "5. Given a number, return the difference between the maximum and minimum\n",
        "numbers that can be formed when the digits are rearranged.\n",
        "\n",
        "Examples\n",
        "rearranged_difference(972882) ➞ 760833\n",
        "# 988722 - 227889 = 760833\n",
        "\n",
        "rearranged_difference(3320707) ➞ 7709823\n",
        "# 7733200 - 23377 = 7709823\n",
        "\n",
        "rearranged_difference(90010) ➞ 90981\n",
        "# 91000 - 19 = 90981"
      ],
      "metadata": {
        "id": "fk2Hfud6KGJH"
      }
    },
    {
      "cell_type": "code",
      "source": [
        "def rearranged_difference(in_num):\n",
        "    split_num = []\n",
        "    for ele in str(in_num):\n",
        "        split_num.append(ele)\n",
        "    min_num = int(''.join(sorted(split_num))) \n",
        "    max_num = int(''.join(sorted(split_num, reverse=True)))\n",
        "    print(f'rearranged_difference({in_num}) ➞ {max_num} - {min_num} ➞ {max_num-min_num}')\n",
        "    \n",
        "rearranged_difference(972882)    \n",
        "rearranged_difference(3320707)\n",
        "rearranged_difference(90010)"
      ],
      "metadata": {
        "colab": {
          "base_uri": "https://localhost:8080/"
        },
        "id": "aoCNuIGHKR9u",
        "outputId": "77d9b928-d375-4e9a-dcb3-64ea311e17b9"
      },
      "execution_count": 7,
      "outputs": [
        {
          "output_type": "stream",
          "name": "stdout",
          "text": [
            "rearranged_difference(972882) ➞ 988722 - 227889 ➞ 760833\n",
            "rearranged_difference(3320707) ➞ 7733200 - 23377 ➞ 7709823\n",
            "rearranged_difference(90010) ➞ 91000 - 19 ➞ 90981\n"
          ]
        }
      ]
    }
  ]
}