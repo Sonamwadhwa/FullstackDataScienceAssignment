{
  "nbformat": 4,
  "nbformat_minor": 0,
  "metadata": {
    "colab": {
      "provenance": []
    },
    "kernelspec": {
      "name": "python3",
      "display_name": "Python 3"
    },
    "language_info": {
      "name": "python"
    }
  },
  "cells": [
    {
      "cell_type": "markdown",
      "source": [
        "1. Create a checker board generator, which takes as inputs n and 2 elements\n",
        "to generate an n x n checkerboard with those two elements as alternating\n",
        "squares.\n",
        "\n",
        "Examples\n",
        "checker_board(2, 7, 6) ➞ [\n",
        "[7, 6],\n",
        "[6, 7]\n",
        "]\n",
        "\n",
        "checker_board(3, &quot;A&quot;, &quot;B&quot;) ➞ [\n",
        "[&quot;A&quot;, &quot;B&quot;, &quot;A&quot;],\n",
        "[&quot;B&quot;, &quot;A&quot;, &quot;B&quot;],\n",
        "[&quot;A&quot;, &quot;B&quot;, &quot;A&quot;]\n",
        "]\n",
        "\n",
        "checker_board(4, &quot;c&quot;, &quot;d&quot;) ➞ [\n",
        "[&quot;c&quot;, &quot;d&quot;, &quot;c&quot;, &quot;d&quot;],\n",
        "[&quot;d&quot;, &quot;c&quot;, &quot;d&quot;, &quot;c&quot;],\n",
        "[&quot;c&quot;, &quot;d&quot;, &quot;c&quot;, &quot;d&quot;],\n",
        "[&quot;d&quot;, &quot;c&quot;, &quot;d&quot;, &quot;c&quot;]\n",
        "]\n",
        "\n",
        "checker_board(4, &quot;c&quot;, &quot;c&quot;) ➞ &quot;invalid&quot;"
      ],
      "metadata": {
        "id": "xfEQWVCrudkI"
      }
    },
    {
      "cell_type": "code",
      "source": [
        "def checker_board(grid_size,in_one,in_two):\n",
        "    if in_one != in_two:\n",
        "        input = [in_one,in_two]\n",
        "        output = []\n",
        "        for ele_1 in range(grid_size):\n",
        "            output.append([])\n",
        "            for ele_2 in range(grid_size):\n",
        "                output[ele_1].append(input[(ele_1+ele_2)%2])\n",
        "    else:\n",
        "        output = 'Invalid'\n",
        "    print(f'checker_board{grid_size,in_one,in_two} ➞ {output}')\n",
        "\n",
        "checker_board(2, 7, 6)\n",
        "checker_board(3, \"A\", \"B\")\n",
        "checker_board(4, \"c\", \"d\")\n",
        "checker_board(4, \"c\", \"c\")"
      ],
      "metadata": {
        "colab": {
          "base_uri": "https://localhost:8080/"
        },
        "id": "tLsP36FvvY7w",
        "outputId": "1446f13b-3956-4408-9dd4-67fe4b848096"
      },
      "execution_count": 1,
      "outputs": [
        {
          "output_type": "stream",
          "name": "stdout",
          "text": [
            "checker_board(2, 7, 6) ➞ [[7, 6], [6, 7]]\n",
            "checker_board(3, 'A', 'B') ➞ [['A', 'B', 'A'], ['B', 'A', 'B'], ['A', 'B', 'A']]\n",
            "checker_board(4, 'c', 'd') ➞ [['c', 'd', 'c', 'd'], ['d', 'c', 'd', 'c'], ['c', 'd', 'c', 'd'], ['d', 'c', 'd', 'c']]\n",
            "checker_board(4, 'c', 'c') ➞ Invalid\n"
          ]
        }
      ]
    },
    {
      "cell_type": "markdown",
      "source": [
        "2. A string is an almost-palindrome if, by changing only one character, you\n",
        "can make it a palindrome. Create a function that returns True if a string is an\n",
        "almost-palindrome and False otherwise.\n",
        "\n",
        "Examples\n",
        "almost_palindrome(&quot;abcdcbg&quot;) ➞ True\n",
        "# Transformed to &quot;abcdcba&quot; by changing &quot;g&quot; to &quot;a&quot;\n",
        ".\n",
        "almost_palindrome(&quot;abccia&quot;) ➞ True\n",
        "# Transformed to &quot;abccba&quot; by changing &quot;i&quot; to &quot;b&quot;.\n",
        "\n",
        "almost_palindrome(&quot;abcdaaa&quot;) ➞ False\n",
        "# Can&#39;t be transformed to a palindrome in exactly 1 turn.\n",
        "\n",
        "almost_palindrome(&quot;1234312&quot;) ➞ False"
      ],
      "metadata": {
        "id": "M3lobZBwvvZx"
      }
    },
    {
      "cell_type": "code",
      "source": [
        "def almost_palindrome(in_string):\n",
        "    in_string_rev = in_string[::-1]\n",
        "    count = 0\n",
        "    for ele in range(len(in_string)):\n",
        "        if in_string[ele] != in_string_rev[ele]:\n",
        "            count +=1\n",
        "    output = True if count == 2 else False\n",
        "    print(f'almost_palindrome({in_string}) ➞ {output}')\n",
        "\n",
        "almost_palindrome(\"abcdcbg\")\n",
        "almost_palindrome(\"abccia\")\n",
        "almost_palindrome(\"abcdaaa\")\n",
        "almost_palindrome(\"1234312\")"
      ],
      "metadata": {
        "colab": {
          "base_uri": "https://localhost:8080/"
        },
        "id": "Rw3kgiGRv7De",
        "outputId": "6fd4935f-52d4-4272-b810-a32b808f6087"
      },
      "execution_count": 2,
      "outputs": [
        {
          "output_type": "stream",
          "name": "stdout",
          "text": [
            "almost_palindrome(abcdcbg) ➞ True\n",
            "almost_palindrome(abccia) ➞ True\n",
            "almost_palindrome(abcdaaa) ➞ False\n",
            "almost_palindrome(1234312) ➞ False\n"
          ]
        }
      ]
    },
    {
      "cell_type": "markdown",
      "source": [
        "3. Create a function that finds how many prime numbers there are, up to the\n",
        "given integer.\n",
        "\n",
        "Examples\n",
        "prime_numbers(10) ➞ 4 # 2, 3, 5 and 7\n",
        "\n",
        "prime_numbers(20) ➞ 8 # 2, 3, 5, 7, 11, 13, 17 and 19\n",
        "\n",
        "prime_numbers(30) ➞ 10 # 2, 3, 5, 7, 11, 13, 17, 19, 23 and 29\n",
        "\n"
      ],
      "metadata": {
        "id": "DtnrSIxnv-9X"
      }
    },
    {
      "cell_type": "code",
      "source": [
        "def prime_numbers(in_num):\n",
        "    out_num = 0\n",
        "    out_list = [2,3]\n",
        "    for ele in range(1,in_num+1):\n",
        "        if ele <= 3 and ele > 0:\n",
        "            out_num = 2 if ele==3 else 1 if ele ==2 else 0\n",
        "        elif ele > 3 and (((ele-1)%6 == 0) or ((ele+1)%6 == 0)):\n",
        "            out_num +=1\n",
        "            out_list.append(ele)\n",
        "    for top in out_list:\n",
        "        for bottom in out_list:\n",
        "            if top != bottom:\n",
        "                if top%bottom == 0:\n",
        "                    out_num -= 1\n",
        "    print(f'prime_numbers({in_num}) ➞ {out_num}')\n",
        "\n",
        "prime_numbers(10)\n",
        "prime_numbers(20)\n",
        "prime_numbers(30)"
      ],
      "metadata": {
        "colab": {
          "base_uri": "https://localhost:8080/"
        },
        "id": "iVvDywn1wE5F",
        "outputId": "dbbcc23d-e118-4227-828a-9e81d211c611"
      },
      "execution_count": 3,
      "outputs": [
        {
          "output_type": "stream",
          "name": "stdout",
          "text": [
            "prime_numbers(10) ➞ 4\n",
            "prime_numbers(20) ➞ 8\n",
            "prime_numbers(30) ➞ 10\n"
          ]
        }
      ]
    },
    {
      "cell_type": "markdown",
      "source": [
        "4. If today was Monday, in two days, it would be Wednesday.\n",
        "Create a function that takes in a list of days as input and the number of days\n",
        "to increment by. Return a list of days after n number of days has passed.\n",
        "\n",
        "Examples\n",
        "after_n_days([&quot;Thursday&quot;, &quot;Monday&quot;], 4) ➞ [&quot;Monday&quot;, &quot;Friday&quot;]\n",
        "\n",
        "after_n_days([&quot;Sunday&quot;, &quot;Sunday&quot;, &quot;Sunday&quot;], 1) ➞ [&quot;Monday&quot;, &quot;Monday&quot;,\n",
        "&quot;Monday&quot;]\n",
        "\n",
        "after_n_days([&quot;Monday&quot;, &quot;Tuesday&quot;, &quot;Friday&quot;], 1) ➞ [&quot;Tuesday&quot;, &quot;Wednesday&quot;,\n",
        "&quot;Saturday&quot;]"
      ],
      "metadata": {
        "id": "r37vesypwyXk"
      }
    },
    {
      "cell_type": "code",
      "source": [
        "def after_n_days(in_list,in_num):\n",
        "    week_dict = {0:'Sunday',1:'Monday',2:'Tuesday',3:'Wednesday',4:'Thursday',5:'Friday',6:'Saturday'}\n",
        "    week_days_no = list(week_dict.keys())\n",
        "    week_days_name = list(week_dict.values())\n",
        "    output = []\n",
        "    for ele in in_list:\n",
        "        output.append(week_dict[(week_days_name.index(ele)+in_num)%7])\n",
        "    print(f'after_n_days{in_list,in_num} ➞ {output}')\n",
        "\n",
        "after_n_days([\"Thursday\", \"Monday\"], 4)\n",
        "after_n_days([\"Sunday\", \"Sunday\", \"Sunday\"], 1)\n",
        "after_n_days([\"Monday\", \"Tuesday\", \"Friday\"], 1)"
      ],
      "metadata": {
        "colab": {
          "base_uri": "https://localhost:8080/"
        },
        "id": "m2pNV8pTw6wz",
        "outputId": "4a656841-3a65-4227-ab65-903e8cf8731e"
      },
      "execution_count": 4,
      "outputs": [
        {
          "output_type": "stream",
          "name": "stdout",
          "text": [
            "after_n_days(['Thursday', 'Monday'], 4) ➞ ['Monday', 'Friday']\n",
            "after_n_days(['Sunday', 'Sunday', 'Sunday'], 1) ➞ ['Monday', 'Monday', 'Monday']\n",
            "after_n_days(['Monday', 'Tuesday', 'Friday'], 1) ➞ ['Tuesday', 'Wednesday', 'Saturday']\n"
          ]
        }
      ]
    },
    {
      "cell_type": "markdown",
      "source": [
        "5. You are in the process of creating a chat application and want to add an\n",
        "anonymous name feature. This anonymous name feature will create an alias\n",
        "that consists of two capitalized words beginning with the same letter as the\n",
        "users first name.\n",
        "Create a function that determines if the list of users is mapped to a list of\n",
        "anonymous names correctly.\n",
        "\n",
        "Examples\n",
        "is_correct_aliases([&quot;Adrian M.&quot;, &quot;Harriet S.&quot;, &quot;Mandy T.&quot;], [&quot;Amazing\n",
        "Artichoke&quot;, &quot;Hopeful Hedgehog&quot;, &quot;Marvelous Mouse&quot;]) ➞ True\n",
        "\n",
        "is_correct_aliases([&quot;Rachel F.&quot;, &quot;Pam G.&quot;, &quot;Fred Z.&quot;, &quot;Nancy K.&quot;],\n",
        "[&quot;Reassuring Rat&quot;, &quot;Peaceful Panda&quot;, &quot;Fantastic Frog&quot;, &quot;Notable Nickel&quot;]) ➞\n",
        "True\n",
        "\n",
        "is_correct_aliases([&quot;Beth T.&quot;], [&quot;Brandishing Mimosa&quot;]) ➞ False"
      ],
      "metadata": {
        "id": "-gViCvP6xGO4"
      }
    },
    {
      "cell_type": "code",
      "source": [
        "def is_correct_aliases(in_list_one, in_list_two):\n",
        "    output = False\n",
        "    if len(in_list_one) == len(in_list_two):\n",
        "        for ele in range(len(in_list_one)):\n",
        "            if in_list_one[ele].split(\" \")[0][0] == in_list_two[ele].split(\" \")[0][0] == in_list_two[ele].split(\" \")[1][0]:\n",
        "                output = True\n",
        "            else:\n",
        "                output = False\n",
        "                break\n",
        "    print(f'is_correct_aliases{in_list_one,in_list_two}➞{output}')\n",
        "\n",
        "is_correct_aliases([\"Beth T.\"],[\"Brandishing Mimosa\"])\n",
        "is_correct_aliases([\"Adrian M.\",\"Harriet S.\",\"Mandy T.\"], [\"Amazing Artichoke\", \"Hopeful Hedgehog\", \"Marvelous Mouse\"])\n",
        "is_correct_aliases([\"Rachel F.\",\"Pam G.\",\"Fred Z.\",\"Nancy K.\"], [\"Reassuring Rat\", \"Peaceful Panda\", \"Fantastic Frog\", \"Notable Nickel\"])"
      ],
      "metadata": {
        "colab": {
          "base_uri": "https://localhost:8080/"
        },
        "id": "cbgGsaIIxYLN",
        "outputId": "c95ab255-834f-483b-ce98-43f3fc62b131"
      },
      "execution_count": 7,
      "outputs": [
        {
          "output_type": "stream",
          "name": "stdout",
          "text": [
            "is_correct_aliases(['Beth T.'], ['Brandishing Mimosa'])➞False\n",
            "is_correct_aliases(['Adrian M.', 'Harriet S.', 'Mandy T.'], ['Amazing Artichoke', 'Hopeful Hedgehog', 'Marvelous Mouse'])➞True\n",
            "is_correct_aliases(['Rachel F.', 'Pam G.', 'Fred Z.', 'Nancy K.'], ['Reassuring Rat', 'Peaceful Panda', 'Fantastic Frog', 'Notable Nickel'])➞True\n"
          ]
        }
      ]
    }
  ]
}