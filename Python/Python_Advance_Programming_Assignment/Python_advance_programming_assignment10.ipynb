{
  "nbformat": 4,
  "nbformat_minor": 0,
  "metadata": {
    "colab": {
      "provenance": []
    },
    "kernelspec": {
      "name": "python3",
      "display_name": "Python 3"
    },
    "language_info": {
      "name": "python"
    }
  },
  "cells": [
    {
      "cell_type": "markdown",
      "source": [
        "1. Create a function that takes the width, height and character and returns a\n",
        "picture frame as a 2D list.\n",
        "\n",
        "Examples\n",
        "\n",
        "get_frame(4, 5, &quot;#&quot;) ➞ [\n",
        "[&quot;####&quot;],\n",
        "[&quot;# #&quot;],\n",
        "[&quot;# #&quot;],\n",
        "[&quot;# #&quot;],\n",
        "[&quot;####&quot;]\n",
        "]\n",
        "\n",
        "# Frame is 4 characters wide and 5 characters tall.\n",
        "\n",
        "get_frame(10, 3, &quot;*&quot;) ➞ [\n",
        "[&quot;**********&quot;],\n",
        "[&quot;* *&quot;],\n",
        "[&quot;**********&quot;]\n",
        "]\n",
        "\n",
        "# Frame is 10 characters and wide and 3 characters tall.\n",
        "\n",
        "get_frame(2, 5, &quot;0&quot;) ➞ &quot;invalid&quot;\n",
        "# Frame&#39;s width is not more than 2."
      ],
      "metadata": {
        "id": "9HhrCKVFWWbt"
      }
    },
    {
      "cell_type": "code",
      "source": [
        "def get_frame(in_width,in_height,in_character):\n",
        "    if in_width <= 2:\n",
        "        print(\"Invalid\")\n",
        "    else:\n",
        "        out_list = []\n",
        "        for height in range(in_height):\n",
        "            if height == 0 or height == in_height-1:\n",
        "                out_list.append([in_width*in_character])\n",
        "            else:\n",
        "                out_list.append([in_character+' '*(in_width-2)+in_character])\n",
        "        for ele in out_list:\n",
        "            print(ele)\n",
        "        print()\n",
        "    \n",
        "get_frame(4, 5, \"#\")\n",
        "get_frame(10, 3, \"*\")\n",
        "get_frame(2, 5, \"0\")"
      ],
      "metadata": {
        "colab": {
          "base_uri": "https://localhost:8080/"
        },
        "id": "-eYllB31Wfsi",
        "outputId": "1c07cfba-d33b-41b9-f602-9cbeffe73c0b"
      },
      "execution_count": 1,
      "outputs": [
        {
          "output_type": "stream",
          "name": "stdout",
          "text": [
            "['####']\n",
            "['#  #']\n",
            "['#  #']\n",
            "['#  #']\n",
            "['####']\n",
            "\n",
            "['**********']\n",
            "['*        *']\n",
            "['**********']\n",
            "\n",
            "Invalid\n"
          ]
        }
      ]
    },
    {
      "cell_type": "markdown",
      "source": [
        "2. Write three functions:\n",
        "1. boolean_and\n",
        "2. boolean_or\n",
        "3. boolean_xor\n",
        "\n",
        "These functions should evaluate a list of True and False values, starting from\n",
        "the leftmost element and evaluating pairwise.\n",
        "\n",
        "Examples\n",
        "boolean_and([True, True, False, True]) ➞ False\n",
        "# [True, True, False, True] =&gt; [True, False, True] =&gt; [False, True] =&gt; False\n",
        "\n",
        "boolean_or([True, True, False, False]) ➞ True\n",
        "# [True, True, False, True] =&gt; [True, False, False] =&gt; [True, False] =&gt; True\n",
        "\n",
        "boolean_xor([True, True, False, False]) ➞ False\n",
        "# [True, True, False, False] =&gt; [False, False, False] =&gt; [False, False] =&gt;\n",
        "False"
      ],
      "metadata": {
        "id": "7l1ftNjbXE7a"
      }
    },
    {
      "cell_type": "code",
      "source": [
        "def boolean_and(in_list):\n",
        "    in_list_clone = in_list.copy()\n",
        "    while len(in_list) != 1:\n",
        "        x = in_list.pop(0)\n",
        "        y = in_list.pop(0)\n",
        "        in_list.insert(0,(x and y))\n",
        "    print(f'boolean_and({in_list_clone}) ➞ {in_list[0]}')\n",
        "    \n",
        "def boolean_or(in_list):\n",
        "    in_list_clone = in_list.copy()\n",
        "    while len(in_list) != 1:\n",
        "        x = in_list.pop(0)\n",
        "        y = in_list.pop(0)\n",
        "        in_list.insert(0,(x or y))\n",
        "    print(f'boolean_or({in_list_clone}) ➞ {in_list[0]}')\n",
        "    \n",
        "def boolean_xor(in_list):\n",
        "    in_list_clone = in_list.copy()\n",
        "    while len(in_list) != 1:\n",
        "        x = in_list.pop(0)\n",
        "        y = in_list.pop(0)\n",
        "        in_list.insert(0,(x ^ y))\n",
        "    print(f'boolean_xor({in_list_clone}) ➞ {in_list[0]}')\n",
        "    \n",
        "boolean_and([True, True, False, True])\n",
        "boolean_or([True, True, False, False])\n",
        "boolean_xor([True, True, False, False])"
      ],
      "metadata": {
        "colab": {
          "base_uri": "https://localhost:8080/"
        },
        "id": "xACrK4t_XJjy",
        "outputId": "6ce9990e-2957-4243-b7b3-39d8bedd0b19"
      },
      "execution_count": 2,
      "outputs": [
        {
          "output_type": "stream",
          "name": "stdout",
          "text": [
            "boolean_and([True, True, False, True]) ➞ False\n",
            "boolean_or([True, True, False, False]) ➞ True\n",
            "boolean_xor([True, True, False, False]) ➞ False\n"
          ]
        }
      ]
    },
    {
      "cell_type": "markdown",
      "source": [
        "3. Create a function that creates a box based on dimension n.\n",
        "\n",
        "Examples\n",
        "make_box(5) ➞ [\n",
        "&quot;#####&quot;,\n",
        "&quot;# #&quot;,\n",
        "&quot;# #&quot;,\n",
        "&quot;# #&quot;,\n",
        "&quot;#####&quot;\n",
        "]\n",
        "\n",
        "make_box(3) ➞ [\n",
        "&quot;###&quot;,\n",
        "&quot;# #&quot;,\n",
        "&quot;###&quot;\n",
        "]\n",
        "\n",
        "make_box(2) ➞ [\n",
        "&quot;##&quot;,\n",
        "&quot;##&quot;\n",
        "]\n",
        "\n",
        "make_box(1) ➞ [\n",
        "&quot;#&quot;\n",
        "]"
      ],
      "metadata": {
        "id": "cldrYVAMXk8q"
      }
    },
    {
      "cell_type": "code",
      "source": [
        "def make_box(in_dimension):\n",
        "    out_list = []\n",
        "    for ele in range(in_dimension):\n",
        "        if ele == 0 or ele == in_dimension-1:\n",
        "            out_list.append('#'*in_dimension)\n",
        "        else:\n",
        "            out_list.append('#'+' '*(in_dimension-2)+'#')\n",
        "    for ele in out_list:\n",
        "        print(ele)\n",
        "    print()\n",
        "    \n",
        "make_box(5)   \n",
        "make_box(2)\n",
        "make_box(1)"
      ],
      "metadata": {
        "colab": {
          "base_uri": "https://localhost:8080/"
        },
        "id": "U1GJ1kVSXth7",
        "outputId": "ef16c3a6-4ad5-42c6-daf0-28594af78540"
      },
      "execution_count": 3,
      "outputs": [
        {
          "output_type": "stream",
          "name": "stdout",
          "text": [
            "#####\n",
            "#   #\n",
            "#   #\n",
            "#   #\n",
            "#####\n",
            "\n",
            "##\n",
            "##\n",
            "\n",
            "#\n",
            "\n"
          ]
        }
      ]
    },
    {
      "cell_type": "markdown",
      "source": [
        "4. Given a common phrase, return False if any individual word in the phrase\n",
        "contains duplicate letters. Return True otherwise.\n",
        "\n",
        "Examples\n",
        "no_duplicate_letters(&quot;Fortune favours the bold.&quot;) ➞ \n",
        "\n",
        "no_duplicate_letters(&quot;You can lead a horse to water, but you can&#39;t make him drink.&quot;) ➞ True\n",
        "\n",
        "no_duplicate_letters(&quot;Look before you leap.&quot;) ➞ False\n",
        "\n",
        "# Duplicate letters in &quot;Look&quot; and &quot;before&quot;.\n",
        "no_duplicate_letters(&quot;An apple a day keeps the doctor away.&quot;) ➞ False\n",
        "# Duplicate letters in &quot;apple&quot;, &quot;keeps&quot;, &quot;doctor&quot;, and &quot;away&quot;."
      ],
      "metadata": {
        "id": "imgxU1CMl6cC"
      }
    },
    {
      "cell_type": "code",
      "source": [
        "def no_duplicate_letters(in_string):\n",
        "    out_put = None\n",
        "    for ele in in_string.split(' '):\n",
        "        if len(ele) == len(set(ele)):\n",
        "            out_put = True\n",
        "        else:\n",
        "            out_put = False\n",
        "            break\n",
        "    print(f'no_duplicate_letters({in_string}) ➞ {out_put}')\n",
        "    \n",
        "no_duplicate_letters(\"Fortune favours the bold.\")\n",
        "no_duplicate_letters(\"You can lead a horse to water, but you can't make him drink.\")\n",
        "no_duplicate_letters(\"Look before you leap.\")\n",
        "no_duplicate_letters(\"An apple a day keeps the doctor away.\")"
      ],
      "metadata": {
        "colab": {
          "base_uri": "https://localhost:8080/"
        },
        "id": "nce2Kz7wmB2v",
        "outputId": "60e3642e-82ae-4b26-c000-b830edbbeb52"
      },
      "execution_count": 4,
      "outputs": [
        {
          "output_type": "stream",
          "name": "stdout",
          "text": [
            "no_duplicate_letters(Fortune favours the bold.) ➞ True\n",
            "no_duplicate_letters(You can lead a horse to water, but you can't make him drink.) ➞ True\n",
            "no_duplicate_letters(Look before you leap.) ➞ False\n",
            "no_duplicate_letters(An apple a day keeps the doctor away.) ➞ False\n"
          ]
        }
      ]
    },
    {
      "cell_type": "markdown",
      "source": [
        "5. Write a regular expression that will match the states that voted yes to\n",
        "President Trump&#39;s impeachment. You must use RegEx positive lookahead.\n",
        "\n",
        "Example\n",
        "\n",
        "txt = &quot;Texas = no, California = yes, Florida = yes, Michigan = no&quot;\n",
        "\n",
        "pattern = &quot;yourregularexpressionhere&quot;\n",
        "\n",
        "re.findall(pattern, txt) ➞ [&quot;California&quot;, &quot;Florida&quot;]"
      ],
      "metadata": {
        "id": "PtHxiyqumLj8"
      }
    },
    {
      "cell_type": "code",
      "source": [
        "import re\n",
        "txt = \"Texas = no, California = yes, Florida = yes, Michigan = no\"\n",
        "pattern = r'\\w+(?=\\s=\\syes*)'\n",
        "match = re.findall(pattern,txt)\n",
        "print(f're.findall{pattern,txt} ➞ {match}')"
      ],
      "metadata": {
        "colab": {
          "base_uri": "https://localhost:8080/"
        },
        "id": "cE0BFaynmQL1",
        "outputId": "3cb554b4-7b7a-45ae-e479-fdf778886364"
      },
      "execution_count": 5,
      "outputs": [
        {
          "output_type": "stream",
          "name": "stdout",
          "text": [
            "re.findall('\\\\w+(?=\\\\s=\\\\syes*)', 'Texas = no, California = yes, Florida = yes, Michigan = no') ➞ ['California', 'Florida']\n"
          ]
        }
      ]
    }
  ]
}