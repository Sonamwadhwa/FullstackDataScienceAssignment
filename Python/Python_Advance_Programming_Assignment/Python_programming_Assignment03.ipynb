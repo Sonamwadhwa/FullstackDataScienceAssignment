{
  "nbformat": 4,
  "nbformat_minor": 0,
  "metadata": {
    "colab": {
      "provenance": []
    },
    "kernelspec": {
      "name": "python3",
      "display_name": "Python 3"
    },
    "language_info": {
      "name": "python"
    }
  },
  "cells": [
    {
      "cell_type": "markdown",
      "source": [
        "1. Create a function to perform basic arithmetic operations that includes\n",
        "addition, subtraction, multiplication and division on a string number\n",
        "\n",
        "(e.g. &quot;12 +24&quot; or &quot;23 - 21&quot; or &quot;12 // 12&quot; or &quot;12 * 21&quot;).\n",
        "\n",
        "Here, we have 1 followed by a space, operator followed by another space\n",
        "and 2. For the challenge, we are going to have only two numbers between 1\n",
        "valid operator. The return value should be a number.\n",
        "\n",
        "eval() is not allowed. In case of division, whenever the second number equals\n",
        "&quot;0&quot; return -1.\n",
        "\n",
        "For example:\n",
        "\n",
        "&quot;15 // 0&quot; ➞ -1\n",
        "\n",
        "Examples\n",
        "arithmetic_operation(&quot;12 + 12&quot;) ➞ 24 // 12 + 12 = 24\n",
        "arithmetic_operation(&quot;12 - 12&quot;) ➞ 24 // 12 - 12 = 0\n",
        "arithmetic_operation(&quot;12 * 12&quot;) ➞ 144 // 12 * 12 = 144\n",
        "arithmetic_operation(&quot;12 // 0&quot;) ➞ -1 // 12 / 0 = -1"
      ],
      "metadata": {
        "id": "BpczA-qxqh5e"
      }
    },
    {
      "cell_type": "code",
      "source": [
        "import operator\n",
        "\n",
        "ops = {'+':operator.add,'-':operator.sub,'*':operator.mul,'//':operator.floordiv}\n",
        "\n",
        "def arithmetic_operation(in_string):\n",
        "    in_list = in_string.split(\" \")\n",
        "    output = ops[in_list[1]](int(in_list[0]),int(in_list[2])) if int(in_list[2]) != 0 else -1\n",
        "    print(f'arithmetic_operation({in_list[0]} {in_list[1]} {in_list[2]}) ➞ {output}')\n",
        "    \n",
        "arithmetic_operation(\"12 + 12\")\n",
        "arithmetic_operation(\"12 - 12\")\n",
        "arithmetic_operation(\"12 * 12\")\n",
        "arithmetic_operation(\"12 // 0\")"
      ],
      "metadata": {
        "colab": {
          "base_uri": "https://localhost:8080/"
        },
        "id": "2CREoBuJrAYh",
        "outputId": "e7a01965-43d2-40a1-8b64-5c4434b5e28c"
      },
      "execution_count": 1,
      "outputs": [
        {
          "output_type": "stream",
          "name": "stdout",
          "text": [
            "arithmetic_operation(12 + 12) ➞ 24\n",
            "arithmetic_operation(12 - 12) ➞ 0\n",
            "arithmetic_operation(12 * 12) ➞ 144\n",
            "arithmetic_operation(12 // 0) ➞ -1\n"
          ]
        }
      ]
    },
    {
      "cell_type": "markdown",
      "source": [
        "2. Write a function that takes the coordinates of three points in the form of a\n",
        "2d array and returns the perimeter of the triangle. The given points are the\n",
        "vertices of a triangle on a two-dimensional plane.\n",
        "\n",
        "Examples\n",
        "perimeter( [ [15, 7], [5, 22], [11, 1] ] ) ➞ 47.08\n",
        "\n",
        "perimeter( [ [0, 0], [0, 1], [1, 0] ] ) ➞ 3.42\n",
        "\n",
        "perimeter( [ [-10, -10], [10, 10 ], [-10, 10] ] ) ➞ 68.28"
      ],
      "metadata": {
        "id": "rgQ_UKObrRk_"
      }
    },
    {
      "cell_type": "code",
      "source": [
        "import math\n",
        "\n",
        "def distance(a,b):\n",
        "    return math.sqrt(pow((b[1]-a[1]),2)+pow((b[0]-a[0]),2))\n",
        "\n",
        "def perimeter(in_array):\n",
        "    perimeter = []\n",
        "    for ele in range(len(in_array)):\n",
        "        if ele == len(in_array)-1:\n",
        "            perimeter.append(distance(in_array[ele],in_array[0]))\n",
        "        else:\n",
        "            perimeter.append(distance(in_array[ele],in_array[ele+1]))\n",
        "    print(f'perimeter({in_array}) ➞ {sum(perimeter):.2f}')\n",
        "    \n",
        "perimeter([[15,7],[5,22],[11,1]])\n",
        "perimeter([[0,0],[0,1],[1,0]])\n",
        "perimeter([[-10,-10],[10,10],[-10,10]])"
      ],
      "metadata": {
        "colab": {
          "base_uri": "https://localhost:8080/"
        },
        "id": "AWf04sderW5o",
        "outputId": "2b6901e9-8635-46f3-d931-601da7a3d155"
      },
      "execution_count": 2,
      "outputs": [
        {
          "output_type": "stream",
          "name": "stdout",
          "text": [
            "perimeter([[15, 7], [5, 22], [11, 1]]) ➞ 47.08\n",
            "perimeter([[0, 0], [0, 1], [1, 0]]) ➞ 3.41\n",
            "perimeter([[-10, -10], [10, 10], [-10, 10]]) ➞ 68.28\n"
          ]
        }
      ]
    },
    {
      "cell_type": "markdown",
      "source": [
        "3. A city skyline can be represented as a 2-D list with 1s representing\n",
        "buildings. In the example below, the height of the tallest building is 4 (second-\n",
        "most right column).\n",
        "[[0, 0, 0, 0, 0, 0],\n",
        "[0, 0, 0, 0, 1, 0],\n",
        "[0, 0, 1, 0, 1, 0],\n",
        "[0, 1, 1, 1, 1, 0],\n",
        "\n",
        "[1, 1, 1, 1, 1, 1]]\n",
        "Create a function that takes a skyline (2-D list of 0&#39;s and 1&#39;s) and returns the\n",
        "height of the tallest skyscraper.\n",
        "\n",
        "Examples\n",
        "tallest_skyscraper([\n",
        "[0, 0, 0, 0],\n",
        "[0, 1, 0, 0],\n",
        "[0, 1, 1, 0],\n",
        "[1, 1, 1, 1]\n",
        "]) ➞ 3\n",
        "\n",
        "tallest_skyscraper([\n",
        "[0, 1, 0, 0],\n",
        "[0, 1, 0, 0],\n",
        "[0, 1, 1, 0],\n",
        "[1, 1, 1, 1]\n",
        "]) ➞ \n",
        "\n",
        "tallest_skyscraper([\n",
        "[0, 0, 0, 0],\n",
        "[0, 0, 0, 0],\n",
        "[1, 1, 1, 0],\n",
        "[1, 1, 1, 1]\n",
        "]) ➞ 2"
      ],
      "metadata": {
        "id": "T02BdBdrriMq"
      }
    },
    {
      "cell_type": "code",
      "source": [
        "def tallest_skyscraper(in_list):\n",
        "    out_list = []\n",
        "    for num in range(len(in_list)):\n",
        "        count = 0\n",
        "        for ele in range(len(in_list[num])):\n",
        "            count += in_list[ele][num]\n",
        "        out_list.append(count)\n",
        "    print(f'tallest_skyscraper({in_list}) ➞ {max(out_list)}')\n",
        "        \n",
        "tallest_skyscraper([[0, 0, 0, 0],[0, 1, 0, 0],[0, 1, 1, 0],[1, 1, 1, 1]])\n",
        "tallest_skyscraper([[0, 1, 0, 0],[0, 1, 0, 0],[0, 1, 1, 0],[1, 1, 1, 1]])\n",
        "tallest_skyscraper([[0, 0, 0, 0],[0, 0, 0, 0],[1, 1, 1, 0],[1, 1, 1, 1]])"
      ],
      "metadata": {
        "colab": {
          "base_uri": "https://localhost:8080/"
        },
        "id": "Ew1b6kwnrqwE",
        "outputId": "44ef1448-61cc-4ced-806d-19799843967c"
      },
      "execution_count": 3,
      "outputs": [
        {
          "output_type": "stream",
          "name": "stdout",
          "text": [
            "tallest_skyscraper([[0, 0, 0, 0], [0, 1, 0, 0], [0, 1, 1, 0], [1, 1, 1, 1]]) ➞ 3\n",
            "tallest_skyscraper([[0, 1, 0, 0], [0, 1, 0, 0], [0, 1, 1, 0], [1, 1, 1, 1]]) ➞ 4\n",
            "tallest_skyscraper([[0, 0, 0, 0], [0, 0, 0, 0], [1, 1, 1, 0], [1, 1, 1, 1]]) ➞ 2\n"
          ]
        }
      ]
    },
    {
      "cell_type": "markdown",
      "source": [
        "4. A financial institution provides professional services to banks and claims\n",
        "charges from the customers based on the number of man-days provided.\n",
        "Internally, it has set a scheme to motivate and reward staff to meet and\n",
        "exceed targeted billable utilization and revenues by paying a bonus for each\n",
        "day claimed from customers in excess of a threshold target.\n",
        "This quarterly scheme is calculated with a threshold target of 32 days per\n",
        "quarter, and the incentive payment for each billable day in excess of such\n",
        "threshold target is shown as follows:\n",
        "\n",
        "Days Bonus\n",
        "0 to 32 days Zero\n",
        "33 to 40 days SGD$325 per billable day\n",
        "41 to 48 days SGD$550 per billable day\n",
        "Greater than 48 days SGD$600 per billable day\n",
        "\n",
        "Please note that incentive payment is calculated progressively. As an\n",
        "example, if an employee reached total billable days of 45 in a quarter, his/her\n",
        "incentive payment is computed as follows:\n",
        "32*0 + 8*325 + 5*550 = 5350\n",
        "Write a function to read the billable days of an employee and return the bonus\n",
        "he/she has obtained in that quarter.\n",
        "\n",
        "Examples\n",
        "bonus(15) ➞ 0\n",
        "\n",
        "bonus(37) ➞ 1625\n",
        "\n",
        "bonus(50) ➞ 8200"
      ],
      "metadata": {
        "id": "k0iagn5zrvXq"
      }
    },
    {
      "cell_type": "code",
      "source": [
        "def bonus(int_num):\n",
        "    if int_num > 48:\n",
        "        output = 0+(8*325)+(8*550)+((int_num-48)*600)\n",
        "    elif int_num < 48 and int_num >= 41:\n",
        "        output = 0+(8*325)+((int_num-41+1)*550)\n",
        "    elif int_num >33 and int_num <= 40:\n",
        "        output = 0+((int_num-33+1)*325)\n",
        "    else:\n",
        "        output = 0\n",
        "    print(f'bonus({int_num}) ➞ {output}')\n",
        "        \n",
        "bonus(15)\n",
        "bonus(44)\n",
        "bonus(37)\n",
        "bonus(50)\n",
        "bonus(60)"
      ],
      "metadata": {
        "colab": {
          "base_uri": "https://localhost:8080/"
        },
        "id": "NRkye_wbr8ka",
        "outputId": "6e2b45ef-ae78-4b9b-f123-95d1a6d50e08"
      },
      "execution_count": 4,
      "outputs": [
        {
          "output_type": "stream",
          "name": "stdout",
          "text": [
            "bonus(15) ➞ 0\n",
            "bonus(44) ➞ 4800\n",
            "bonus(37) ➞ 1625\n",
            "bonus(50) ➞ 8200\n",
            "bonus(60) ➞ 14200\n"
          ]
        }
      ]
    },
    {
      "cell_type": "markdown",
      "source": [
        "5. A number is said to be Disarium if the sum of its digits raised to their\n",
        "respective positions is the number itself.\n",
        "Create a function that determines whether a number is a Disarium or not.\n",
        "\n",
        "Examples\n",
        "is_disarium(75) ➞ False\n",
        "# 7^1 + 5^2 = 7 + 25 = 32\n",
        "is_disarium(135) ➞ True\n",
        "# 1^1 + 3^2 + 5^3 = 1 + 9 + 125 = 135\n",
        "is_disarium(544) ➞ False\n",
        "\n",
        "is_disarium(518) ➞ True\n",
        "\n",
        "is_disarium(466) ➞ False\n",
        "\n",
        "is_disarium(8) ➞ True"
      ],
      "metadata": {
        "id": "pzF4t989sJiO"
      }
    },
    {
      "cell_type": "code",
      "source": [
        "def is_disarium(in_num):\n",
        "    sum = 0\n",
        "    output = False\n",
        "    for ele in range(len(str(in_num))):\n",
        "        sum += int(str(in_num)[ele])**(ele+1)\n",
        "    if in_num == sum:\n",
        "        output=True\n",
        "    print(f'is_disarium({in_num}) ➞ {output}')\n",
        "    \n",
        "is_disarium(75)\n",
        "is_disarium(135)\n",
        "is_disarium(544)\n",
        "is_disarium(518)\n",
        "is_disarium(466)\n",
        "is_disarium(8)"
      ],
      "metadata": {
        "colab": {
          "base_uri": "https://localhost:8080/"
        },
        "id": "RTA1KpahsPTg",
        "outputId": "0c5e2a4d-4a54-4205-b7c6-6545f4f9fe1e"
      },
      "execution_count": 5,
      "outputs": [
        {
          "output_type": "stream",
          "name": "stdout",
          "text": [
            "is_disarium(75) ➞ False\n",
            "is_disarium(135) ➞ True\n",
            "is_disarium(544) ➞ False\n",
            "is_disarium(518) ➞ True\n",
            "is_disarium(466) ➞ False\n",
            "is_disarium(8) ➞ True\n"
          ]
        }
      ]
    }
  ]
}