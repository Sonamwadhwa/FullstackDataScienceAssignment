{
  "nbformat": 4,
  "nbformat_minor": 0,
  "metadata": {
    "colab": {
      "provenance": []
    },
    "kernelspec": {
      "name": "python3",
      "display_name": "Python 3"
    },
    "language_info": {
      "name": "python"
    }
  },
  "cells": [
    {
      "cell_type": "markdown",
      "source": [
        "1) Create a function that transposes a 2D matrix.\n",
        "Examples:\n",
        "\n",
        "transpose_matrix([ [1, 1, 1], [2, 2, 2], [3, 3, 3] ]) ➞ [ [1, 2, 3], [1, 2, 3], [1, 2, 3] ]\n",
        "\n",
        "transpose_matrix([ [5, 5], [6, 7], [9, 1] ]) ➞ [ [5, 6, 9], [5, 7, 1] ]"
      ],
      "metadata": {
        "id": "jCqRkIn_2W26"
      }
    },
    {
      "cell_type": "code",
      "source": [
        "def transpose_matrix(in_list):\n",
        "    output = []\n",
        "    for ele_1 in range(len(in_list[0])):\n",
        "        temp = []\n",
        "        for ele_2 in in_list:\n",
        "            temp.append(ele_2[ele_1])\n",
        "        output.append(temp)\n",
        "    print(f'transpose_matrix({in_list}) ➞ {output}')\n",
        "\n",
        "transpose_matrix([[1, 1, 1],[2, 2, 2],[3, 3, 3]])\n",
        "transpose_matrix([[5, 5],[6, 7],[9, 1]])"
      ],
      "metadata": {
        "colab": {
          "base_uri": "https://localhost:8080/"
        },
        "id": "F_PUYZ512aKC",
        "outputId": "34f71265-e8c1-4e6c-e83b-77be4b9c8362"
      },
      "execution_count": 1,
      "outputs": [
        {
          "output_type": "stream",
          "name": "stdout",
          "text": [
            "transpose_matrix([[1, 1, 1], [2, 2, 2], [3, 3, 3]]) ➞ [[1, 2, 3], [1, 2, 3], [1, 2, 3]]\n",
            "transpose_matrix([[5, 5], [6, 7], [9, 1]]) ➞ [[5, 6, 9], [5, 7, 1]]\n"
          ]
        }
      ]
    },
    {
      "cell_type": "markdown",
      "source": [
        "2. Create a function that determines whether a string is a valid hex code.\n",
        "A hex code must begin with a pound key # and is exactly 6 characters in\n",
        "length. Each character must be a digit from 0-9 or an alphabetic character\n",
        "from A-F. All alphabetic characters may be uppercase or lowercase.\n",
        "\n",
        "Examples\n",
        "\n",
        "is_valid_hex_code(&quot;#CD5C5C&quot;) ➞ True\n",
        "\n",
        "is_valid_hex_code(&quot;#EAECEE&quot;) ➞ True\n",
        "\n",
        "is_valid_hex_code(&quot;#eaecee&quot;) ➞ True\n",
        "\n",
        "is_valid_hex_code(&quot;#CD5C58C&quot;) ➞ False\n",
        "# Length exceeds \n",
        "\n",
        "is_valid_hex_code(&quot;#CD5C5Z&quot;) ➞ False\n",
        "# Not all alphabetic characters in A-F\n",
        "\n",
        "is_valid_hex_code(&quot;#CD5C&amp;C&quot;) ➞ False\n",
        "# Contains unacceptable character\n",
        "\n",
        "is_valid_hex_code(&quot;CD5C5C&quot;) ➞ False\n",
        "# Missing #"
      ],
      "metadata": {
        "id": "u3fxdBC84f-o"
      }
    },
    {
      "cell_type": "code",
      "source": [
        "def is_valid_hex_code(in_string):\n",
        "    out_string = True\n",
        "    for ele in in_string:\n",
        "        if ele.lower() not in '#abcdef0123456789' or len(in_string) != 7:\n",
        "            out_string = False\n",
        "    print(f'is_valid_hex_code({in_string}) ➞ {out_string}')\n",
        "\n",
        "is_valid_hex_code(\"#CD5C5C\")\n",
        "is_valid_hex_code(\"#EAECEE\")\n",
        "is_valid_hex_code(\"#eaecee\")\n",
        "is_valid_hex_code(\"#CD5C58C\")\n",
        "is_valid_hex_code(\"#CD5C5Z\")\n",
        "is_valid_hex_code(\"#CD5C&C\")\n",
        "is_valid_hex_code(\"CD5C5C\")"
      ],
      "metadata": {
        "colab": {
          "base_uri": "https://localhost:8080/"
        },
        "id": "J-UpM5xm7QOO",
        "outputId": "39602fce-23b1-432d-e78a-b7df49db5168"
      },
      "execution_count": 2,
      "outputs": [
        {
          "output_type": "stream",
          "name": "stdout",
          "text": [
            "is_valid_hex_code(#CD5C5C) ➞ True\n",
            "is_valid_hex_code(#EAECEE) ➞ True\n",
            "is_valid_hex_code(#eaecee) ➞ True\n",
            "is_valid_hex_code(#CD5C58C) ➞ False\n",
            "is_valid_hex_code(#CD5C5Z) ➞ False\n",
            "is_valid_hex_code(#CD5C&C) ➞ False\n",
            "is_valid_hex_code(CD5C5C) ➞ False\n"
          ]
        }
      ]
    },
    {
      "cell_type": "markdown",
      "source": [
        "3. Given a list of math equations (given as strings), return the percentage of\n",
        "correct answers as a string. Round to the nearest whole number.\n",
        "\n",
        "Examples\n",
        "\n",
        "mark_maths([&quot;2+2=4&quot;, &quot;3+2=5&quot;, &quot;10-3=3&quot;, &quot;5+5=10&quot;]) ➞ &quot;75%&quot;\n",
        "\n",
        "mark_maths([&quot;1-2=-2&quot;]), &quot;0%&quot;\n",
        "\n",
        "mark_maths([&quot;2+3=5&quot;, &quot;4+4=9&quot;, &quot;3-1=2&quot;]) ➞ &quot;67%&quot;"
      ],
      "metadata": {
        "id": "FYl6hbzA7V05"
      }
    },
    {
      "cell_type": "code",
      "source": [
        "import math\n",
        "def mark_maths(in_list):\n",
        "    out_list = []\n",
        "    for ele in in_list:\n",
        "        ele = ele.split(\"=\")\n",
        "        out_list.append(eval(ele[0]) == int(ele[1])) \n",
        "    print(f'mark_maths({in_list}) ➞ {str(math.ceil((sum(out_list)/len(out_list))*100))}%')\n",
        "        \n",
        "mark_maths([\"2+2=4\", \"3+2=5\", \"10-3=3\", \"5+5=10\"])\n",
        "mark_maths([\"1-2=-2\"])\n",
        "mark_maths([\"2+3=5\", \"4+4=9\", \"3-1=2\"])"
      ],
      "metadata": {
        "colab": {
          "base_uri": "https://localhost:8080/"
        },
        "id": "xpGmqC1i8Kiq",
        "outputId": "c2f95052-713a-4689-eb1e-5af109a48c15"
      },
      "execution_count": 3,
      "outputs": [
        {
          "output_type": "stream",
          "name": "stdout",
          "text": [
            "mark_maths(['2+2=4', '3+2=5', '10-3=3', '5+5=10']) ➞ 75%\n",
            "mark_maths(['1-2=-2']) ➞ 0%\n",
            "mark_maths(['2+3=5', '4+4=9', '3-1=2']) ➞ 67%\n"
          ]
        }
      ]
    },
    {
      "cell_type": "markdown",
      "source": [
        "4. There are two players, Alice and Bob, each with a 3-by-3 grid. A referee\n",
        "tells Alice to fill out one particular row in the grid (say the second row) by\n",
        "putting either a 1 or a 0 in each box, such that the sum of the numbers in that\n",
        "row is odd. The referee tells Bob to fill out one column in the grid (say the first column) by putting either a 1 or a 0 in each box, such that the sum of the\n",
        "numbers in that column is even.\n",
        "\n",
        "Alice and Bob win the game if Alice’s numbers give an odd sum, Bob’s give\n",
        "an even sum, and (most important) they’ve each written down the same\n",
        "number in the one square where their row and column intersect.\n",
        "\n",
        "Examples\n",
        "magic_square_game([2, &quot;100&quot;], [1, &quot;101&quot;]) ➞ False\n",
        "\n",
        "magic_square_game([2, &quot;001&quot;], [1, &quot;101&quot;]) ➞ True\n",
        "\n",
        "magic_square_game([3, &quot;111&quot;], [2, &quot;011&quot;]) ➞ True\n",
        "\n",
        "magic_square_game([1, &quot;010&quot;], [3, &quot;101&quot;]) ➞ False\n",
        "# Two lists, Alice [row, &quot;her choice&quot;], Bob [column, &quot;his choice&quot;]"
      ],
      "metadata": {
        "id": "kgo0PIiL8QuN"
      }
    },
    {
      "cell_type": "code",
      "source": [
        "def magic_square_game(in_one,in_two):\n",
        "    output = False\n",
        "    if in_two[1][in_one[0]-1] == in_one[1][in_two[0]-1]:\n",
        "        output = True\n",
        "    print(f'magic_square_game{in_one,in_two} ➞ {output}')\n",
        "    \n",
        "magic_square_game([2, \"100\"], [1, \"101\"])\n",
        "magic_square_game([2, \"001\"], [1, \"101\"]) \n",
        "magic_square_game([3, \"111\"], [2, \"011\"]) \n",
        "magic_square_game([1, \"010\"], [3, \"101\"]) "
      ],
      "metadata": {
        "colab": {
          "base_uri": "https://localhost:8080/"
        },
        "id": "AuepBXXm8aVL",
        "outputId": "8d839093-2772-48bd-b286-8373ecffa848"
      },
      "execution_count": 4,
      "outputs": [
        {
          "output_type": "stream",
          "name": "stdout",
          "text": [
            "magic_square_game([2, '100'], [1, '101']) ➞ False\n",
            "magic_square_game([2, '001'], [1, '101']) ➞ True\n",
            "magic_square_game([3, '111'], [2, '011']) ➞ True\n",
            "magic_square_game([1, '010'], [3, '101']) ➞ False\n"
          ]
        }
      ]
    },
    {
      "cell_type": "markdown",
      "source": [
        "5. From point A, an object is moving towards point B at constant velocity va\n",
        "(in km/hr). From point B, another object is moving towards point A at constant\n",
        "velocity vb (in km/hr). Knowing this and the distance between point A and B\n",
        "(in km), write a function that returns how much time passes until both objects\n",
        "meet.\n",
        "Format the output like this:&quot;2h 23min 34s&quot;\n",
        "\n",
        "Examples\n",
        "\n",
        "lets_meet(100, 10, 30) ➞ &quot;2h 30min 0s&quot;\n",
        "\n",
        "lets_meet(280, 70, 80) ➞ &quot;1h 52min 0s&quot;\n",
        "\n",
        "lets_meet(90, 75, 65) ➞ &quot;0h 38min 34s&quot;"
      ],
      "metadata": {
        "id": "aIvPPidh-6Rb"
      }
    },
    {
      "cell_type": "code",
      "source": [
        "import math\n",
        "def lets_meet(in_dist,in_va,in_vb):\n",
        "    total_time = in_dist/(in_va+in_vb)\n",
        "    Hours = math.floor(total_time) \n",
        "    Minutes = math.floor((total_time-Hours)*60)\n",
        "    Seconds = math.floor(((((total_time)-Hours)*60)-Minutes)*60)\n",
        "    print(f'lets_meet{in_dist,in_va,in_vb} ➞ {Hours}h {Minutes}min {Seconds}s')\n",
        "    \n",
        "lets_meet(100, 10, 30)\n",
        "lets_meet(280, 70, 80)\n",
        "lets_meet(90, 75, 65)"
      ],
      "metadata": {
        "colab": {
          "base_uri": "https://localhost:8080/"
        },
        "id": "L_W3jvhs--md",
        "outputId": "4e45b6d2-d9d4-4ef4-ac46-02b1fed4cbd9"
      },
      "execution_count": 5,
      "outputs": [
        {
          "output_type": "stream",
          "name": "stdout",
          "text": [
            "lets_meet(100, 10, 30) ➞ 2h 30min 0s\n",
            "lets_meet(280, 70, 80) ➞ 1h 52min 0s\n",
            "lets_meet(90, 75, 65) ➞ 0h 38min 34s\n"
          ]
        }
      ]
    }
  ]
}