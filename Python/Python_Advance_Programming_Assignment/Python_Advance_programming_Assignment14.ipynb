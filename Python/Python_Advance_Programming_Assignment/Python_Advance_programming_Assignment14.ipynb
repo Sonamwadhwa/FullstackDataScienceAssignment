{
  "nbformat": 4,
  "nbformat_minor": 0,
  "metadata": {
    "colab": {
      "provenance": []
    },
    "kernelspec": {
      "name": "python3",
      "display_name": "Python 3"
    },
    "language_info": {
      "name": "python"
    }
  },
  "cells": [
    {
      "cell_type": "markdown",
      "source": [
        "1. Given a list of numbers, create a function that removes 25% from every\n",
        "number in the list except the smallest number, and adds the total amount\n",
        "removed to the smallest number.\n",
        "\n",
        "Examples\n",
        "\n",
        "show_the_love([4, 1, 4]) ➞ [3, 3, 3]\n",
        "\n",
        "show_the_love([16, 10, 8]) ➞ [12, 7.5, 14.5]\n",
        "\n",
        "show_the_love([2, 100]) ➞ [27, 75]\n"
      ],
      "metadata": {
        "id": "IB1CkdZeFZXj"
      }
    },
    {
      "cell_type": "code",
      "source": [
        "def show_the_love(in_list):\n",
        "    out_list = in_list.copy()\n",
        "    sum_num = 0\n",
        "    for ele in range(len(out_list)):\n",
        "        if out_list[ele] is not min(out_list):\n",
        "            sum_num += out_list[ele]/4\n",
        "            out_list[ele] =  out_list[ele]-(out_list[ele]/4)\n",
        "    out_list[out_list.index(min(out_list))] = sum_num +min(out_list)\n",
        "    print(f'show_the_love({in_list}) ➞ {out_list}')\n",
        "            \n",
        "show_the_love([4, 1, 4])\n",
        "show_the_love([16, 10, 8])\n",
        "show_the_love([2, 100])"
      ],
      "metadata": {
        "id": "8jhCfFFGFbgl",
        "colab": {
          "base_uri": "https://localhost:8080/"
        },
        "outputId": "124fccde-597c-486b-aa0d-b50199091c7c"
      },
      "execution_count": 1,
      "outputs": [
        {
          "output_type": "stream",
          "name": "stdout",
          "text": [
            "show_the_love([4, 1, 4]) ➞ [3.0, 3.0, 3.0]\n",
            "show_the_love([16, 10, 8]) ➞ [12.0, 7.5, 14.5]\n",
            "show_the_love([2, 100]) ➞ [27.0, 75.0]\n"
          ]
        }
      ]
    },
    {
      "cell_type": "markdown",
      "source": [
        "2. Create a function that takes in two words as input and returns a list of three elements, in the following order:\n",
        "\n",
        "1.Shared letters between two words.\n",
        "\n",
        "2.Letters unique to word 1.\n",
        "\n",
        "3.Letters unique to word 2.\n",
        "\n",
        "Each element should have unique letters, and have each letter be\n",
        "alphabetically sorted.\n",
        "\n",
        "Examples\n",
        "\n",
        "letters(&quot;sharp&quot;, &quot;soap&quot;) ➞ [&quot;aps&quot;, &quot;hr&quot;, &quot;o&quot;]\n",
        "letters(&quot;board&quot;, &quot;bored&quot;) ➞ [&quot;bdor&quot;, &quot;a&quot;, &quot;e&quot;]\n",
        "letters(&quot;happiness&quot;, &quot;envelope&quot;) ➞ [&quot;enp&quot;, &quot;ahis&quot;, &quot;lov&quot;]\n",
        "letters(&quot;kerfuffle&quot;, &quot;fluffy&quot;) ➞ [&quot;flu&quot;, &quot;ekr&quot;, &quot;y&quot;]\n",
        "\n",
        "# Even with multiple matching letters (e.g. 3 f&#39;s), there should\n",
        "# only exist a single &quot;f&quot; in your first element.\n",
        "letters(&quot;match&quot;, &quot;ham&quot;) ➞ [&quot;ahm&quot;, &quot;ct&quot;, &quot;&quot;]\n",
        "# &quot;ham&quot; does not contain any letters that are not found already\n",
        "# in &quot;match&quot;."
      ],
      "metadata": {
        "id": "6iKSeigYddkR"
      }
    },
    {
      "cell_type": "code",
      "source": [
        "def letters(s_one,s_two):\n",
        "    s_one_set = set(s_one)\n",
        "    s_two_set = set(s_two)\n",
        "    out_list = []\n",
        "    out_list.append(''.join(sorted(s_one_set.intersection(s_two_set))))\n",
        "    out_list.append(''.join(sorted(s_one_set.difference(s_two_set))))\n",
        "    out_list.append(''.join(sorted(s_two_set.difference(s_one_set)))) \n",
        "    print(f'letters{s_one,s_two} ➞ {out_list}')\n",
        "    \n",
        "letters(\"sharp\", \"soap\")\n",
        "letters(\"board\", \"bored\")\n",
        "letters(\"happiness\", \"envelope\")\n",
        "letters(\"kerfuffle\", \"fluffy\")\n",
        "letters(\"match\", \"ham\")"
      ],
      "metadata": {
        "colab": {
          "base_uri": "https://localhost:8080/"
        },
        "id": "md7pptViegll",
        "outputId": "7df911a2-389d-4d54-d486-72f251ff7048"
      },
      "execution_count": 2,
      "outputs": [
        {
          "output_type": "stream",
          "name": "stdout",
          "text": [
            "letters('sharp', 'soap') ➞ ['aps', 'hr', 'o']\n",
            "letters('board', 'bored') ➞ ['bdor', 'a', 'e']\n",
            "letters('happiness', 'envelope') ➞ ['enp', 'ahis', 'lov']\n",
            "letters('kerfuffle', 'fluffy') ➞ ['flu', 'ekr', 'y']\n",
            "letters('match', 'ham') ➞ ['ahm', 'ct', '']\n"
          ]
        }
      ]
    },
    {
      "cell_type": "markdown",
      "source": [
        "3. Write a function that pairs the first number in an array with the last, the\n",
        "second number with the second to last, etc.\n",
        "\n",
        "Examples\n",
        "pairs([1, 2, 3, 4, 5, 6, 7]) ➞ [[1, 7], [2, 6], [3, 5], [4, 4]]\n",
        "\n",
        "pairs([1, 2, 3, 4, 5, 6]) ➞ [[1, 6], [2, 5], [3, 4]]\n",
        "\n",
        "pairs([5, 9, 8, 1, 2]) ➞ [[5, 2], [9, 1], [8, 8]]\n",
        "\n",
        "pairs([]) ➞ []"
      ],
      "metadata": {
        "id": "Zowr8xoYe3P5"
      }
    },
    {
      "cell_type": "code",
      "source": [
        "def pairs(in_list):\n",
        "    in_list_clone = in_list.copy()\n",
        "    output = []\n",
        "    while True:\n",
        "        if len(in_list) > 0:\n",
        "            if len(in_list) == 1:\n",
        "                output.append([in_list[0],in_list.pop(0)])\n",
        "            else:\n",
        "                output.append([in_list.pop(0),in_list.pop(-1)])\n",
        "        else:\n",
        "            break\n",
        "    print(f'pairs({in_list_clone}) ➞ {output}')\n",
        "            \n",
        "pairs([1, 2, 3, 4, 5, 6, 7])\n",
        "pairs([1, 2, 3, 4, 5, 6])\n",
        "pairs([5, 9, 8, 1, 2])\n",
        "pairs([])"
      ],
      "metadata": {
        "colab": {
          "base_uri": "https://localhost:8080/"
        },
        "id": "Raqcsqd5fFiA",
        "outputId": "9ace2cdb-88de-45e9-aa6e-3509bd9e2de3"
      },
      "execution_count": 4,
      "outputs": [
        {
          "output_type": "stream",
          "name": "stdout",
          "text": [
            "pairs([1, 2, 3, 4, 5, 6, 7]) ➞ [[1, 7], [2, 6], [3, 5], [4, 4]]\n",
            "pairs([1, 2, 3, 4, 5, 6]) ➞ [[1, 6], [2, 5], [3, 4]]\n",
            "pairs([5, 9, 8, 1, 2]) ➞ [[5, 2], [9, 1], [8, 8]]\n",
            "pairs([]) ➞ []\n"
          ]
        }
      ]
    },
    {
      "cell_type": "markdown",
      "source": [
        "4. Write a function that adds two numbers. The catch, however, is that the\n",
        "numbers will be strings.\n",
        "\n",
        "Examples\n",
        "\n",
        "add_str_nums(&quot;4&quot;, &quot;5&quot;) ➞ &quot;9&quot;\n",
        "\n",
        "add_str_nums(&quot;abcdefg&quot;, &quot;3&quot;) ➞ &quot;-1&quot;\n",
        "\n",
        "add_str_nums(&quot;1&quot;, &quot;&quot;) ➞ &quot;1&quot;\n",
        "\n",
        "add_str_nums(&quot;1874682736267235927359283579235789257&quot;,\n",
        "\n",
        "&quot;32652983572985729&quot;) ➞ &quot;1874682736267235927391936562808774986&quot;"
      ],
      "metadata": {
        "id": "6yVTq1M2fTIO"
      }
    },
    {
      "cell_type": "code",
      "source": [
        "def add_str_nums(in_one,in_two):\n",
        "    in_one = in_one if len(in_one) > 0 else \"0\"\n",
        "    in_two = in_two if len(in_two) > 0 else \"0\"\n",
        "    if in_one.isdigit() == False or in_two.isdigit() == False:\n",
        "        output = -1\n",
        "    else: \n",
        "        output = int(in_one)+int(in_two)\n",
        "    print(f'add_str_nums{in_one,in_two} ➞ {str(output)}')\n",
        "        \n",
        "add_str_nums(\"4\", \"5\")\n",
        "add_str_nums(\"abcdefg\", \"3\")\n",
        "add_str_nums(\"1\", \"\")\n",
        "add_str_nums(\"1874682736267235927359283579235789257\", \"32652983572985729\")"
      ],
      "metadata": {
        "colab": {
          "base_uri": "https://localhost:8080/"
        },
        "id": "smlG_iSzfe_Q",
        "outputId": "089318f9-7809-4d78-8e4d-c4b6dca06f64"
      },
      "execution_count": 5,
      "outputs": [
        {
          "output_type": "stream",
          "name": "stdout",
          "text": [
            "add_str_nums('4', '5') ➞ 9\n",
            "add_str_nums('abcdefg', '3') ➞ -1\n",
            "add_str_nums('1', '0') ➞ 1\n",
            "add_str_nums('1874682736267235927359283579235789257', '32652983572985729') ➞ 1874682736267235927391936562808774986\n"
          ]
        }
      ]
    },
    {
      "cell_type": "markdown",
      "source": [
        "5. lPaeesh le pemu mnxit ehess rtnisg! Oh, sorry, that was supposed to say:\n",
        "Please help me unmix these strings!\n",
        "\n",
        "Somehow my strings have all become mixed up; every pair of characters has\n",
        "been swapped. Help me undo this so I can understand my strings again.\n",
        "\n",
        "Examples\n",
        "unmix(&quot;123456&quot;) ➞ &quot;214365&quot;\n",
        "\n",
        "unmix(&quot;hTsii s aimex dpus rtni.g&quot;) ➞ &quot;This is a mixed up string.&quot;\n",
        "\n",
        "unmix(&quot;badce&quot;) ➞ &quot;abcde&quot;"
      ],
      "metadata": {
        "id": "BRK5V_5UhJVq"
      }
    },
    {
      "cell_type": "code",
      "source": [
        "def unmix(in_string):\n",
        "    output = ''\n",
        "    for ele in range(0,len(in_string)-1,2):\n",
        "        output += in_string[ele+1]+in_string[ele]\n",
        "        if (len(in_string)%2 != 0 and ele == len(in_string)//2 ):\n",
        "            output += in_string[-1]       \n",
        "    print(f'unmix({in_string}) ➞ {output}')\n",
        "\n",
        "unmix(\"123456\")\n",
        "unmix(\"hTsii  s aimex dpus rtni.g\")\n",
        "unmix(\"badce\")"
      ],
      "metadata": {
        "colab": {
          "base_uri": "https://localhost:8080/"
        },
        "id": "dLISDvzShRQE",
        "outputId": "9f484f83-7454-4ce3-fb2b-24bc92faaeb6"
      },
      "execution_count": 6,
      "outputs": [
        {
          "output_type": "stream",
          "name": "stdout",
          "text": [
            "unmix(123456) ➞ 214365\n",
            "unmix(hTsii  s aimex dpus rtni.g) ➞ This is a mixed up string.\n",
            "unmix(badce) ➞ abcde\n"
          ]
        }
      ]
    }
  ]
}