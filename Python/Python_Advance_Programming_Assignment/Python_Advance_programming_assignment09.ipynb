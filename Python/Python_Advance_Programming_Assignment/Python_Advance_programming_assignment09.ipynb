{
  "nbformat": 4,
  "nbformat_minor": 0,
  "metadata": {
    "colab": {
      "provenance": []
    },
    "kernelspec": {
      "name": "python3",
      "display_name": "Python 3"
    },
    "language_info": {
      "name": "python"
    }
  },
  "cells": [
    {
      "cell_type": "markdown",
      "source": [
        "1. YouTube offers different playback speed options for users. This allows\n",
        "users to increase or decrease the speed of the video content. Given the\n",
        "actual duration and playback speed of the video, calculate the playback\n",
        "duration of the video.\n",
        "\n",
        "Examples\n",
        "playback_duration(&quot;00:30:00&quot;, 2) ➞ &quot;00:15:00&quot;\n",
        "\n",
        "playback_duration(&quot;01:20:00&quot;, 1.5) ➞ &quot;00:53:20&quot;\n",
        "\n",
        "playback_duration(&quot;51:20:09&quot;, 0.5) ➞ &quot;102:40:18&quot;"
      ],
      "metadata": {
        "id": "EpgpZLX6QbnJ"
      }
    },
    {
      "cell_type": "code",
      "source": [
        "def playback_duration(in_time,playback_speed):\n",
        "    time = in_time.split(\":\")\n",
        "    time_in_secs = (3600*int(time[0])+60*int(time[1])+int(time[2]))/playback_speed\n",
        "    f_time_in_hours = str(int(time_in_secs/3600)) if time_in_secs > 3600 else '00'\n",
        "    f_time_in_mins = str(int((time_in_secs%3600)/60)) if (time_in_secs)%3600 > 60 else '00'\n",
        "    f_time_in_secs = str(int((time_in_secs%3600)%60)) if ((time_in_secs)%3600)%60 > 0 else '00'   \n",
        "    output = f'{f_time_in_hours}:{f_time_in_mins}:{f_time_in_secs}'\n",
        "    print(f'playback_duration{in_time, playback_speed} ➞ {output}')\n",
        "    \n",
        "playback_duration(\"00:30:00\", 2)\n",
        "playback_duration(\"01:20:00\", 1.5)\n",
        "playback_duration(\"51:20:09\", 0.5)"
      ],
      "metadata": {
        "colab": {
          "base_uri": "https://localhost:8080/"
        },
        "id": "YjgMkzIIQgIw",
        "outputId": "1b0a2068-7c4f-4d5f-eaea-0a808bf17b5f"
      },
      "execution_count": 1,
      "outputs": [
        {
          "output_type": "stream",
          "name": "stdout",
          "text": [
            "playback_duration('00:30:00', 2) ➞ 00:15:00\n",
            "playback_duration('01:20:00', 1.5) ➞ 00:53:20\n",
            "playback_duration('51:20:09', 0.5) ➞ 102:40:18\n"
          ]
        }
      ]
    },
    {
      "cell_type": "markdown",
      "source": [
        "2. We needs your help to construct a building which will be a pile of n cubes.\n",
        "The cube at the bottom will have a volume of n^3, the cube above will have\n",
        "volume of (n-1)^3 and so on until the top which will have a volume of 1^3.\n",
        "Given the total volume m of the building, can you find the number of cubes n\n",
        "required for the building?\n",
        "In other words, you have to return an integer n such that:\n",
        "n^3 + (n-1)^3 + ... + 1^3 == m\n",
        "Return None if there is no such number.\n",
        "\n",
        "Examples\n",
        "pile_of_cubes(1071225) ➞ 45\n",
        "\n",
        "pile_of_cubes(4183059834009) ➞ \n",
        "\n",
        "pile_of_cubes(16) ➞ None"
      ],
      "metadata": {
        "id": "_NL7D31NS9LP"
      }
    },
    {
      "cell_type": "code",
      "source": [
        "def pile_of_cubes(in_volume):\n",
        "    out_volume = 0\n",
        "    output = 0\n",
        "    for cube in range(1,in_volume):\n",
        "        out_volume += pow(cube,3)\n",
        "        if in_volume <= out_volume:\n",
        "            output = cube if in_volume == out_volume else None\n",
        "            break\n",
        "    print(f'pile_of_cubes({in_volume}) ➞ {output}')\n",
        "\n",
        "pile_of_cubes(1071225)\n",
        "pile_of_cubes(4183059834009)\n",
        "pile_of_cubes(16)"
      ],
      "metadata": {
        "colab": {
          "base_uri": "https://localhost:8080/"
        },
        "id": "tbW0BtOKblRX",
        "outputId": "95ed1e8a-b8b0-40e0-b247-60dd1c37c7da"
      },
      "execution_count": 2,
      "outputs": [
        {
          "output_type": "stream",
          "name": "stdout",
          "text": [
            "pile_of_cubes(1071225) ➞ 45\n",
            "pile_of_cubes(4183059834009) ➞ 2022\n",
            "pile_of_cubes(16) ➞ None\n"
          ]
        }
      ]
    },
    {
      "cell_type": "markdown",
      "source": [
        "3. A fulcrum of a list is an integer such that all elements to the left of it and all\n",
        "elements to the right of it sum to the same value. Write a function that finds\n",
        "the fulcrum of a list.\n",
        "To illustrate:\n",
        "find_fulcrum([3, 1, 5, 2, 4, 6, -1]) ➞ 2\n",
        "// Since [3, 1, 5] and [4, 6, -1] both sum to 9\n",
        "\n",
        "Examples\n",
        "\n",
        "find_fulcrum([1, 2, 4, 9, 10, -10, -9, 3]) ➞ 4\n",
        "\n",
        "find_fulcrum([9, 1, 9]) ➞ 1\n",
        "\n",
        "find_fulcrum([7, -1, 0, -1, 1, 1, 2, 3]) ➞ \n",
        "\n",
        "find_fulcrum([8, 8, 8, 8]) ➞ -1"
      ],
      "metadata": {
        "id": "zDkAD2pqboAe"
      }
    },
    {
      "cell_type": "code",
      "source": [
        "def find_fulcrum(in_list):\n",
        "    output = -1\n",
        "    for ele in in_list:\n",
        "        index_of_ele =in_list.index(ele)\n",
        "        if sum(in_list[:index_of_ele]) == sum(in_list[index_of_ele+1:]):\n",
        "            output = ele\n",
        "            break\n",
        "    print(f'find_fulcrum({in_list}) ➞ {output}')\n",
        "        \n",
        "find_fulcrum([3, 1, 5, 2, 4, 6, -1])\n",
        "find_fulcrum([1, 2, 4, 9, 10, -10, -9, 3])\n",
        "find_fulcrum([9, 1, 9])\n",
        "find_fulcrum([7, -1, 0, -1, 1, 1, 2, 3])\n",
        "find_fulcrum([8, 8, 8, 8])"
      ],
      "metadata": {
        "colab": {
          "base_uri": "https://localhost:8080/"
        },
        "id": "NVi9eU_Sb9j1",
        "outputId": "a45473ad-10b6-4dfe-d8a9-4edeeba14212"
      },
      "execution_count": 3,
      "outputs": [
        {
          "output_type": "stream",
          "name": "stdout",
          "text": [
            "find_fulcrum([3, 1, 5, 2, 4, 6, -1]) ➞ 2\n",
            "find_fulcrum([1, 2, 4, 9, 10, -10, -9, 3]) ➞ 4\n",
            "find_fulcrum([9, 1, 9]) ➞ 1\n",
            "find_fulcrum([7, -1, 0, -1, 1, 1, 2, 3]) ➞ 0\n",
            "find_fulcrum([8, 8, 8, 8]) ➞ -1\n"
          ]
        }
      ]
    },
    {
      "cell_type": "markdown",
      "source": [
        "4. Given a list of integers representing the color of each sock, determine how\n",
        "many pairs of socks with matching colors there are. For example, there are 7\n",
        "socks with colors [1, 2, 1, 2, 1, 3, 2]. There is one pair of color 1 and one of\n",
        "color 2. There are three odd socks left, one of each color. The number of\n",
        "pairs is 2.\n",
        "Create a function that returns an integer representing the number of matching\n",
        "pairs of socks that are available.\n",
        "\n",
        "Examples\n",
        "sock_merchant([10, 20, 20, 10, 10, 30, 50, 10, 20]) ➞ 3\n",
        "\n",
        "sock_merchant([50, 20, 30, 90, 30, 20, 50, 20, 90]) ➞ 4\n",
        "\n",
        "sock_merchant([]) ➞ 0"
      ],
      "metadata": {
        "id": "BlzJOSKncC0t"
      }
    },
    {
      "cell_type": "code",
      "source": [
        "def sock_merchant(in_list):\n",
        "    paired_socks = {}\n",
        "    output = 0\n",
        "    for ele in in_list:\n",
        "        if ele in paired_socks:\n",
        "            paired_socks[ele]+=1\n",
        "        else:\n",
        "            paired_socks[ele]=1\n",
        "    for pair in paired_socks.values():\n",
        "        output += pair//2\n",
        "    print(f'sock_merchant({in_list}) ➞ {output}')\n",
        "    \n",
        "\n",
        "sock_merchant([10, 20, 20, 10, 10, 30, 50, 10, 20])\n",
        "sock_merchant([50, 20, 30, 90, 30, 20, 50, 20, 90])\n",
        "sock_merchant([])"
      ],
      "metadata": {
        "colab": {
          "base_uri": "https://localhost:8080/"
        },
        "id": "0i3_f8iDcLpt",
        "outputId": "f3556c1f-4173-43c3-91ba-eaf7215900d7"
      },
      "execution_count": 4,
      "outputs": [
        {
          "output_type": "stream",
          "name": "stdout",
          "text": [
            "sock_merchant([10, 20, 20, 10, 10, 30, 50, 10, 20]) ➞ 3\n",
            "sock_merchant([50, 20, 30, 90, 30, 20, 50, 20, 90]) ➞ 4\n",
            "sock_merchant([]) ➞ 0\n"
          ]
        }
      ]
    },
    {
      "cell_type": "markdown",
      "source": [
        "5. Create a function that takes a string containing integers as well as other\n",
        "characters and return the sum of the negative integers only.\n",
        "\n",
        "Examples\n",
        "negative_sum(&quot;-12 13%14&amp;-11&quot;) ➞ -23\n",
        "# -12 + -11 = -23\n",
        "negative_sum(&quot;22 13%14&amp;-11-22 13 12&quot;) ➞ -33\n",
        "# -11 + -22 = -33"
      ],
      "metadata": {
        "id": "QJLY9EfQcaUk"
      }
    },
    {
      "cell_type": "code",
      "source": [
        "import re\n",
        "def negative_sum(in_string):\n",
        "    pattern = '-\\d+'\n",
        "    output = sum([int(ele) for ele in re.findall(pattern,in_string)])\n",
        "    print(f'negative_sum(\"{in_string}\") ➞ {output}')\n",
        "    \n",
        "negative_sum(\"-12 13%14&-11\")\n",
        "negative_sum(\"22 13%14&-11-22 13 12\")"
      ],
      "metadata": {
        "colab": {
          "base_uri": "https://localhost:8080/"
        },
        "id": "kR2_uuDrcdE9",
        "outputId": "f9a75499-a7ab-4dca-bebc-a5d1c50779a7"
      },
      "execution_count": 5,
      "outputs": [
        {
          "output_type": "stream",
          "name": "stdout",
          "text": [
            "negative_sum(\"-12 13%14&-11\") ➞ -23\n",
            "negative_sum(\"22 13%14&-11-22 13 12\") ➞ -33\n"
          ]
        }
      ]
    }
  ]
}