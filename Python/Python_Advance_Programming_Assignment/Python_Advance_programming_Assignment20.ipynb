{
  "nbformat": 4,
  "nbformat_minor": 0,
  "metadata": {
    "colab": {
      "provenance": []
    },
    "kernelspec": {
      "name": "python3",
      "display_name": "Python 3"
    },
    "language_info": {
      "name": "python"
    }
  },
  "cells": [
    {
      "cell_type": "markdown",
      "source": [
        "1. Create a function based on the input and output. Look at the examples,\n",
        "there is a pattern.\n",
        "\n",
        "Examples\n",
        "secret(&quot;p.one.two.three&quot;) ➞ &quot;&lt;p class=&#39;one two three&#39;&gt;&lt;/p&gt;&quot;\n",
        "\n",
        "secret(&quot;p.one&quot;) ➞ &quot;&lt;p class=&#39;one&#39;&gt;&lt;/p&gt;&quot;\n",
        "\n",
        "secret(&quot;p.four.five&quot;) ➞ &quot;&lt;p class=&#39;four five&#39;&gt;&lt;/p&gt;&quot;"
      ],
      "metadata": {
        "id": "SgtNfyRzy5yr"
      }
    },
    {
      "cell_type": "code",
      "source": [
        "def secret(in_string):\n",
        "    in_string_clone = in_string\n",
        "    in_string = in_string.split(\".\")\n",
        "    output = f'<{in_string[0]} class=\"{\" \".join(in_string[1:])}\"></{in_string[0]}>'\n",
        "    print(f'secret(\"{in_string_clone}\") ➞ {output}')\n",
        "\n",
        "secret(\"p.one.two.three\")\n",
        "secret(\"p.one\")\n",
        "secret(\"p.four.five\")"
      ],
      "metadata": {
        "colab": {
          "base_uri": "https://localhost:8080/"
        },
        "id": "dXJryAyzy-Cj",
        "outputId": "acc449b0-90b9-40f7-8120-d167de8313e2"
      },
      "execution_count": 1,
      "outputs": [
        {
          "output_type": "stream",
          "name": "stdout",
          "text": [
            "secret(\"p.one.two.three\") ➞ <p class=\"one two three\"></p>\n",
            "secret(\"p.one\") ➞ <p class=\"one\"></p>\n",
            "secret(\"p.four.five\") ➞ <p class=\"four five\"></p>\n"
          ]
        }
      ]
    },
    {
      "cell_type": "markdown",
      "source": [
        "2. Create a function which counts how many lone 1s appear in a given\n",
        "number. Lone means the number doesn&#39;t appear twice or more in a row.\n",
        "\n",
        "Examples\n",
        "\n",
        "count_lone_ones(101) ➞ 2\n",
        "\n",
        "count_lone_ones(1191) ➞ 1\n",
        "\n",
        "count_lone_ones(1111) ➞ 0\n",
        "\n",
        "count_lone_ones(462) ➞ 0"
      ],
      "metadata": {
        "id": "49TWBZlZzYxq"
      }
    },
    {
      "cell_type": "code",
      "source": [
        "import re\n",
        "def count_lone_ones(in_num):\n",
        "    pattern = r\"(?<!1)1(?!1)\"\n",
        "    output = re.findall(pattern,str(in_num))\n",
        "    print(f'coint_lone_ones({in_num}) ➞ {len(output)}')\n",
        "\n",
        "count_lone_ones(101)\n",
        "count_lone_ones(1191)\n",
        "count_lone_ones(1111)\n",
        "count_lone_ones(462)"
      ],
      "metadata": {
        "colab": {
          "base_uri": "https://localhost:8080/"
        },
        "id": "tbxeM6_2zgZk",
        "outputId": "295bcf5c-c7f0-41dd-94de-ad0f0c7cf658"
      },
      "execution_count": 2,
      "outputs": [
        {
          "output_type": "stream",
          "name": "stdout",
          "text": [
            "coint_lone_ones(101) ➞ 2\n",
            "coint_lone_ones(1191) ➞ 1\n",
            "coint_lone_ones(1111) ➞ 0\n",
            "coint_lone_ones(462) ➞ 0\n"
          ]
        }
      ]
    },
    {
      "cell_type": "markdown",
      "source": [
        "3. Write a method that accepts two integer parameters rows and cols. The\n",
        "output is a 2d array of numbers displayed in column-major order, meaning the\n",
        "numbers shown increase sequentially down each column and wrap to the top\n",
        "of the next column to the right once the bottom of the current column is\n",
        "reached.\n",
        "\n",
        "Examples\n",
        "printGrid(3, 6) ➞ [\n",
        "[1, 4, 7, 10, 13, 16],\n",
        "[2, 5, 8, 11, 14, 17],\n",
        "[3, 6, 9, 12, 15, 18]\n",
        "]\n",
        "\n",
        "printGrid(5, 3) ➞ [\n",
        "[1, 6, 11],\n",
        "[2, 7, 12],\n",
        "[3, 8, 13],\n",
        "[4, 9, 14],\n",
        "[5, 10, 15]\n",
        "]\n",
        "\n",
        "printGrid(4, 1) ➞ [\n",
        "[1],\n",
        "[2],\n",
        "[3],\n",
        "[4]\n",
        "]"
      ],
      "metadata": {
        "id": "Ham7qL3-zvJi"
      }
    },
    {
      "cell_type": "code",
      "source": [
        "def printGrid(in_one,in_two):\n",
        "    output = []\n",
        "    for ele_1 in range(in_one):\n",
        "        temp = []\n",
        "        for ele_2 in range(in_two):\n",
        "            temp.append(ele_1+(in_one*ele_2)+1)\n",
        "        output.append(temp)\n",
        "    print(f'printGrid{in_one,in_two} ➞ {output}')\n",
        "\n",
        "printGrid(3, 6)\n",
        "printGrid(5, 3)\n",
        "printGrid(4, 1)"
      ],
      "metadata": {
        "colab": {
          "base_uri": "https://localhost:8080/"
        },
        "id": "xQ9RahHT0Alq",
        "outputId": "c9bc1916-07d9-4051-ceef-40350bab0641"
      },
      "execution_count": 3,
      "outputs": [
        {
          "output_type": "stream",
          "name": "stdout",
          "text": [
            "printGrid(3, 6) ➞ [[1, 4, 7, 10, 13, 16], [2, 5, 8, 11, 14, 17], [3, 6, 9, 12, 15, 18]]\n",
            "printGrid(5, 3) ➞ [[1, 6, 11], [2, 7, 12], [3, 8, 13], [4, 9, 14], [5, 10, 15]]\n",
            "printGrid(4, 1) ➞ [[1], [2], [3], [4]]\n"
          ]
        }
      ]
    },
    {
      "cell_type": "markdown",
      "source": [
        "4. Given a list of integers, return the smallest positive integer not present in\n",
        "the list.\n",
        "\n",
        "Here is a representative example. Consider the list:\n",
        "[-2, 6, 4, 5, 7, -1, 7, 1, 3, 6, 6, -2, 9, 10, 2, 2]\n",
        "\n",
        "After reordering, the list becomes:\n",
        "[-2, -2, -1, 1, 2, 2, 3, 4, 5, 6, 6, 6, 7, 7, 9, 10]\n",
        "from which we see that the smallest missing positive integer is 8.\n",
        "\n",
        "\n",
        "Examples\n",
        "min_miss_pos([-2, 6, 4, 5, 7, -1, 1, 3, 6, -2, 9, 10, 2, 2]) ➞ 8\n",
        "# After sorting, list becomes [-2, -2, -1, 1, 2, 2, 3, 4, 5, 6, 6, 7, 9, 10]\n",
        "# So the smallest missing positive integer is 8\n",
        "\n",
        "min_miss_pos([5, 9, -2, 0, 1, 3, 9, 3, 8, 9]) ➞ 2\n",
        "# After sorting, list becomes [-2, 0, 1, 3, 3, 5, 8, 9, 9, 9]\n",
        "# So the smallest missing positive integer is 2\n",
        "\n",
        "min_miss_pos([0, 4, 4, -1, 9, 4, 5, 2, 10, 7, 6, 3, 10, 9]) ➞ 1\n",
        "# After sorting, list becomes [-1, 0, 2, 3, 4, 4, 4, 5, 6, 7, 9, 9, 10, 10]\n",
        "# So the smallest missing positive integer is 1\n"
      ],
      "metadata": {
        "id": "sN3lm1fO0Nbq"
      }
    },
    {
      "cell_type": "code",
      "source": [
        "def min_miss_pos(in_list):\n",
        "    in_list_clone = in_list.copy()\n",
        "    in_list = sorted(in_list)\n",
        "    output = -1\n",
        "    for ele in range(1,max(in_list)+1):\n",
        "        if ele not in in_list:\n",
        "            output = ele\n",
        "            break\n",
        "    print(f'min_miss_pos({in_list_clone}) ➞ {in_list} ➞ {output}')\n",
        "\n",
        "min_miss_pos([-2, 6, 4, 5, 7, -1, 1, 3, 6, -2, 9, 10, 2, 2])\n",
        "min_miss_pos([5, 9, -2, 0, 1, 3, 9, 3, 8, 9])\n",
        "min_miss_pos([0, 4, 4, -1, 9, 4, 5, 2, 10, 7, 6, 3, 10, 9])"
      ],
      "metadata": {
        "colab": {
          "base_uri": "https://localhost:8080/"
        },
        "id": "9svJ9dCs0iuC",
        "outputId": "0cace814-1e9e-4ac7-f37c-db59689d7251"
      },
      "execution_count": 4,
      "outputs": [
        {
          "output_type": "stream",
          "name": "stdout",
          "text": [
            "min_miss_pos([-2, 6, 4, 5, 7, -1, 1, 3, 6, -2, 9, 10, 2, 2]) ➞ [-2, -2, -1, 1, 2, 2, 3, 4, 5, 6, 6, 7, 9, 10] ➞ 8\n",
            "min_miss_pos([5, 9, -2, 0, 1, 3, 9, 3, 8, 9]) ➞ [-2, 0, 1, 3, 3, 5, 8, 9, 9, 9] ➞ 2\n",
            "min_miss_pos([0, 4, 4, -1, 9, 4, 5, 2, 10, 7, 6, 3, 10, 9]) ➞ [-1, 0, 2, 3, 4, 4, 4, 5, 6, 7, 9, 9, 10, 10] ➞ 1\n"
          ]
        }
      ]
    },
    {
      "cell_type": "markdown",
      "source": [
        "5. Google is launching a network of autonomous pizza delivery drones and\n",
        "wants you to create a flexible rewards system (Pizza Points™) that can be\n",
        "tweaked in the future. The rules are simple: if a customer has made at least N\n",
        "orders of at least Y price, they get a FREE pizza!\n",
        "Create a function that takes a dictionary of customers, a minimum number of\n",
        "orders and a minimum order price. Return a list of customers that are eligible\n",
        "for a free pizza.\n",
        "\n",
        "Examples\n",
        "\n",
        "\n",
        "customers = {\n",
        "&quot;Batman&quot;: [22, 30, 11, 17, 15, 52, 27, 12],\n",
        "&quot;Spider-Man&quot;: [5, 17, 30, 33, 40, 22, 26, 10, 11, 45]\n",
        "}\n",
        "\n",
        "pizza_points(customers, 5, 20) ➞ [&quot;Spider-Man&quot;]\n",
        "\n",
        "pizza_points(customers, 3, 10) ➞ [&quot;Batman&quot;, &quot;Spider-Man&quot;]\n",
        "\n",
        "pizza_points(customers, 5, 100) ➞ []"
      ],
      "metadata": {
        "id": "NbZ32-Ze0vAT"
      }
    },
    {
      "cell_type": "code",
      "source": [
        "def pizza_points(in_dict,min_order,min_price):\n",
        "    output = []\n",
        "    for customer in in_dict.keys():\n",
        "        if len([order_price for order_price in in_dict[customer] if order_price > min_price]) > min_order:\n",
        "            output.append(customer)\n",
        "    print(f'pizza_points{\"customers\",min_order,min_price} ➞ {output}')\n",
        "\n",
        "customers = {\n",
        "  \"Batman\": [22, 30, 11, 17, 15, 52, 27, 12],\n",
        "  \"Spider-Man\": [5, 17, 30, 33, 40, 22, 26, 10, 11, 45]\n",
        "}\n",
        "\n",
        "pizza_points(customers, 5, 20)\n",
        "pizza_points(customers, 3, 10)\n",
        "pizza_points(customers, 5, 100)"
      ],
      "metadata": {
        "colab": {
          "base_uri": "https://localhost:8080/"
        },
        "id": "Sh1xqCrl2Onj",
        "outputId": "cefab97a-7ede-46aa-d174-90a16d9aa255"
      },
      "execution_count": 5,
      "outputs": [
        {
          "output_type": "stream",
          "name": "stdout",
          "text": [
            "pizza_points('customers', 5, 20) ➞ ['Spider-Man']\n",
            "pizza_points('customers', 3, 10) ➞ ['Batman', 'Spider-Man']\n",
            "pizza_points('customers', 5, 100) ➞ []\n"
          ]
        }
      ]
    }
  ]
}