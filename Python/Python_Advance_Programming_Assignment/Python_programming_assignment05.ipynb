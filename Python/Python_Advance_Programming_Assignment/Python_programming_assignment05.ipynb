{
  "nbformat": 4,
  "nbformat_minor": 0,
  "metadata": {
    "colab": {
      "provenance": []
    },
    "kernelspec": {
      "name": "python3",
      "display_name": "Python 3"
    },
    "language_info": {
      "name": "python"
    }
  },
  "cells": [
    {
      "cell_type": "markdown",
      "source": [
        "1. Create a function that takes a number n (integer greater than zero) as an\n",
        "argument, and returns 2 if n is odd and 8 if n is even.\n",
        "You can only use the following arithmetic operators: addition of numbers +,\n",
        "subtraction of numbers -, multiplication of number *, division of number /, and\n",
        "exponentiation **.\n",
        "\n",
        "You are not allowed to use any other methods in this challenge (i.e. no if\n",
        "statements, comparison operators, etc).\n",
        "\n",
        "Examples\n",
        "\n",
        "f(1) ➞ 2\n",
        "\n",
        "f(2) ➞ 8\n",
        "\n",
        "f(3) ➞ 2"
      ],
      "metadata": {
        "id": "RXUocFLkLKFF"
      }
    },
    {
      "cell_type": "code",
      "source": [
        "def f(in_num):\n",
        "    output = [8,2]\n",
        "    print(f'f({in_num})➞ {output[in_num&1]}')\n",
        "    \n",
        "f(1)\n",
        "f(2)\n",
        "f(3)"
      ],
      "metadata": {
        "colab": {
          "base_uri": "https://localhost:8080/"
        },
        "id": "ox00qrgXLcPx",
        "outputId": "f7c55a5d-50c2-470d-c59f-3afc0f1dad35"
      },
      "execution_count": 1,
      "outputs": [
        {
          "output_type": "stream",
          "name": "stdout",
          "text": [
            "f(1)➞ 2\n",
            "f(2)➞ 8\n",
            "f(3)➞ 2\n"
          ]
        }
      ]
    },
    {
      "cell_type": "markdown",
      "source": [
        "2. Create a function that returns the majority vote in a list. A majority vote is\n",
        "an element that occurs &gt; N/2 times in a list (where N is the length of the list).\n",
        "\n",
        "Examples\n",
        "\n",
        "majority_vote([&quot;A&quot;, &quot;A&quot;, &quot;B&quot;]) ➞ &quot;A&quot;\n",
        "\n",
        "majority_vote([&quot;A&quot;, &quot;A&quot;, &quot;A&quot;, &quot;B&quot;, &quot;C&quot;, &quot;A&quot;]) ➞ &quot;A&quot;\n",
        "\n",
        "majority_vote([&quot;A&quot;, &quot;B&quot;, &quot;B&quot;, &quot;A&quot;, &quot;C&quot;, &quot;C&quot;]) ➞ None"
      ],
      "metadata": {
        "id": "_9m2zwQSMHXj"
      }
    },
    {
      "cell_type": "code",
      "source": [
        "def majority_vote(in_list):\n",
        "    out_list = None\n",
        "    for ele in set(in_list):\n",
        "        if in_list.count(ele) > (len(in_list)/2):\n",
        "            out_list = ele\n",
        "    print(f'majority_vote({in_list}) ➞ {out_list}')\n",
        "    \n",
        "majority_vote([\"A\", \"A\", \"B\"])\n",
        "majority_vote([\"A\", \"A\", \"A\", \"B\", \"C\", \"A\"])\n",
        "majority_vote([\"A\", \"B\", \"B\", \"A\", \"C\", \"C\"])"
      ],
      "metadata": {
        "colab": {
          "base_uri": "https://localhost:8080/"
        },
        "id": "ttqCLuLxOoCP",
        "outputId": "bc43e834-4ba9-4d12-b89c-1b915ad7a4f0"
      },
      "execution_count": 2,
      "outputs": [
        {
          "output_type": "stream",
          "name": "stdout",
          "text": [
            "majority_vote(['A', 'A', 'B']) ➞ A\n",
            "majority_vote(['A', 'A', 'A', 'B', 'C', 'A']) ➞ A\n",
            "majority_vote(['A', 'B', 'B', 'A', 'C', 'C']) ➞ None\n"
          ]
        }
      ]
    },
    {
      "cell_type": "markdown",
      "source": [
        "3. Create a function that takes a string txt and censors any word from a given\n",
        "list lst. The text removed must be replaced by the given character char.\n",
        "\n",
        "Examples\n",
        "censor_string(&quot;Today is a Wednesday!&quot;, [&quot;Today&quot;, &quot;a&quot;], &quot;-&quot;) ➞ &quot;----- is -\n",
        "Wednesday!&quot;\n",
        "\n",
        "censor_string(&quot;The cow jumped over the moon.&quot;, [&quot;cow&quot;, &quot;over&quot;], &quot;*&quot;), &quot;The ***\n",
        "jumped **** the moon.&quot;)\n",
        "\n",
        "censor_string(&quot;Why did the chicken cross the road?&quot;, [&quot;Did&quot;, &quot;chicken&quot;,\n",
        "&quot;road&quot;], &quot;*&quot;) ➞ &quot;Why *** the ******* cross the ****?&quot;"
      ],
      "metadata": {
        "id": "KLjVpL75PfkS"
      }
    },
    {
      "cell_type": "code",
      "source": [
        "def censor_string(in_string_1, in_string_2, rep_char):\n",
        "    out_string = []\n",
        "    for ele in in_string_1.split():\n",
        "        if ele.title() in in_string_2 or ele.lower() in in_string_2 or ele.upper() in in_string_2:\n",
        "            out_string.append(rep_char*len(ele))\n",
        "        else:\n",
        "            out_string.append(ele)\n",
        "    print(f'censor_string({in_string_1}) ➞ {\" \".join(out_string)}')\n",
        "\n",
        "censor_string(\"Today is a Wednesday!\", [\"Today\", \"a\"], \"-\")\n",
        "censor_string(\"The cow jumped over the moon.\", [\"cow\", \"over\"], \"*\")\n",
        "censor_string(\"Why did the chicken cross the road ?\", [\"Did\", \"chicken\", \"road\"], \"*\")"
      ],
      "metadata": {
        "colab": {
          "base_uri": "https://localhost:8080/"
        },
        "id": "ffVyOMjURO4y",
        "outputId": "27b0a984-41d6-4e05-cff4-581be6bb8175"
      },
      "execution_count": 3,
      "outputs": [
        {
          "output_type": "stream",
          "name": "stdout",
          "text": [
            "censor_string(Today is a Wednesday!) ➞ ----- is - Wednesday!\n",
            "censor_string(The cow jumped over the moon.) ➞ The *** jumped **** the moon.\n",
            "censor_string(Why did the chicken cross the road ?) ➞ Why *** the ******* cross the **** ?\n"
          ]
        }
      ]
    },
    {
      "cell_type": "markdown",
      "source": [
        "4. In mathematics a Polydivisible Number (or magic number) is a number in a\n",
        "given number base with digits abcde... that has the following properties:\n",
        "- Its first digit a is not 0.\n",
        "- The number formed by its first two digits ab is a multiple of 2.\n",
        "- The number formed by its first three digits abc is a multiple of 3.\n",
        "- The number formed by its first four digits abcd is a multiple of 4.\n",
        "Create a function which takes an integer n and returns True if the given\n",
        "number is a Polydivisible Number and False otherwise.\n",
        "\n",
        "Examples\n",
        "is_polydivisible(1232) ➞ True\n",
        "# 1 / 1 = 1\n",
        "# 12 / 2 = 6\n",
        "# 123 / 3 = 41\n",
        "# 1232 / 4 = 308\n",
        "is_polydivisible(123220 ) ➞ False\n",
        "# 1 / 1 = 1\n",
        "# 12 / 2 = 6\n",
        "# 123 / 3 = 41\n",
        "# 1232 / 4 = 308\n",
        "# 12322 / 5 = 2464.4 # Not a Whole Number\n",
        "# 123220 /6 = 220536.333... # Not a Whole Number"
      ],
      "metadata": {
        "id": "oSMuUcheR9W-"
      }
    },
    {
      "cell_type": "code",
      "source": [
        "def is_polydivisible(in_num):\n",
        "    output = False\n",
        "    in_num_temp = str(in_num)\n",
        "    for ele in range(len(in_num_temp)):\n",
        "        if(int(in_num_temp[:ele+1])%(ele+1) == 0):\n",
        "            output = True\n",
        "        else:\n",
        "            output = False\n",
        "            break\n",
        "    print(f'is_polydivisible({in_num}) ➞ {output}')\n",
        "        \n",
        "is_polydivisible(1232)\n",
        "is_polydivisible(123220)"
      ],
      "metadata": {
        "colab": {
          "base_uri": "https://localhost:8080/"
        },
        "id": "mBCJHNJmSKG4",
        "outputId": "8cdb5613-88eb-4edc-a7ff-c76e7bb40593"
      },
      "execution_count": 4,
      "outputs": [
        {
          "output_type": "stream",
          "name": "stdout",
          "text": [
            "is_polydivisible(1232) ➞ True\n",
            "is_polydivisible(123220) ➞ False\n"
          ]
        }
      ]
    },
    {
      "cell_type": "markdown",
      "source": [
        "5. Create a function that takes a list of numbers and returns the sum of all\n",
        "prime numbers in the list.\n",
        "\n",
        "Examples\n",
        "sum_primes([1, 2, 3, 4, 5, 6, 7, 8, 9, 10]) ➞ 17\n",
        "\n",
        "sum_primes([2, 3, 4, 11, 20, 50, 71]) ➞ 87\n",
        "\n",
        "sum_primes([]) ➞ None"
      ],
      "metadata": {
        "id": "MmhoPOdNTPNh"
      }
    },
    {
      "cell_type": "code",
      "source": [
        "def sum_primes(in_list):\n",
        "    out_string = []\n",
        "    for ele in in_list:\n",
        "        if ele in [2,3]:\n",
        "            out_string.append(ele)\n",
        "        elif ele in [6*n-1 for n in range(0,ele)] or ele in [6*n+1 for n in range(0,ele)]:\n",
        "            out_string.append(ele)\n",
        "    if 1 in out_string:\n",
        "        out_string.remove(1)\n",
        "    print(f'sum_prices({in_list}) ➞ {sum(out_string) if len(out_string) > 0 else None}')\n",
        "        \n",
        "sum_primes([1, 2, 3, 4, 5, 6, 7, 8, 9, 10])\n",
        "sum_primes([2, 3, 4, 11, 20, 50, 71])\n",
        "sum_primes([])"
      ],
      "metadata": {
        "colab": {
          "base_uri": "https://localhost:8080/"
        },
        "id": "yBrIuBxBTUwF",
        "outputId": "b6f6f69f-dce5-4c39-da0a-ba442951e9c3"
      },
      "execution_count": 5,
      "outputs": [
        {
          "output_type": "stream",
          "name": "stdout",
          "text": [
            "sum_prices([1, 2, 3, 4, 5, 6, 7, 8, 9, 10]) ➞ 17\n",
            "sum_prices([2, 3, 4, 11, 20, 50, 71]) ➞ 87\n",
            "sum_prices([]) ➞ None\n"
          ]
        }
      ]
    }
  ]
}