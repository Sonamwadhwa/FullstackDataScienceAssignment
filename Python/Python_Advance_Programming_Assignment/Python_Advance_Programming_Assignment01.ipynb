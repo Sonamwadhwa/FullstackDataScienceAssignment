{
  "nbformat": 4,
  "nbformat_minor": 0,
  "metadata": {
    "colab": {
      "provenance": []
    },
    "kernelspec": {
      "name": "python3",
      "display_name": "Python 3"
    },
    "language_info": {
      "name": "python"
    }
  },
  "cells": [
    {
      "cell_type": "markdown",
      "source": [
        "1. Write a function that takes a list of lists and returns the value of all of the symbols in it, where each symbol adds or takes something from the total\n",
        "score. Symbol values:\n",
        "\n",
        "  # = 5\n",
        "\n",
        "O = 3\n",
        "\n",
        "X = 1\n",
        "\n",
        "! = -1\n",
        "\n",
        "!! = -3\n",
        "\n",
        "!!! = -5\n",
        "\n",
        "A list of lists containing 2 #s, a O, and a !!! would equal (0 + 5 + 5 + 3 - 5) 8.\n",
        "If the final score is negative, return 0 (e.g. 3 #s, 3 !!s, 2 !!!s and a X would be\n",
        "(0 + 5 + 5 + 5 - 3 - 3 - 3 - 5 - 5 + 1) -3, so return 0.\n",
        "\n",
        "Examples\n",
        "\n",
        "check_score([\n",
        "[&quot;#&quot;, &quot;!&quot;],\n",
        "[&quot;!!&quot;, &quot;X&quot;]\n",
        "]) ➞ 2\n",
        "check_score([\n",
        "[&quot;!!!&quot;, &quot;O&quot;, &quot;!&quot;],\n",
        "[&quot;X&quot;, &quot;#&quot;, &quot;!!!&quot;],\n",
        "[&quot;!!&quot;, &quot;X&quot;, &quot;O&quot;]\n",
        "]) ➞ 0"
      ],
      "metadata": {
        "id": "m2oqCAx0g4SK"
      }
    },
    {
      "cell_type": "code",
      "source": [
        "def check_score(in_list):\n",
        "    check_dict = {'#':5,'O':3,'X':1,'!':-1,'!!':-3,'!!!':-5}\n",
        "    out_num = 0\n",
        "    for ele in in_list:\n",
        "        for sub_ele in ele:\n",
        "            out_num += check_dict[sub_ele]\n",
        "    if(out_num < 0):\n",
        "        print(f'check_score({in_list}) ➞ {0}')\n",
        "    else:\n",
        "        print(f'check_score({in_list}) ➞ {out_num}')\n",
        "        \n",
        "check_score([[\"#\", \"!\"],[\"!!\", \"X\"]])\n",
        "check_score([[\"!!!\", \"O\", \"!\"],[\"X\", \"#\", \"!!!\"],[\"!!\", \"X\", \"O\"]])"
      ],
      "metadata": {
        "colab": {
          "base_uri": "https://localhost:8080/"
        },
        "id": "_YbDBky0hOf0",
        "outputId": "f93c89db-6bd5-49b1-abc8-c21d82e4c15f"
      },
      "execution_count": null,
      "outputs": [
        {
          "output_type": "stream",
          "name": "stdout",
          "text": [
            "check_score([['#', '!'], ['!!', 'X']]) ➞ 2\n",
            "check_score([['!!!', 'O', '!'], ['X', '#', '!!!'], ['!!', 'X', 'O']]) ➞ 0\n"
          ]
        }
      ]
    },
    {
      "cell_type": "markdown",
      "source": [
        "Question 2:  Create a function that takes a variable number of arguments, each\n",
        "argument representing the number of items in a group, and returns the\n",
        "number of permutations (combinations) of items that you could get by taking\n",
        "one item from each group.\n",
        "Examples\n",
        "combinations(2, 3) ➞ 6\n",
        "combinations(3, 7, 4) ➞ 84\n",
        "combinations(2, 3, 4, 5) ➞ 120"
      ],
      "metadata": {
        "id": "Nie2Ba9eiTIV"
      }
    },
    {
      "cell_type": "code",
      "source": [
        "def combinations(*args):\n",
        "    out_num = 1\n",
        "    for ele in args:\n",
        "        out_num *=ele\n",
        "    print(f'combinations{args} ➞ {out_num}')\n",
        "\n",
        "combinations(2, 3)\n",
        "combinations(3, 7, 4)\n",
        "combinations(2, 3, 4, 5)"
      ],
      "metadata": {
        "colab": {
          "base_uri": "https://localhost:8080/"
        },
        "id": "1bxpwVauizlc",
        "outputId": "6db3ccc5-958b-44f2-a3cd-e84d4b817bb4"
      },
      "execution_count": null,
      "outputs": [
        {
          "output_type": "stream",
          "name": "stdout",
          "text": [
            "combinations(2, 3) ➞ 6\n",
            "combinations(3, 7, 4) ➞ 84\n",
            "combinations(2, 3, 4, 5) ➞ 120\n"
          ]
        }
      ]
    },
    {
      "cell_type": "markdown",
      "source": [
        "3. Create a function that takes a string as an argument and returns the Morse\n",
        "code equivalent.\n",
        "Examples\n",
        "encode_morse(&quot;EDABBIT CHALLENGE&quot;) ➞ &quot;. -.. .- -... -... .. - -.-. .... .- .-.. .-..\n",
        ". -. --. .&quot;\n",
        "encode_morse(&quot;HELP ME !&quot;) ➞ &quot;.... . .-.. .--. -- . -.-.--&quot;\n",
        "This dictionary can be used for coding:\n",
        "\n",
        "char_to_dots = {\n",
        "&#39;A&#39;: &#39;.-&#39;, &#39;B&#39;: &#39;-...&#39;, &#39;C&#39;: &#39;-.-.&#39;, &#39;D&#39;: &#39;-..&#39;, &#39;E&#39;: &#39;.&#39;, &#39;F&#39;: &#39;..-.&#39;,\n",
        "&#39;G&#39;: &#39;--.&#39;, &#39;H&#39;: &#39;....&#39;, &#39;I&#39;: &#39;..&#39;, &#39;J&#39;: &#39;.---&#39;, &#39;K&#39;: &#39;-.-&#39;, &#39;L&#39;: &#39;.-..&#39;,\n",
        "&#39;M&#39;: &#39;--&#39;, &#39;N&#39;: &#39;-.&#39;, &#39;O&#39;: &#39;---&#39;, &#39;P&#39;: &#39;.--.&#39;, &#39;Q&#39;: &#39;--.-&#39;, &#39;R&#39;: &#39;.-.&#39;,\n",
        "&#39;S&#39;: &#39;...&#39;, &#39;T&#39;: &#39;-&#39;, &#39;U&#39;: &#39;..-&#39;, &#39;V&#39;: &#39;...-&#39;, &#39;W&#39;: &#39;.--&#39;, &#39;X&#39;: &#39;-..-&#39;,\n",
        "&#39;Y&#39;: &#39;-.--&#39;, &#39;Z&#39;: &#39;--..&#39;, &#39; &#39;: &#39; &#39;, &#39;0&#39;: &#39;-----&#39;,\n",
        "&#39;1&#39;: &#39;.----&#39;, &#39;2&#39;: &#39;..---&#39;, &#39;3&#39;: &#39;...--&#39;, &#39;4&#39;: &#39;....-&#39;, &#39;5&#39;: &#39;.....&#39;,\n",
        "&#39;6&#39;: &#39;-....&#39;, &#39;7&#39;: &#39;--...&#39;, &#39;8&#39;: &#39;---..&#39;, &#39;9&#39;: &#39;----.&#39;,\n",
        "&#39;&amp;&#39;: &#39;.-...&#39;, &quot;&#39;&quot;: &#39;.----.&#39;, &#39;@&#39;: &#39;.--.-.&#39;, &#39;)&#39;: &#39;-.--.-&#39;, &#39;(&#39;: &#39;-.--.&#39;,\n",
        "&#39;:&#39;: &#39;---...&#39;, &#39;,&#39;: &#39;--..--&#39;, &#39;=&#39;: &#39;-...-&#39;, &#39;!&#39;: &#39;-.-.--&#39;, &#39;.&#39;: &#39;.-.-.-&#39;,\n",
        "&#39;-&#39;: &#39;-....-&#39;, &#39;+&#39;: &#39;.-.-.&#39;, &#39;&quot;&#39;: &#39;.-..-.&#39;, &#39;?&#39;: &#39;..--..&#39;, &#39;/&#39;: &#39;-..-.&#39;\n",
        "}"
      ],
      "metadata": {
        "id": "b3yYa65zi4T_"
      }
    },
    {
      "cell_type": "code",
      "source": [
        "def encode_morse(in_string):\n",
        "    out_string = ''\n",
        "    char_to_dots = {\n",
        "            'A': '.-', 'B': '-...', 'C': '-.-.', 'D': '-..', 'E': '.', 'F': '..-.',\n",
        "            'G': '--.', 'H': '....', 'I': '..', 'J': '.---', 'K': '-.-', 'L': '.-..',\n",
        "            'M': '--', 'N': '-.', 'O': '---', 'P': '.--.', 'Q': '--.-', 'R': '.-.',\n",
        "            'S': '...', 'T': '-', 'U': '..-', 'V': '...-', 'W': '.--', 'X': '-..-',\n",
        "            'Y': '-.--', 'Z': '--..', ' ': ' ', '0': '-----',\n",
        "            '1': '.----', '2': '..---', '3': '...--', '4': '....-', '5': '.....',\n",
        "            '6': '-....', '7': '--...', '8': '---..', '9': '----.',\n",
        "            '&': '.-...', \"'\": '.----.', '@': '.--.-.', ')': '-.--.-', '(': '-.--.',\n",
        "            ':': '---...', ',': '--..--', '=': '-...-', '!': '-.-.--', '.': '.-.-.-',\n",
        "            '-': '-....-', '+': '.-.-.', '\"': '.-..-.', '?': '..--..', '/': '-..-.'\n",
        "        }\n",
        "    for ele in in_string:\n",
        "        out_string +=char_to_dots[ele]\n",
        "    print(f'encode_morse({in_string}) ➞ {out_string}')\n",
        "\n",
        "encode_morse(\"EDABBIT CHALLENGE\")\n",
        "encode_morse(\"HELP ME !\")"
      ],
      "metadata": {
        "colab": {
          "base_uri": "https://localhost:8080/"
        },
        "id": "fa-23QEljJWW",
        "outputId": "5e9aa25d-7db5-4ba1-a1b8-36a7d45e4bc5"
      },
      "execution_count": null,
      "outputs": [
        {
          "output_type": "stream",
          "name": "stdout",
          "text": [
            "encode_morse(EDABBIT CHALLENGE) ➞ .-...--...-.....- -.-......-.-...-...-.--..\n",
            "encode_morse(HELP ME !) ➞ ......-...--. --. -.-.--\n"
          ]
        }
      ]
    },
    {
      "cell_type": "markdown",
      "source": [
        "4. Write a function that takes a number and returns True if it&#39;s a prime; False\n",
        "otherwise. The number can be 2^64-1 (2 to the power of 63, not XOR). With\n",
        "the standard technique it would be O(2^64-1), which is much too large for the\n",
        "10 second time limit.\n",
        "\n",
        "Examples\n",
        "\n",
        "prime(7) ➞ True\n",
        "\n",
        "prime(56963) ➞ True\n",
        "\n",
        "prime(5151512515524) ➞ False"
      ],
      "metadata": {
        "id": "jCgeiYy_m4Er"
      }
    },
    {
      "cell_type": "code",
      "source": [
        "def prime(in_num):\n",
        "    out_bool = False\n",
        "    if ((in_num-1)%6 == 0) or ((in_num+1)%6 == 0):\n",
        "        out_bool = True\n",
        "    print(f'prime({in_num}) ➞ {out_bool}')\n",
        "\n",
        "prime(7)\n",
        "prime(56963)\n",
        "prime(5151512515524)"
      ],
      "metadata": {
        "colab": {
          "base_uri": "https://localhost:8080/"
        },
        "id": "1xzZ09LJW0mT",
        "outputId": "41a81e1a-5da3-47aa-9682-5906477d099a"
      },
      "execution_count": 1,
      "outputs": [
        {
          "output_type": "stream",
          "name": "stdout",
          "text": [
            "prime(7) ➞ True\n",
            "prime(56963) ➞ True\n",
            "prime(5151512515524) ➞ False\n"
          ]
        }
      ]
    },
    {
      "cell_type": "markdown",
      "source": [
        "5.Create a function that converts a word to a bitstring and then to a boolean list based on the following criteria:\n",
        "\n",
        "1. Locate the position of the letter in the English alphabet (from 1 to 26).\n",
        "\n",
        "2. Odd positions will be represented as 1 and 0 otherwise.\n",
        "\n",
        "3. Convert the represented positions to boolean values, 1 for True and 0 for False.\n",
        "\n",
        "4. Store the conversions into an array.\n",
        "\n",
        "\n",
        "Examples\n",
        "to_boolean_list(&quot;deep&quot;) ➞ [False, True, True, False]\n",
        "\n",
        "# deep converts to 0110\n",
        "\n",
        "# d is the 4th alphabet - 0\n",
        "\n",
        "# e is the 5th alphabet - 1\n",
        "\n",
        "# e is the 5th alphabet - 1\n",
        "\n",
        "# p is the 16th alphabet - 0\n",
        "\n",
        "to_boolean_list(&quot;loves&quot;) ➞ [False, True, False, True, True]\n",
        "\n",
        "to_boolean_list(&quot;tesh&quot;) ➞ [False, True, True, False]"
      ],
      "metadata": {
        "id": "-lO5RAYEXDga"
      }
    },
    {
      "cell_type": "code",
      "source": [
        "def to_boolean_list(in_string):\n",
        "    alphabets = 'abcdefghijklmnopqrstuvwxyz'\n",
        "    out_list = []\n",
        "    for ele in in_string:\n",
        "        out_list.append(bool((alphabets.index(ele)+1)%2))\n",
        "    print(f'to_boolean_list({in_string}) ➞ {out_list}')\n",
        "    \n",
        "to_boolean_list(\"deep\")\n",
        "to_boolean_list(\"loves\")\n",
        "to_boolean_list(\"tesh\")"
      ],
      "metadata": {
        "colab": {
          "base_uri": "https://localhost:8080/"
        },
        "id": "38gfLKh6XaOn",
        "outputId": "54391edb-66d0-4ff8-b203-dd80ddc99cc6"
      },
      "execution_count": 2,
      "outputs": [
        {
          "output_type": "stream",
          "name": "stdout",
          "text": [
            "to_boolean_list(deep) ➞ [False, True, True, False]\n",
            "to_boolean_list(loves) ➞ [False, True, False, True, True]\n",
            "to_boolean_list(tesh) ➞ [False, True, True, False]\n"
          ]
        }
      ]
    }
  ]
}