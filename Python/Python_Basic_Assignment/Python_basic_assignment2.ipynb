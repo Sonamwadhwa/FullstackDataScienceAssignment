{
  "nbformat": 4,
  "nbformat_minor": 0,
  "metadata": {
    "colab": {
      "provenance": []
    },
    "kernelspec": {
      "name": "python3",
      "display_name": "Python 3"
    },
    "language_info": {
      "name": "python"
    }
  },
  "cells": [
    {
      "cell_type": "markdown",
      "source": [
        "1.What are the two values of the Boolean data type? How do you write them?"
      ],
      "metadata": {
        "id": "NjMypEj51oqq"
      }
    },
    {
      "cell_type": "markdown",
      "source": [
        "Ans:- True and False, using capital T and F."
      ],
      "metadata": {
        "id": "ZVw4M3m81qxR"
      }
    },
    {
      "cell_type": "code",
      "source": [
        "a=True\n",
        "b=False\n",
        "print(a)\n",
        "print(b)"
      ],
      "metadata": {
        "colab": {
          "base_uri": "https://localhost:8080/"
        },
        "id": "GQUPO4412RqA",
        "outputId": "562e1989-d018-4b9a-df3f-d44ec394d6da"
      },
      "execution_count": 1,
      "outputs": [
        {
          "output_type": "stream",
          "name": "stdout",
          "text": [
            "True\n",
            "False\n"
          ]
        }
      ]
    },
    {
      "cell_type": "markdown",
      "source": [
        "2. What are the three different types of Boolean operators?\n"
      ],
      "metadata": {
        "id": "6YCWuml42ihg"
      }
    },
    {
      "cell_type": "markdown",
      "source": [
        "Ans :- and, or, and not"
      ],
      "metadata": {
        "id": "ZqDznpCp2p1o"
      }
    },
    {
      "cell_type": "markdown",
      "source": [
        "3. Make a list of each Boolean operator&#39;s truth tables (i.e. every possible combination of Boolean values for the operator and what it evaluate )."
      ],
      "metadata": {
        "id": "hLRn8Myh2urI"
      }
    },
    {
      "cell_type": "markdown",
      "source": [
        "Ans:- True and True is True.\n",
        "\n",
        "True and False is False.\n",
        "\n",
        "False and True is False.\n",
        "\n",
        "False and False is False.\n",
        "\n",
        "True or True is True.\n",
        "\n",
        "True or False is True.\n",
        "\n",
        "False or True is True.\n",
        "\n",
        "False or False is False.\n",
        "\n",
        "not True is False.\n",
        "\n",
        "not False is True."
      ],
      "metadata": {
        "id": "dmU3Obw024cv"
      }
    },
    {
      "cell_type": "markdown",
      "source": [
        "True is 1 and False is 0\n",
        "\n",
        "Truth Table for AND\n",
        "A B output\n",
        "0 0 0\n",
        "0 1 0\n",
        "1 0 0\n",
        "1 1 1\n",
        "\n",
        "Truth Table for OR\n",
        "A B output\n",
        "0 0 0\n",
        "0 1 1\n",
        "1 0 1\n",
        "1 1 1\n",
        "\n",
        "\n",
        "Truth Table for NOT\n",
        "A output\n",
        "0 1\n",
        "1 0"
      ],
      "metadata": {
        "id": "XrGJBLfC3I_w"
      }
    },
    {
      "cell_type": "markdown",
      "source": [
        "4. What are the values of the following expressions?"
      ],
      "metadata": {
        "id": "CZQiZT2s252X"
      }
    },
    {
      "cell_type": "code",
      "source": [
        "print((5>4) and (3==5))\n",
        "print(not(5>4))\n",
        "print((5>4) or (3==5))\n",
        "print(not(5>4) or (3==5))\n",
        "print((True and True) and (True==False))\n",
        "print((not(False))or(not(True)))"
      ],
      "metadata": {
        "colab": {
          "base_uri": "https://localhost:8080/"
        },
        "id": "e8zACZvC3T3x",
        "outputId": "1d813945-5179-4212-fdd4-749ab2d5fd3f"
      },
      "execution_count": 2,
      "outputs": [
        {
          "output_type": "stream",
          "name": "stdout",
          "text": [
            "False\n",
            "False\n",
            "True\n",
            "False\n",
            "False\n",
            "True\n"
          ]
        }
      ]
    },
    {
      "cell_type": "markdown",
      "source": [
        "5. What are the six comparison operators?\n"
      ],
      "metadata": {
        "id": "qLOIZM_397FB"
      }
    },
    {
      "cell_type": "markdown",
      "source": [
        "        Ans . ==, !=, <, >, <=, and >="
      ],
      "metadata": {
        "id": "HkurF8UA-MrP"
      }
    },
    {
      "cell_type": "markdown",
      "source": [
        "Q6. How do you tell the difference between the equal to and assignment operators?Describe a condition and when you would use one.\n"
      ],
      "metadata": {
        "id": "_fXQoa05-LGY"
      }
    },
    {
      "cell_type": "markdown",
      "source": [
        "== is the equal to operator that compares two values and evaluates to a Boolean, while = is the assignment operator that stores a value in a variable."
      ],
      "metadata": {
        "id": "H8lar64a-ZEP"
      }
    },
    {
      "cell_type": "code",
      "source": [
        "# Equal To Operator\n",
        "if(2==3):\n",
        "    print(\"True\")\n",
        "else:\n",
        "    print(\"False\")\n",
        "#Assignment operator\n",
        "c=1 #here we have used assignment operator(=) to assign value of c which is 1\n",
        "print(\"c =\",c)"
      ],
      "metadata": {
        "colab": {
          "base_uri": "https://localhost:8080/"
        },
        "id": "9jpGMtx4-4gX",
        "outputId": "5c06f129-77da-4735-a8fd-2ffcba86e6a7"
      },
      "execution_count": 3,
      "outputs": [
        {
          "output_type": "stream",
          "name": "stdout",
          "text": [
            "False\n",
            "c = 1\n"
          ]
        }
      ]
    },
    {
      "cell_type": "markdown",
      "source": [
        "7. Identify the three blocks in this code:"
      ],
      "metadata": {
        "id": "PPIYX6I0_PYv"
      }
    },
    {
      "cell_type": "code",
      "source": [
        "spam = 0\n",
        "if spam == 10:\n",
        "    print('eggs') #Block 1\n",
        "if spam > 5:\n",
        "    print('bacon') #Block 2\n",
        "else:\n",
        "    print('ham') #Block 3\n",
        "    print('spam')\n",
        "    print('spam')"
      ],
      "metadata": {
        "colab": {
          "base_uri": "https://localhost:8080/"
        },
        "id": "heT92h7__VA3",
        "outputId": "a39d714e-6a3a-46c8-eaf6-3b3eb16b5b02"
      },
      "execution_count": 4,
      "outputs": [
        {
          "output_type": "stream",
          "name": "stdout",
          "text": [
            "ham\n",
            "spam\n",
            "spam\n"
          ]
        }
      ]
    },
    {
      "cell_type": "markdown",
      "source": [
        "Q8. Write code that prints Hello if 1 is stored in spam, prints Howdy if 2 is stored in spam, and prints Greetings! if anything else is stored in spam."
      ],
      "metadata": {
        "id": "DJPagV6O_gp3"
      }
    },
    {
      "cell_type": "code",
      "source": [
        "spam = int(input(\"Input a no.\"))\n",
        "if spam == 1:\n",
        "    print(\"Hello\")\n",
        "elif spam == 2:\n",
        "    print(\"Howdy\")\n",
        "else:\n",
        "    print(\"Greetings!\")"
      ],
      "metadata": {
        "colab": {
          "base_uri": "https://localhost:8080/"
        },
        "id": "PU9OhT23_nVI",
        "outputId": "48fed6d5-6634-4062-a910-8fc0f0426224"
      },
      "execution_count": 5,
      "outputs": [
        {
          "output_type": "stream",
          "name": "stdout",
          "text": [
            "Input a no.2\n",
            "Howdy\n"
          ]
        }
      ]
    },
    {
      "cell_type": "markdown",
      "source": [
        "9.If your programme is stuck in an endless loop, what keys you’ll press?"
      ],
      "metadata": {
        "id": "B39C_5QGAJRP"
      }
    },
    {
      "cell_type": "markdown",
      "source": [
        "Ans . If program is stuck in endless loop we will press ctrl+c.\n",
        "\n"
      ],
      "metadata": {
        "id": "L05wPOlFAPoP"
      }
    },
    {
      "cell_type": "markdown",
      "source": [
        "10. How can you tell the difference between break and continue?"
      ],
      "metadata": {
        "id": "sDyv50GAAWHo"
      }
    },
    {
      "cell_type": "code",
      "source": [
        "# use of break\n",
        "for i in range(10):\n",
        "    if(i==7):\n",
        "        break\n",
        "    print(i)\n",
        "    \n",
        "print('Breaked')\n",
        "#use of  continue\n",
        "for i in range(10):\n",
        "    if(i==7):\n",
        "        continue\n",
        "    print(i)"
      ],
      "metadata": {
        "colab": {
          "base_uri": "https://localhost:8080/"
        },
        "id": "ryWDDq6QAebf",
        "outputId": "362d748f-69c2-414e-a734-b63be5b57387"
      },
      "execution_count": 6,
      "outputs": [
        {
          "output_type": "stream",
          "name": "stdout",
          "text": [
            "0\n",
            "1\n",
            "2\n",
            "3\n",
            "4\n",
            "5\n",
            "6\n",
            "Breaked\n",
            "0\n",
            "1\n",
            "2\n",
            "3\n",
            "4\n",
            "5\n",
            "6\n",
            "8\n",
            "9\n"
          ]
        }
      ]
    },
    {
      "cell_type": "markdown",
      "source": [
        "11. In a for loop, what is the difference between range(10), range(0, 10), and range(0, 10, 1)?"
      ],
      "metadata": {
        "id": "YJVcm3JnAryW"
      }
    },
    {
      "cell_type": "code",
      "source": [
        "for i in range(10):\n",
        "    print(i)\n",
        "print(\"xxxxxxxxxxxxxxxxxxxxxxxxxxxxxxxxxxxxxxxxxxxxxxxxxxxxxxxxxxxxxxxxxxxxxxxxxxxxxxxxxxxxxx\") \n",
        "for i in range(0,10):\n",
        "    print(i)\n",
        "print(\"xxxxxxxxxxxxxxxxxxxxxxxxxxxxxxxxxxxxxxxxxxxxxxxxxxxxxxxxxxxxxxxxxxxxxxxxxxxxxxxxxxxxxx\")\n",
        "for i in range(0,10,1):\n",
        "    print(i)"
      ],
      "metadata": {
        "colab": {
          "base_uri": "https://localhost:8080/"
        },
        "id": "vQTmmr_eA09v",
        "outputId": "f62a81d5-f124-4799-97bc-4dc82679e9ae"
      },
      "execution_count": 7,
      "outputs": [
        {
          "output_type": "stream",
          "name": "stdout",
          "text": [
            "0\n",
            "1\n",
            "2\n",
            "3\n",
            "4\n",
            "5\n",
            "6\n",
            "7\n",
            "8\n",
            "9\n",
            "xxxxxxxxxxxxxxxxxxxxxxxxxxxxxxxxxxxxxxxxxxxxxxxxxxxxxxxxxxxxxxxxxxxxxxxxxxxxxxxxxxxxxx\n",
            "0\n",
            "1\n",
            "2\n",
            "3\n",
            "4\n",
            "5\n",
            "6\n",
            "7\n",
            "8\n",
            "9\n",
            "xxxxxxxxxxxxxxxxxxxxxxxxxxxxxxxxxxxxxxxxxxxxxxxxxxxxxxxxxxxxxxxxxxxxxxxxxxxxxxxxxxxxxx\n",
            "0\n",
            "1\n",
            "2\n",
            "3\n",
            "4\n",
            "5\n",
            "6\n",
            "7\n",
            "8\n",
            "9\n"
          ]
        }
      ]
    },
    {
      "cell_type": "markdown",
      "source": [
        "12. Write a short program that prints the numbers 1 to 10 using a for loop. Then write an equivalent\n",
        "program that prints the numbers 1 to 10 using a while loop."
      ],
      "metadata": {
        "id": "AfXSrLYhA8EP"
      }
    },
    {
      "cell_type": "code",
      "source": [
        "#Use of For Loop\n",
        "print(\"For Loop\")\n",
        "for i in range(1,11):\n",
        "    print(i)\n",
        "#Use of While Loop\n",
        "print(\"While Loop\")\n",
        "a =1\n",
        "while a <= 10:\n",
        "    print(a)\n",
        "    a+=1"
      ],
      "metadata": {
        "colab": {
          "base_uri": "https://localhost:8080/"
        },
        "id": "WVYm4GwJBII3",
        "outputId": "7ff16d45-442d-4a72-ea7b-93ae88980a8b"
      },
      "execution_count": 8,
      "outputs": [
        {
          "output_type": "stream",
          "name": "stdout",
          "text": [
            "For Loop\n",
            "1\n",
            "2\n",
            "3\n",
            "4\n",
            "5\n",
            "6\n",
            "7\n",
            "8\n",
            "9\n",
            "10\n",
            "While Loop\n",
            "1\n",
            "2\n",
            "3\n",
            "4\n",
            "5\n",
            "6\n",
            "7\n",
            "8\n",
            "9\n",
            "10\n"
          ]
        }
      ]
    },
    {
      "cell_type": "markdown",
      "source": [
        "13. If you had a function named bacon() inside a module named spam, how would you call it after importing spam?"
      ],
      "metadata": {
        "id": "FsIznCvIBPK-"
      }
    },
    {
      "cell_type": "markdown",
      "source": [
        "This function can be called with spam.bacon().\n",
        "\n"
      ],
      "metadata": {
        "id": "SFjGcqi8BTRH"
      }
    }
  ]
}