{
  "nbformat": 4,
  "nbformat_minor": 0,
  "metadata": {
    "colab": {
      "provenance": []
    },
    "kernelspec": {
      "name": "python3",
      "display_name": "Python 3"
    },
    "language_info": {
      "name": "python"
    }
  },
  "cells": [
    {
      "cell_type": "markdown",
      "source": [
        "1. Why are functions advantageous to have in your programs?"
      ],
      "metadata": {
        "id": "ifaY6TP2KRmB"
      }
    },
    {
      "cell_type": "markdown",
      "source": [
        "       Answer- Functions reduce the need for duplicate code. This makes programs shorter, easier to read, and easier to update."
      ],
      "metadata": {
        "id": "lgsqG70QKTMa"
      }
    },
    {
      "cell_type": "markdown",
      "source": [
        "2. When does the code in a function run: when it&#39;s specified or when it&#39;s called?"
      ],
      "metadata": {
        "id": "Lejxl-7gK5mZ"
      }
    },
    {
      "cell_type": "markdown",
      "source": [
        "       Answer - The code in a function executes when the function is called, not when the function is defined.\n",
        "\n"
      ],
      "metadata": {
        "id": "qRoANuz6K9mB"
      }
    },
    {
      "cell_type": "markdown",
      "source": [
        "3. What statement creates a function?"
      ],
      "metadata": {
        "id": "5uIO3qJ2LhzD"
      }
    },
    {
      "cell_type": "markdown",
      "source": [
        "            Answer - The def statement defines, i.e. creates a function."
      ],
      "metadata": {
        "id": "od7qPeEILnOx"
      }
    },
    {
      "cell_type": "markdown",
      "source": [
        "4. What is the difference between a function and a function call?"
      ],
      "metadata": {
        "id": "prmlaSUVMUg5"
      }
    },
    {
      "cell_type": "markdown",
      "source": [
        "      Answer - A function consists of the def statement and the code in its def clause. A function call is what moves the program execution into the function, and the function call evaluates to the function's return value."
      ],
      "metadata": {
        "id": "AwzyPyNTMX0h"
      }
    },
    {
      "cell_type": "markdown",
      "source": [
        "5. How many global scopes are there in a Python program? How many local scopes?"
      ],
      "metadata": {
        "id": "REoMwWGvMl_p"
      }
    },
    {
      "cell_type": "markdown",
      "source": [
        "     Answer - There is one global scope, and a local scope is created whenever a function is called."
      ],
      "metadata": {
        "id": "hc-oy3cKM2fp"
      }
    },
    {
      "cell_type": "markdown",
      "source": [
        "6. What happens to variables in a local scope when the function call returns?"
      ],
      "metadata": {
        "id": "fO-X3QRBM98S"
      }
    },
    {
      "cell_type": "markdown",
      "source": [
        "       Answer - When a function returns, the local scope is destroyed, and all the variables in it are forgotten."
      ],
      "metadata": {
        "id": "9MZ658CzNFj6"
      }
    },
    {
      "cell_type": "markdown",
      "source": [
        "7. What is the concept of a return value? Is it possible to have a return value in an expression?"
      ],
      "metadata": {
        "id": "3S-SonFcNan5"
      }
    },
    {
      "cell_type": "markdown",
      "source": [
        "            Answer - A return value is the value that a function call evaluates to. Like any value, a return value can be used as part of an expression."
      ],
      "metadata": {
        "id": "18Y_bnLhNoJR"
      }
    },
    {
      "cell_type": "markdown",
      "source": [
        "8. If a function does not have a return statement, what is the return value of a call to that function?"
      ],
      "metadata": {
        "id": "QoqmXntYNx4L"
      }
    },
    {
      "cell_type": "markdown",
      "source": [
        "        Answer - If there is no return statement for a function, its return value is None."
      ],
      "metadata": {
        "id": "GC3_w0y6N6Fr"
      }
    },
    {
      "cell_type": "markdown",
      "source": [
        "9. How do you make a function variable refer to the global variable?"
      ],
      "metadata": {
        "id": "xitQ5kZUOQxR"
      }
    },
    {
      "cell_type": "markdown",
      "source": [
        "     Answer - A global statement will force a variable in a function to refer to the global variable."
      ],
      "metadata": {
        "id": "y9T_pUsqOcE5"
      }
    },
    {
      "cell_type": "markdown",
      "source": [
        "10. What is the data type of None?"
      ],
      "metadata": {
        "id": "za4zORF-O05i"
      }
    },
    {
      "cell_type": "markdown",
      "source": [
        "            Answer - The data type of None is NoneType.\n",
        "\n"
      ],
      "metadata": {
        "id": "KcrwqJZ0O9JR"
      }
    },
    {
      "cell_type": "markdown",
      "source": [
        "11. What does the sentence import areallyourpetsnamederic do?"
      ],
      "metadata": {
        "id": "ZRRTNReWPM9x"
      }
    },
    {
      "cell_type": "markdown",
      "source": [
        "    Answer - That import statement imports a module named areallyourpetsnamederic."
      ],
      "metadata": {
        "id": "-3ukyPh9PUii"
      }
    },
    {
      "cell_type": "markdown",
      "source": [
        "12. If you had a bacon() feature in a spam module, what would you call it after importing spam?"
      ],
      "metadata": {
        "id": "TSfjigpmPxUy"
      }
    },
    {
      "cell_type": "markdown",
      "source": [
        "Answer - This function can be called with spam.bacon().\n",
        "\n"
      ],
      "metadata": {
        "id": "18YvroSYP2Pa"
      }
    },
    {
      "cell_type": "markdown",
      "source": [
        "13. What can you do to save a programme from crashing if it encounters an error?"
      ],
      "metadata": {
        "id": "jyIbC00_QDZh"
      }
    },
    {
      "cell_type": "markdown",
      "source": [
        "Answer - Place the line of code that might cause an error in a try clause."
      ],
      "metadata": {
        "id": "Fi7Vto7_QQUy"
      }
    },
    {
      "cell_type": "markdown",
      "source": [
        "14. What is the purpose of the try clause? What is the purpose of the except clause?"
      ],
      "metadata": {
        "id": "28oSpkRNQW0j"
      }
    },
    {
      "cell_type": "markdown",
      "source": [
        "  Answer - The code that could potentially cause an error goes in the try clause.\n",
        "2) The code that executes if an error happens goes in the except clause."
      ],
      "metadata": {
        "id": "B-d4RrTeQbcq"
      }
    }
  ]
}