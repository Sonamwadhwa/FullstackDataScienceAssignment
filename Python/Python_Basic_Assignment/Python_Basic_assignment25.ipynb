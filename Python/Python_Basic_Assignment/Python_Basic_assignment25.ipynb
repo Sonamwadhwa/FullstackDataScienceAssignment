{
  "nbformat": 4,
  "nbformat_minor": 0,
  "metadata": {
    "colab": {
      "provenance": []
    },
    "kernelspec": {
      "name": "python3",
      "display_name": "Python 3"
    },
    "language_info": {
      "name": "python"
    }
  },
  "cells": [
    {
      "cell_type": "markdown",
      "source": [
        "1) . What is the difference between enclosing a list comprehension in square brackets and\n",
        "parentheses?"
      ],
      "metadata": {
        "id": "SEwdhStad1T1"
      }
    },
    {
      "cell_type": "code",
      "source": [
        "lst = [i for i in range(10)]\n",
        "lst"
      ],
      "metadata": {
        "colab": {
          "base_uri": "https://localhost:8080/"
        },
        "id": "6_2E5r-Xd2A1",
        "outputId": "3fa42185-65cc-4251-b1e4-8ed637a5a9ed"
      },
      "execution_count": 1,
      "outputs": [
        {
          "output_type": "execute_result",
          "data": {
            "text/plain": [
              "[0, 1, 2, 3, 4, 5, 6, 7, 8, 9]"
            ]
          },
          "metadata": {},
          "execution_count": 1
        }
      ]
    },
    {
      "cell_type": "code",
      "source": [
        "lstParanthesis = (i for i in range(10))\n",
        "lstParanthesis\n",
        "     "
      ],
      "metadata": {
        "colab": {
          "base_uri": "https://localhost:8080/"
        },
        "id": "7VaAXmQMeZF2",
        "outputId": "0f4ebaa5-ec1c-4031-ec18-2b22ba4f80ff"
      },
      "execution_count": 2,
      "outputs": [
        {
          "output_type": "execute_result",
          "data": {
            "text/plain": [
              "<generator object <genexpr> at 0x7ff7b565a970>"
            ]
          },
          "metadata": {},
          "execution_count": 2
        }
      ]
    },
    {
      "cell_type": "code",
      "source": [
        "list(lstParanthesis)\n"
      ],
      "metadata": {
        "colab": {
          "base_uri": "https://localhost:8080/"
        },
        "id": "wpCcX3caeb_1",
        "outputId": "279b0a2b-58a5-4da7-9d64-cc0300886eb6"
      },
      "execution_count": 3,
      "outputs": [
        {
          "output_type": "execute_result",
          "data": {
            "text/plain": [
              "[0, 1, 2, 3, 4, 5, 6, 7, 8, 9]"
            ]
          },
          "metadata": {},
          "execution_count": 3
        }
      ]
    },
    {
      "cell_type": "markdown",
      "source": [
        "2) What is the relationship between generators and iterators?"
      ],
      "metadata": {
        "id": "y7r8B3Osegju"
      }
    },
    {
      "cell_type": "markdown",
      "source": [
        "Answer - An iterator is an object which contains a countable number of values and it is used to iterate over iterable objects like list, tuples etc\n",
        "Using an iterator- iter() keyword is used to create an iterator containing an iterable object. next() keyword is used to call the next element in the iterable object.\n",
        "\n",
        "Generator\n",
        "\n",
        "It is another way of creating iterators in a simple way where it uses the keyword “yield” instead of returning it in a defined function Generators are implemented using a function Here, the yield function returns the data without affecting or exiting the function. It will return a sequence of data in an iterable format where we need to iterate over the sequence to use the data as they won’t store the entire sequence in the memory By using next() function we can iterate the output of generator function"
      ],
      "metadata": {
        "id": "76EpF30celHE"
      }
    },
    {
      "cell_type": "code",
      "source": [
        "iter_list = iter(['Dog', 'CAt', 'Bear'])\n",
        "print(next(iter_list))\n",
        "print(next(iter_list))\n",
        "print(next(iter_list))"
      ],
      "metadata": {
        "colab": {
          "base_uri": "https://localhost:8080/"
        },
        "id": "ecfrCIMeeycV",
        "outputId": "ac528131-74ae-451a-c5f8-eb762466241f"
      },
      "execution_count": 4,
      "outputs": [
        {
          "output_type": "stream",
          "name": "stdout",
          "text": [
            "Dog\n",
            "CAt\n",
            "Bear\n"
          ]
        }
      ]
    },
    {
      "cell_type": "code",
      "source": [
        "def sq(n):\n",
        "    for i in range(1, n+1):\n",
        "        yield i*i"
      ],
      "metadata": {
        "id": "9z4k80d4e2yt"
      },
      "execution_count": 5,
      "outputs": []
    },
    {
      "cell_type": "code",
      "source": [
        "sq(6)\n"
      ],
      "metadata": {
        "colab": {
          "base_uri": "https://localhost:8080/"
        },
        "id": "qc2pwgg4e85V",
        "outputId": "4c48cfa6-37ac-4e40-950f-121f4d83d123"
      },
      "execution_count": 6,
      "outputs": [
        {
          "output_type": "execute_result",
          "data": {
            "text/plain": [
              "<generator object sq at 0x7ff7b565acf0>"
            ]
          },
          "metadata": {},
          "execution_count": 6
        }
      ]
    },
    {
      "cell_type": "code",
      "source": [
        "lst = sq(6)\n",
        "lst"
      ],
      "metadata": {
        "colab": {
          "base_uri": "https://localhost:8080/"
        },
        "id": "Y2iqg0p4fGmd",
        "outputId": "d37586e2-f10c-4c74-88f6-c61f31178cab"
      },
      "execution_count": 7,
      "outputs": [
        {
          "output_type": "execute_result",
          "data": {
            "text/plain": [
              "<generator object sq at 0x7ff7b565ab30>"
            ]
          },
          "metadata": {},
          "execution_count": 7
        }
      ]
    },
    {
      "cell_type": "code",
      "source": [
        "print(next(lst))\n",
        "print(next(lst))\n",
        "print(next(lst))\n",
        "print(next(lst))"
      ],
      "metadata": {
        "colab": {
          "base_uri": "https://localhost:8080/"
        },
        "id": "dZ43dwMXfJoO",
        "outputId": "54b9e70b-fb44-4785-f9e4-5ff5f0819f77"
      },
      "execution_count": 8,
      "outputs": [
        {
          "output_type": "stream",
          "name": "stdout",
          "text": [
            "1\n",
            "4\n",
            "9\n",
            "16\n"
          ]
        }
      ]
    },
    {
      "cell_type": "markdown",
      "source": [
        "3) What are the signs that a function is a generator function?"
      ],
      "metadata": {
        "id": "EZPAzqC_fNFO"
      }
    },
    {
      "cell_type": "markdown",
      "source": [
        "Ans-  If a function contains at least one yield statement (it may contain other yield or return statements), it becomes a generator function. Both yield and return will return some value from a function."
      ],
      "metadata": {
        "id": "FuvK6DSJfPse"
      }
    },
    {
      "cell_type": "markdown",
      "source": [
        "4) What is the purpose of a yield statement?"
      ],
      "metadata": {
        "id": "fS-k1mvdfVH_"
      }
    },
    {
      "cell_type": "markdown",
      "source": [
        "Ans -  A yield statement looks much like a return statement, except that instead of stopping execution of the function and\n",
        "returning, yield instead provides a value to the code looping over the generator and pauses execution of the generator function."
      ],
      "metadata": {
        "id": "RgfNVzr6fhne"
      }
    },
    {
      "cell_type": "markdown",
      "source": [
        "5) What is the relationship between map calls and list comprehensions? Make a comparison and\n",
        "contrast between the two."
      ],
      "metadata": {
        "id": "eR6rgJvofv8e"
      }
    },
    {
      "cell_type": "markdown",
      "source": [
        "Map function:\n",
        "Suppose we have a function and we want to compute this function for different values in a single line of code . This is where map() function plays its role. map() function returns a map object(which is an iterator) of the results after applying the given function to each item of a given iterable (list, tuple etc.)\n",
        "\n",
        "If we already have a function defined, it is often good to use map For example, map(sum, myLists) is more neat than [sum(x) for x in myLists]. You gain the elegance of not having to make up a dummy variable (e.g. sum(x) for x... or sum(_) for _... or sum(readableName) for readableName...) which you have to type twice, just to iterate.\n",
        "\n",
        "List Comprehension:\n",
        "\n",
        "List Comprehension is a substitute for the lambda function, map(), filter() and reduce().\n",
        "\n",
        "Comparision :\n",
        "\n",
        "1)List comprehension is more concise and easier to read as compared to map\n",
        "\n",
        "2) List comprehension allows filtering. In map, we have no such facility\n",
        "For example, to print all even numbers in range of 100, we can write [n for n in range(100) if n%2 == 0]. There is no alternate for it in map\n",
        "\n",
        " 3). List comprehension are used when a list of results is required, where as map only returns a map object and does not return any list.\n",
        "\n",
        " 4) List comprehension is faster than map when we need to evaluate expressions that are too long or complicated to express 5. Map is faster in case of calling an already defined function (as no lambda is required)"
      ],
      "metadata": {
        "id": "FaJ-z-tqf6v2"
      }
    }
  ]
}