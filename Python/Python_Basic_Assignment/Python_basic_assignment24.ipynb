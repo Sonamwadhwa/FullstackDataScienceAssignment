{
  "nbformat": 4,
  "nbformat_minor": 0,
  "metadata": {
    "colab": {
      "provenance": []
    },
    "kernelspec": {
      "name": "python3",
      "display_name": "Python 3"
    },
    "language_info": {
      "name": "python"
    }
  },
  "cells": [
    {
      "cell_type": "markdown",
      "source": [
        "1. What is the relationship between def statements and lambda expressions ?"
      ],
      "metadata": {
        "id": "nerXrvoSKTzt"
      }
    },
    {
      "cell_type": "markdown",
      "source": [
        "Answer - Keyword def that marks the start of the function header. A function name to uniquely identify the function.Function naming follows the same rules of writing identifiers in Python.\n",
        "\n",
        "Lambdas are one-line methods without a name or we can say anonymous Func\n",
        "They work practically the same as any other method in Python Lambdas differ from normal Python methods because they can have only one expression, can't contain any statements and their return type is a function object.\n",
        "\n",
        "\n"
      ],
      "metadata": {
        "id": "hydjIVsjN1EV"
      }
    },
    {
      "cell_type": "markdown",
      "source": [
        "2. What is the benefit of lambda?"
      ],
      "metadata": {
        "id": "PsSARNI0OYIL"
      }
    },
    {
      "cell_type": "markdown",
      "source": [
        "Answer- The following are some of the benefits of lambda expressions:\n",
        "\n",
        "1) Can be used to create Nameless/Anonymous functions inside some complex functions if we are planning to use it only once.\n",
        "\n",
        "2) Moderate to small functions can be created in a single line\n",
        "\n",
        "3) Fuctions created using lambda expressions can be assigned to a variable and can be used by simply calling the variable.\n",
        "\n"
      ],
      "metadata": {
        "id": "DA1XQJ-GPK3i"
      }
    },
    {
      "cell_type": "markdown",
      "source": [
        "3. Compare and contrast map, filter, and reduce.\n",
        "\n",
        "Answer- Map applies as a transformation to an element.\n",
        "\n",
        "The map() function iterates through all items in the given iterable and executes the function we passed as an argument on each of them. Syntax : map(function, iterable(s)).\n",
        "\n",
        "filter accumulates only elements matching a condition.\n",
        "\n",
        "filter() forms a new list that contains only elements that satisfy a certain condition, i.e. the function we passed returns True Syntax : filter(function, iterable(s))\n",
        "\n",
        "\n",
        "reduce accumulates all elements to a single value, by using immutable values\n",
        "\n",
        "reduce() works by calling the function we passed for the first two items in the sequence. The result returned by the function is used in another call to function alongside with the next (third in this case), element Syntax : reduce(function, sequence[, initial])\n",
        "\n"
      ],
      "metadata": {
        "id": "cWefyKlpEU3V"
      }
    },
    {
      "cell_type": "code",
      "source": [
        "Animal = [\"Anteater\", \"Dog\", \"Elephant\", \"Giraffe\", \"Cat\"]\n",
        "map_object = map(lambda s: s[0] == \"A\", Animal)\n",
        "\n",
        "\n",
        "for i in map_object:\n",
        "    print(i)"
      ],
      "metadata": {
        "colab": {
          "base_uri": "https://localhost:8080/"
        },
        "id": "sBnseExmFn_j",
        "outputId": "0250b04e-ccdf-41eb-d212-e9ed3b2990ee"
      },
      "execution_count": 1,
      "outputs": [
        {
          "output_type": "stream",
          "name": "stdout",
          "text": [
            "True\n",
            "False\n",
            "False\n",
            "False\n",
            "False\n"
          ]
        }
      ]
    },
    {
      "cell_type": "code",
      "source": [
        "### Filter function\n",
        "Animal = [\"Anteater\", \"Dog\", \"Elephant\", \"Giraffe\", \"Cat\"]\n",
        "filter_object = filter(lambda s: s[0] == \"A\", Animal)\n",
        "\n",
        "for i in filter_object:\n",
        "    print(i)"
      ],
      "metadata": {
        "colab": {
          "base_uri": "https://localhost:8080/"
        },
        "id": "o3T6BFgaF3nz",
        "outputId": "87469d8b-c6fa-442e-a7cb-02424c20483c"
      },
      "execution_count": 2,
      "outputs": [
        {
          "output_type": "stream",
          "name": "stdout",
          "text": [
            "Anteater\n"
          ]
        }
      ]
    },
    {
      "cell_type": "markdown",
      "source": [],
      "metadata": {
        "id": "XDkL-j0YGRAz"
      }
    },
    {
      "cell_type": "code",
      "source": [
        "### Reduce function\n",
        "from functools import reduce\n",
        "\n",
        "list = [4, 3, 8, 3]\n",
        "print(reduce(lambda x, y: x + y, list))\n",
        "print(\"With an initial value: \" + str(reduce(lambda x, y: x + y, list, 10)))"
      ],
      "metadata": {
        "colab": {
          "base_uri": "https://localhost:8080/"
        },
        "id": "CVkWI4wjF8yS",
        "outputId": "30d55b10-fdab-4b2d-8f5c-4728d2b096a3"
      },
      "execution_count": 4,
      "outputs": [
        {
          "output_type": "stream",
          "name": "stdout",
          "text": [
            "18\n",
            "With an initial value: 28\n"
          ]
        }
      ]
    },
    {
      "cell_type": "markdown",
      "source": [
        "4. What are function annotations, and how are they used?"
      ],
      "metadata": {
        "id": "fpbY2IriGBaS"
      }
    },
    {
      "cell_type": "markdown",
      "source": [
        "Answer-  Function annotations provide a way of associating various parts of a function with arbitrary pythoncexpressions at compile time.\n",
        "Annotations of simple parameters def func(x: expression, y: expression = 20):\n",
        "Whereas the annotations for excess parameters are as − def func (**args: expression, **kwargs: expression):"
      ],
      "metadata": {
        "id": "X7y6hSKuGMQS"
      }
    },
    {
      "cell_type": "markdown",
      "source": [
        "5. What are recursive functions, and how are they used?"
      ],
      "metadata": {
        "id": "eJMZlaKvGbDL"
      }
    },
    {
      "cell_type": "markdown",
      "source": [
        "Answer-  A recursive function is a function that calls itself during its execution. The process may repeat several times, outputting the result and the end of each iteration.\n",
        "\n"
      ],
      "metadata": {
        "id": "0A-Xo4saGi9r"
      }
    },
    {
      "cell_type": "markdown",
      "source": [
        "6. What are some general design guidelines for coding functions?"
      ],
      "metadata": {
        "id": "OwFresrkGwMM"
      }
    },
    {
      "cell_type": "markdown",
      "source": [
        "Answer-  Some of the general design guidelines for coding functions are:\n",
        "\n",
        "1)Always use a docstring to explain the functionality of the function.\n",
        "\n",
        "2)avoid using or limited use of global variables\n",
        "\n",
        "3)Proper Identation to increase the code readability\n",
        "\n",
        "4)try to follow a naming convention for function names (pascalCase or camelCase) and stick with the same convention throughout the application.\n",
        "\n",
        "5)Avoid using digits while choosing a variable name\n",
        "\n",
        "6)try to use a name for the function which conveys the purpose of the function\n",
        "\n",
        "7)Local variables should be named using camelCase format (ex: localVariable) whereas Global variables names should be using PascalCase (ex:GlobalVariable).\n",
        "\n",
        "8)Constant should be represented in allcaps (ex:CONSTANT)."
      ],
      "metadata": {
        "id": "AuJMkF91G5py"
      }
    },
    {
      "cell_type": "markdown",
      "source": [
        "7. Name three or more ways that functions can communicate results to a caller."
      ],
      "metadata": {
        "id": "P1PdIhpFH3SR"
      }
    },
    {
      "cell_type": "markdown",
      "source": [
        "Answer- \n",
        "1)Function can return single value\n",
        "\n",
        "2)Can return multiple values, tuple\n",
        "\n",
        "3)can return list,dictionary\n",
        "\n",
        "4)can return function object\n",
        "\n",
        "5)can return class object"
      ],
      "metadata": {
        "id": "1hmqL8D5IF9K"
      }
    }
  ]
}