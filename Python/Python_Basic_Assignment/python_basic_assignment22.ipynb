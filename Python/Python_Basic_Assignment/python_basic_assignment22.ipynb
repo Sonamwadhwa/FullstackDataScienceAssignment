{
  "nbformat": 4,
  "nbformat_minor": 0,
  "metadata": {
    "colab": {
      "provenance": []
    },
    "kernelspec": {
      "name": "python3",
      "display_name": "Python 3"
    },
    "language_info": {
      "name": "python"
    }
  },
  "cells": [
    {
      "cell_type": "markdown",
      "source": [
        "1. What is the result of the code, and explain?\n",
        "\n",
        "&gt;&gt;&gt; X = &#39;iNeuron&#39;\n",
        "&gt;&gt;&gt; def func():\n",
        "print(X)\n",
        "\n",
        "&gt;&gt;&gt; func()"
      ],
      "metadata": {
        "id": "aF3uMXe_4yjr"
      }
    },
    {
      "cell_type": "code",
      "source": [
        "X = 'iNeuron'\n",
        "def func():\n",
        "    print(X)\n",
        "func()\n",
        "\n",
        "#Ans. The global variables are accessible in side the functions in python. \n",
        "#But we can not access function variable out side function. \n",
        "#Since x is global variable we are able to print it in side the function solution : 'iNeuron'"
      ],
      "metadata": {
        "id": "oYBuRcw0403b"
      },
      "execution_count": null,
      "outputs": []
    },
    {
      "cell_type": "markdown",
      "source": [
        "2. What is the result of the code, and explain?\n",
        "\n",
        "&gt;&gt;&gt; X = &#39;iNeuron&#39;\n",
        "&gt;&gt;&gt; def func():\n",
        "X = &#39;NI!&#39;\n",
        "\n",
        "&gt;&gt;&gt; func()\n",
        "&gt;&gt;&gt; print(X)"
      ],
      "metadata": {
        "id": "IG2fKm4G5Q7L"
      }
    },
    {
      "cell_type": "code",
      "source": [
        "X = 'iNeuron'\n",
        "def func():\n",
        "    X = 'NI!'\n",
        "\n",
        "func()\n",
        "print(X)\n",
        "\n",
        "#Ans. The global variables are access in side the functions in python. But we can not access function variable out side function.\n",
        "# Since x is golbal variable we are able to print it out side of the function solution = 'iNeuron'\n",
        "     "
      ],
      "metadata": {
        "colab": {
          "base_uri": "https://localhost:8080/"
        },
        "id": "IqUmBPV28CtN",
        "outputId": "e41f251c-fdc7-4ab6-e2c3-b52cec0f2a20"
      },
      "execution_count": 1,
      "outputs": [
        {
          "output_type": "stream",
          "name": "stdout",
          "text": [
            "iNeuron\n"
          ]
        }
      ]
    },
    {
      "cell_type": "markdown",
      "source": [
        "3. What does this code print, and why?\n",
        "\n",
        "&gt;&gt;&gt; X = &#39;iNeuron&#39;\n",
        "&gt;&gt;&gt; def func():\n",
        "X = &#39;NI&#39;\n",
        "print(X)\n",
        "\n",
        "&gt;&gt;&gt; func()\n",
        "&gt;&gt;&gt; print(X)"
      ],
      "metadata": {
        "id": "5KQble8w9PBC"
      }
    },
    {
      "cell_type": "code",
      "source": [
        "X = 'iNeuron'\n",
        "def func():\n",
        "    X = 'NI!'\n",
        "    print(X)\n",
        "\n",
        "func()\n",
        "print(X)\n",
        "\n",
        "#Ans. The global variables are access in side the functions in python. But we can not access function variable out side function.\n",
        "# X is updated with 'NI' which is local to function and its immutable. its name space is with in the function solution = 'NI!', 'iNeuron'"
      ],
      "metadata": {
        "colab": {
          "base_uri": "https://localhost:8080/"
        },
        "id": "PVM7T-G59Quz",
        "outputId": "ab407bfa-7247-47f3-880d-a9241a5ceeff"
      },
      "execution_count": 2,
      "outputs": [
        {
          "output_type": "stream",
          "name": "stdout",
          "text": [
            "NI!\n",
            "iNeuron\n"
          ]
        }
      ]
    },
    {
      "cell_type": "markdown",
      "source": [
        "4. What output does this code produce? Why?\n",
        "\n",
        "&gt;&gt;&gt; X = &#39;iNeuron&#39;\n",
        "&gt;&gt;&gt; def func():\n",
        "global X\n",
        "X = &#39;NI&#39;\n",
        "\n",
        "&gt;&gt;&gt; func()\n",
        "&gt;&gt;&gt; print(X)"
      ],
      "metadata": {
        "id": "yXMNW3Db9bca"
      }
    },
    {
      "cell_type": "code",
      "source": [
        "\n",
        "X = 'iNeuron'\n",
        "def func():\n",
        "    global X\n",
        "    X = 'NI!'\n",
        "    print(X)\n",
        "\n",
        "func()\n",
        "print(X)\n",
        "#Ans. since the X in side function is made Global, it will be accesible out side of the function too. \n",
        "#now X will have new value.\n",
        "\n",
        " #solution : 'NI!', 'NI!'"
      ],
      "metadata": {
        "colab": {
          "base_uri": "https://localhost:8080/"
        },
        "id": "hKQ15Qpq9dFz",
        "outputId": "398ee50b-2440-4e48-9a8f-dc2cf979f37f"
      },
      "execution_count": 3,
      "outputs": [
        {
          "output_type": "stream",
          "name": "stdout",
          "text": [
            "NI!\n",
            "NI!\n"
          ]
        }
      ]
    },
    {
      "cell_type": "markdown",
      "source": [
        "5. What about this code—what’s the output, and why?\n",
        "\n",
        "&gt;&gt;&gt; X = &#39;iNeuron&#39;\n",
        "\n",
        "&gt;&gt;&gt; def func():\n",
        "\n",
        "X = &#39;NI&#39;\n",
        "\n",
        "def nested():\n",
        "\n",
        "print(X)\n",
        "\n",
        "nested()\n",
        "\n",
        "&gt;&gt;&gt; func()\n",
        "\n",
        "&gt;&gt;&gt; X"
      ],
      "metadata": {
        "id": "dNBr5xkh9kDq"
      }
    },
    {
      "cell_type": "code",
      "source": [
        "\n",
        "X = 'iNeuron'\n",
        "def func():\n",
        "    X = 'NI'\n",
        "def nested():\n",
        "    print(X)\n",
        "    \n",
        "nested()\n",
        "func()\n",
        "X\n",
        "\n",
        "#Ans. the nested() function will print 'iNeuron', Then func() does not display anything,\n",
        "# and x ='NI' is not accessible out \n",
        "#side the function.\n",
        "#Solution : 'iNeuron'"
      ],
      "metadata": {
        "colab": {
          "base_uri": "https://localhost:8080/",
          "height": 53
        },
        "id": "vmK3_Pa79ynj",
        "outputId": "40b0e5c0-5a65-431b-f02f-9f36c02b0494"
      },
      "execution_count": 4,
      "outputs": [
        {
          "output_type": "stream",
          "name": "stdout",
          "text": [
            "iNeuron\n"
          ]
        },
        {
          "output_type": "execute_result",
          "data": {
            "text/plain": [
              "'iNeuron'"
            ],
            "application/vnd.google.colaboratory.intrinsic+json": {
              "type": "string"
            }
          },
          "metadata": {},
          "execution_count": 4
        }
      ]
    },
    {
      "cell_type": "markdown",
      "source": [
        "6. How about this code: what is its output in Python 3, and explain?\n",
        "\n",
        "&gt;&gt;&gt; def func():\n",
        "\n",
        "X = &#39;NI&#39;\n",
        "\n",
        "def nested():\n",
        "\n",
        "nonlocal X\n",
        "\n",
        "X = &#39;Spam&#39;\n",
        "\n",
        "nested()\n",
        "\n",
        "print(X)\n",
        "\n",
        "&gt;&gt;&gt; func()"
      ],
      "metadata": {
        "id": "KUrK5v6d-GWa"
      }
    },
    {
      "cell_type": "code",
      "source": [
        "\n",
        "def func():\n",
        "    X = 'NI'\n",
        "    def nested():\n",
        "        nonlocal X\n",
        "        X = 'spam'\n",
        "    nested()\n",
        "    print(X)\n",
        "\n",
        "func()\n",
        "\n",
        "#Nonlocal variables are used in nested functions whose local scope is not defined. \n",
        "#This means that the variable can be neither in the local nor the global scope. it print the updated value from nested \n",
        "#function\n",
        "\n",
        "#Sol : 'spam'"
      ],
      "metadata": {
        "colab": {
          "base_uri": "https://localhost:8080/"
        },
        "id": "fyEQ8dyJ-kya",
        "outputId": "fd166ada-5125-4e9d-966d-eb4e9d830262"
      },
      "execution_count": 5,
      "outputs": [
        {
          "output_type": "stream",
          "name": "stdout",
          "text": [
            "spam\n"
          ]
        }
      ]
    }
  ]
}