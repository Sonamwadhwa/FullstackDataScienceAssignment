{
  "nbformat": 4,
  "nbformat_minor": 0,
  "metadata": {
    "colab": {
      "provenance": []
    },
    "kernelspec": {
      "name": "python3",
      "display_name": "Python 3"
    },
    "language_info": {
      "name": "python"
    }
  },
  "cells": [
    {
      "cell_type": "markdown",
      "source": [
        "1. What is the result of the code, and why?\n",
        "\n",
        "&gt;&gt;&gt; def func(a, b=6, c=8):\n",
        "print(a, b, c)\n",
        "&gt;&gt;&gt; func(1, 2)"
      ],
      "metadata": {
        "id": "WaShzqhlNP71"
      }
    },
    {
      "cell_type": "code",
      "source": [
        "def func(a, b=6, c=8):\n",
        "    print(a, b, c)\n",
        "func(1, 2)\n",
        "\n",
        "# Ans. This funtion is taking a positional argument and 2 keyward argument. When function call m=is made, parameter passed \n",
        "  # are a=1,b=2. When the function is executed , parameter c=8 will be taken by default as its a keyword argument.\n",
        "   # solution is = 1,2,8"
      ],
      "metadata": {
        "colab": {
          "base_uri": "https://localhost:8080/"
        },
        "id": "9bC-FjgMNTCc",
        "outputId": "868e46ba-0707-4250-b926-d469b02d4292"
      },
      "execution_count": 1,
      "outputs": [
        {
          "output_type": "stream",
          "name": "stdout",
          "text": [
            "1 2 8\n"
          ]
        }
      ]
    },
    {
      "cell_type": "markdown",
      "source": [
        "2. What is the result of this code, and why?\n",
        "\n",
        "&gt;&gt;&gt; def func(a, b, c=5):\n",
        "print(a, b, c)\n",
        "&gt;&gt;&gt; func(1, c=3, b=2)"
      ],
      "metadata": {
        "id": "pvtcv8nmN2N8"
      }
    },
    {
      "cell_type": "code",
      "source": [
        "def func(a, b, c=5):\n",
        "    print(a, b, c)\n",
        "func(1, c=3, b=2)\n",
        "\n",
        "# Ans. When we make function call, order will be positional argument and then keywords arguments. we can pass the keyword arguments in any order we want.\n",
        "#Solution is 1,2,3"
      ],
      "metadata": {
        "colab": {
          "base_uri": "https://localhost:8080/"
        },
        "id": "ln9-0PUZN4vM",
        "outputId": "5be75c19-c09a-4b7f-9299-3ebb89a0bbdc"
      },
      "execution_count": 2,
      "outputs": [
        {
          "output_type": "stream",
          "name": "stdout",
          "text": [
            "1 2 3\n"
          ]
        }
      ]
    },
    {
      "cell_type": "markdown",
      "source": [
        "3. How about this code: what is its result, and why?\n",
        "\n",
        "&gt;&gt;&gt; def func(a, *pargs):\n",
        "print(a, pargs)\n",
        "&gt;&gt;&gt; func(1, 2, 3)"
      ],
      "metadata": {
        "id": "HEoxPsQcN9Zc"
      }
    },
    {
      "cell_type": "code",
      "source": [
        "def func(a, *pargs):\n",
        "    print(a, pargs)\n",
        "func(1, 2, 3)\n",
        "\n",
        "# Ans.The return type of *args parameter is tuple, where as **kargs will be dictionary\n",
        "#solution is = 1,(2,3)"
      ],
      "metadata": {
        "colab": {
          "base_uri": "https://localhost:8080/"
        },
        "id": "LQ01Rh8YN_pk",
        "outputId": "acc32489-d5f4-4770-a50a-c1fb0287fbd3"
      },
      "execution_count": 3,
      "outputs": [
        {
          "output_type": "stream",
          "name": "stdout",
          "text": [
            "1 (2, 3)\n"
          ]
        }
      ]
    },
    {
      "cell_type": "markdown",
      "source": [
        "4. What does this code print, and why?\n",
        "\n",
        "&gt;&gt;&gt; def func(a, **kargs):\n",
        "print(a, kargs)\n",
        "&gt;&gt;&gt; func(a=1, c=3, b=2)"
      ],
      "metadata": {
        "id": "vCl9wqFJOEfl"
      }
    },
    {
      "cell_type": "code",
      "source": [
        "def func(a, **kargs):\n",
        "    print(a, kargs)\n",
        "func(a=1, c=3, b=2)\n",
        "\n",
        "#Ans. The return type of  **kargs is  dictionary\n",
        "#solution is = 1,{'c':3,'b':2}"
      ],
      "metadata": {
        "colab": {
          "base_uri": "https://localhost:8080/"
        },
        "id": "FToe_Gm3OHfk",
        "outputId": "bbb3b6d8-2a88-4e7f-cd09-c42abedc5ab7"
      },
      "execution_count": 4,
      "outputs": [
        {
          "output_type": "stream",
          "name": "stdout",
          "text": [
            "1 {'c': 3, 'b': 2}\n"
          ]
        }
      ]
    },
    {
      "cell_type": "markdown",
      "source": [
        "5. What gets printed by this, and explain?\n",
        "\n",
        "&gt;&gt;&gt; def func(a, b, c=8, d=5): print(a, b, c, d)\n",
        "&gt;&gt;&gt; func(1, *(5, 6))"
      ],
      "metadata": {
        "id": "xiSoThShOPS0"
      }
    },
    {
      "cell_type": "code",
      "source": [
        "def func(a, b, c=8, d=5): \n",
        "    print(a, b, c, d)\n",
        "func(1, *(5, 6))\n",
        "\n",
        "# '*' is the unpacking operator and are operators that unpack the values from iterable objects in Python. The single \n",
        "#    asterisk operator * can be used on any iterable that Python provides, while the double asterisk operator ** can only \n",
        " #   be used on dictionaries. In the example the value *(5,6) will be unpacked and will be assigned to b and c and passed \n",
        " #   as arguments, d =5 will taken by defaults are keyword arguments.\n",
        "\n",
        "  #  Solution 1,5,6,5\n",
        "     "
      ],
      "metadata": {
        "colab": {
          "base_uri": "https://localhost:8080/"
        },
        "id": "5ZRT0a3ROU9V",
        "outputId": "5bc10e06-384e-45a6-fb39-5fb550db6770"
      },
      "execution_count": 5,
      "outputs": [
        {
          "output_type": "stream",
          "name": "stdout",
          "text": [
            "1 5 6 5\n"
          ]
        }
      ]
    },
    {
      "cell_type": "markdown",
      "source": [
        "6. what is the result of this, and explain?\n",
        "\n",
        "&gt;&gt;&gt; def func(a, b, c): a = 2; b[0] = &#39;x&#39;; c[&#39;a&#39;] = &#39;y&#39;\n",
        "\n",
        "&gt;&gt;&gt; l=1; m=[1]; n={&#39;a&#39;:0}\n",
        "\n",
        "&gt;&gt;&gt; func(l, m, n)\n",
        "\n",
        "&gt;&gt;&gt; l, m, n"
      ],
      "metadata": {
        "id": "3I7vUoEOOXUt"
      }
    },
    {
      "cell_type": "code",
      "source": [
        "def func(a, b, c): \n",
        "    a = 2; b[0] = 'x'; c['a'] = 'y'\n",
        "    \n",
        "l=1; m=[1]; n={'a':0}\n",
        "func(l, m, n)\n",
        "\n",
        "l, m, n\n",
        "\n",
        "# Ans. Here in the code, the list and dict are passed as argument, and those are mutable. Here the list l and parameter b point \n",
        "#to the same list in the memory location where as dict n and c point to the same memory location. Any updates to this \n",
        "#list will update in the memory location\n",
        "\n",
        "#l = 1 , integer values, immutable, m is list, mutable, n is dict, mutable.\n",
        "#output will be = 1,['x'],{'a':'y'}"
      ],
      "metadata": {
        "colab": {
          "base_uri": "https://localhost:8080/"
        },
        "id": "GWaeiILOOg1s",
        "outputId": "1c1e43df-9dfa-4f26-a3c9-c08932adcfe7"
      },
      "execution_count": 6,
      "outputs": [
        {
          "output_type": "execute_result",
          "data": {
            "text/plain": [
              "(1, ['x'], {'a': 'y'})"
            ]
          },
          "metadata": {},
          "execution_count": 6
        }
      ]
    }
  ]
}