{
  "cells": [
    {
      "cell_type": "markdown",
      "metadata": {
        "id": "XqGEs247sU2k"
      },
      "source": [
        "1. What is the name of the feature responsible for generating Regex objects?"
      ]
    },
    {
      "cell_type": "code",
      "execution_count": 1,
      "metadata": {
        "colab": {
          "base_uri": "https://localhost:8080/"
        },
        "id": "4CopZoZPsV1L",
        "outputId": "273c5efb-8bbd-4f63-a6c4-a58e5f81f006"
      },
      "outputs": [
        {
          "output_type": "execute_result",
          "data": {
            "text/plain": [
              "re.compile(r'string', re.UNICODE)"
            ]
          },
          "metadata": {},
          "execution_count": 1
        }
      ],
      "source": [
        "import re\n",
        "re.compile(\"string\")\n",
        "#The re.compile() function returns Regex objects."
      ]
    },
    {
      "cell_type": "markdown",
      "metadata": {
        "id": "ZH_-5uCat2qb"
      },
      "source": [
        "2. Why do raw strings often appear in Regex objects?"
      ]
    },
    {
      "cell_type": "markdown",
      "metadata": {
        "id": "X_OeL3-bt5C7"
      },
      "source": [
        "Ans . Raw strings are used so that backslashes do not have to be escaped"
      ]
    },
    {
      "cell_type": "markdown",
      "metadata": {
        "id": "i_ws5tyEt-m7"
      },
      "source": [
        "3. What is the return value of the search() method?"
      ]
    },
    {
      "cell_type": "markdown",
      "metadata": {
        "id": "GIbGME9puD2s"
      },
      "source": [
        "Ans . The search() method searches a string for a specified value, and returns the position of the match.The search value can be string or a regular expression. This method returns -1 if no match is found.\n",
        "\n",
        "\n",
        "\n"
      ]
    },
    {
      "cell_type": "markdown",
      "metadata": {
        "id": "z6Qzdzynublc"
      },
      "source": [
        "4. From a Match item, how do you get the actual strings that match the pattern?"
      ]
    },
    {
      "cell_type": "code",
      "execution_count": 2,
      "metadata": {
        "colab": {
          "base_uri": "https://localhost:8080/"
        },
        "id": "9kfvQCK1ujDM",
        "outputId": "4d4a800f-818e-491c-db47-b34f2d0e3210"
      },
      "outputs": [
        {
          "output_type": "stream",
          "name": "stdout",
          "text": [
            "Phone number is: 345-444-4542\n"
          ]
        }
      ],
      "source": [
        "phoneNumRegex = re.compile(r'\\d\\d\\d-\\d\\d\\d-\\d\\d\\d\\d')\n",
        "mo = phoneNumRegex.search('My number is 345-444-4542.')\n",
        "print('Phone number is: ' + mo.group())\n",
        "#Calling matchingObject.group() will return the string."
      ]
    },
    {
      "cell_type": "markdown",
      "metadata": {
        "id": "gMfWISdlupmc"
      },
      "source": [
        "5. In the regex which created from the r&#39;(\\d\\d\\d)-(\\d\\d\\d-\\d\\d\\d\\d)&#39;, what does group zero cover?\n",
        "Group 2? Group 1?"
      ]
    },
    {
      "cell_type": "code",
      "execution_count": 3,
      "metadata": {
        "colab": {
          "base_uri": "https://localhost:8080/",
          "height": 35
        },
        "id": "LShteQGAuqtk",
        "outputId": "6aaefdfa-afa4-489e-e74c-810f92675160"
      },
      "outputs": [
        {
          "output_type": "execute_result",
          "data": {
            "text/plain": [
              "'345'"
            ],
            "application/vnd.google.colaboratory.intrinsic+json": {
              "type": "string"
            }
          },
          "metadata": {},
          "execution_count": 3
        }
      ],
      "source": [
        "\n",
        "phoneNumRegex = re.compile(r'(\\d\\d\\d)-(\\d\\d\\d-\\d\\d\\d\\d)')\n",
        "mo = phoneNumRegex.search('My number is 345-444-4542.')\n",
        "mo.group(1)\n"
      ]
    },
    {
      "cell_type": "code",
      "execution_count": 4,
      "metadata": {
        "colab": {
          "base_uri": "https://localhost:8080/",
          "height": 35
        },
        "id": "4O5RHfymu0LY",
        "outputId": "d8c3b2f3-3ed1-40c5-ebd0-bf0761cd78bb"
      },
      "outputs": [
        {
          "output_type": "execute_result",
          "data": {
            "text/plain": [
              "'444-4542'"
            ],
            "application/vnd.google.colaboratory.intrinsic+json": {
              "type": "string"
            }
          },
          "metadata": {},
          "execution_count": 4
        }
      ],
      "source": [
        "mo.group(2)\n"
      ]
    },
    {
      "cell_type": "code",
      "execution_count": 5,
      "metadata": {
        "colab": {
          "base_uri": "https://localhost:8080/",
          "height": 35
        },
        "id": "MhvVIVs3u2n_",
        "outputId": "8415f4b5-c80f-4279-d694-0493a2282942"
      },
      "outputs": [
        {
          "output_type": "execute_result",
          "data": {
            "text/plain": [
              "'345-444-4542'"
            ],
            "application/vnd.google.colaboratory.intrinsic+json": {
              "type": "string"
            }
          },
          "metadata": {},
          "execution_count": 5
        }
      ],
      "source": [
        "mo.group(0)\n"
      ]
    },
    {
      "cell_type": "markdown",
      "metadata": {
        "id": "Njwld9kou7Kp"
      },
      "source": [
        "6. In standard expression syntax, parentheses and intervals have distinct meanings. How can you tell\n",
        "a regex that you want it to fit real parentheses and periods?"
      ]
    },
    {
      "cell_type": "markdown",
      "metadata": {
        "id": "ALUx9g9Ju9db"
      },
      "source": [
        "Ans : Periods and parentheses can be escaped with a backslash: ., (, and )."
      ]
    },
    {
      "cell_type": "markdown",
      "metadata": {
        "id": "8IJ2AN04vDNz"
      },
      "source": [
        "7. The findall() method returns a string list or a list of string tuples. What causes it to return one of\n",
        "the two options?"
      ]
    },
    {
      "cell_type": "markdown",
      "metadata": {
        "id": "Sbki9QcwvGDc"
      },
      "source": [
        "Ans. If the regex has no groups, a list of strings is returned. If the regex has groups, a list of tuples of strings is returned"
      ]
    },
    {
      "cell_type": "markdown",
      "metadata": {
        "id": "S1NBaJejvMm5"
      },
      "source": [
        "8. In standard expressions, what does the | character mean?"
      ]
    },
    {
      "cell_type": "markdown",
      "metadata": {
        "id": "h50AvOl-vVA3"
      },
      "source": [
        "Ans. The | character is called a pipe. You can use it anywhere you want to match one of many expressions.For example, the regular expression r'Cricket|Soccer Sport' will match either 'Cricket' or 'Soccer Sport'.\n",
        "When both Cricket and Soccer Sport occur in the searched string, the first occurrence of matching text will be returned as the Match object.The | character signifies matching “either, or” between two groups.\n",
        "\n",
        "\n"
      ]
    },
    {
      "cell_type": "code",
      "execution_count": 6,
      "metadata": {
        "colab": {
          "base_uri": "https://localhost:8080/",
          "height": 35
        },
        "id": "hiG6hunOvj7z",
        "outputId": "2727f324-bcef-4edb-a658-daaf7a2338e2"
      },
      "outputs": [
        {
          "output_type": "execute_result",
          "data": {
            "text/plain": [
              "'Cricket'"
            ],
            "application/vnd.google.colaboratory.intrinsic+json": {
              "type": "string"
            }
          },
          "metadata": {},
          "execution_count": 6
        }
      ],
      "source": [
        "SportRegex = re.compile (r'Cricket|Soccer Sport')\n",
        "s1 = SportRegex.search('Cricket and Soccer Sport')\n",
        "s1.group()"
      ]
    },
    {
      "cell_type": "code",
      "execution_count": 7,
      "metadata": {
        "colab": {
          "base_uri": "https://localhost:8080/",
          "height": 35
        },
        "id": "5CSnTMNMvoa7",
        "outputId": "ef64d4f0-d5a2-472d-cba2-5702f55d9b84"
      },
      "outputs": [
        {
          "output_type": "execute_result",
          "data": {
            "text/plain": [
              "'Soccer Sport'"
            ],
            "application/vnd.google.colaboratory.intrinsic+json": {
              "type": "string"
            }
          },
          "metadata": {},
          "execution_count": 7
        }
      ],
      "source": [
        "s2 = SportRegex.search('Soccer Sport and Cricket')\n",
        "s2.group()\n"
      ]
    },
    {
      "cell_type": "markdown",
      "metadata": {
        "id": "SV1Q1HqrvrdD"
      },
      "source": [
        "9. In regular expressions, what does the character stand for?"
      ]
    },
    {
      "cell_type": "markdown",
      "metadata": {
        "id": "1-4Z9YvLvyO9"
      },
      "source": [
        "Ans. The ? character can either mean “match zero or one of the preceding group”.\n",
        "\n"
      ]
    },
    {
      "cell_type": "code",
      "execution_count": 8,
      "metadata": {
        "colab": {
          "base_uri": "https://localhost:8080/",
          "height": 35
        },
        "id": "LzQv5lhPv0FU",
        "outputId": "4f9dcb66-d83b-4f3a-ca9f-2b4ab7974ff1"
      },
      "outputs": [
        {
          "output_type": "execute_result",
          "data": {
            "text/plain": [
              "'Batman'"
            ],
            "application/vnd.google.colaboratory.intrinsic+json": {
              "type": "string"
            }
          },
          "metadata": {},
          "execution_count": 8
        }
      ],
      "source": [
        "batRegex = re.compile(r'Bat(wo)?man')\n",
        "mo1 = batRegex.search('The Adventures of Batman')\n",
        "mo1.group()"
      ]
    },
    {
      "cell_type": "code",
      "execution_count": 9,
      "metadata": {
        "colab": {
          "base_uri": "https://localhost:8080/",
          "height": 35
        },
        "id": "bjzGNNRXv58b",
        "outputId": "e6c34737-ae01-4019-f311-4b2a0885a18e"
      },
      "outputs": [
        {
          "output_type": "execute_result",
          "data": {
            "text/plain": [
              "'Batwoman'"
            ],
            "application/vnd.google.colaboratory.intrinsic+json": {
              "type": "string"
            }
          },
          "metadata": {},
          "execution_count": 9
        }
      ],
      "source": [
        "\n",
        "mo2 = batRegex.search('The Adventures of Batwoman')\n",
        "mo2.group()"
      ]
    },
    {
      "cell_type": "markdown",
      "metadata": {
        "id": "IwdX5jvIv7yT"
      },
      "source": [
        "10.In regular expressions, what is the difference between the + and * characters?"
      ]
    },
    {
      "cell_type": "markdown",
      "metadata": {
        "id": "89Q6DpT7wEL0"
      },
      "source": [
        "Ans. The + matches one or more. The * matches zero or more\n",
        "\n"
      ]
    },
    {
      "cell_type": "markdown",
      "metadata": {
        "id": "dLIY0gtbwIll"
      },
      "source": [
        "11. What is the difference between {4} and {4,5} in regular expression?"
      ]
    },
    {
      "cell_type": "markdown",
      "metadata": {
        "id": "2CC2cz5ZwLNd"
      },
      "source": [
        "Ans. The {3} matches exactly three instances of the preceding group.\n",
        "\n",
        "The {3,5} matches between three and five instances."
      ]
    },
    {
      "cell_type": "markdown",
      "metadata": {
        "id": "kdfZ2mACwTp9"
      },
      "source": [
        "12. What do you mean by the \\d, \\w, and \\s shorthand character classes signify in regular expressions?"
      ]
    },
    {
      "cell_type": "markdown",
      "metadata": {
        "id": "HA3ErPl4wart"
      },
      "source": [
        "Ans .The \\d, stands for single digit, Any numeric digit from 0 to 9.\\w, stands for single word, Any letter, numeric digit, or the underscore character. (Think of this as matching “word” characters.) \\s stands for single space character, Any space, tab, or newline character. (Think of this as matching “space” characters.)"
      ]
    },
    {
      "cell_type": "markdown",
      "metadata": {
        "id": "nQDrBZGIwcFW"
      },
      "source": [
        "Ques. What do means by \\D, \\W, and \\S shorthand character classes signify in regular expressions?\n"
      ]
    },
    {
      "cell_type": "markdown",
      "metadata": {
        "id": "BogjD_IJwvrL"
      },
      "source": [
        "Ans. \\D - > Any character that is not a numeric digit from 0 to 9.\n",
        "\n",
        "\\W - > Any character that is not a letter, numeric digit, or the underscore character.\n",
        "\\S - > Any character that is not a space, tab, or newline."
      ]
    },
    {
      "cell_type": "markdown",
      "metadata": {
        "id": "Q5hSGKA_w1MR"
      },
      "source": [
        "14. What is the difference between .*? and .*?"
      ]
    },
    {
      "cell_type": "markdown",
      "metadata": {
        "id": "UYZ1MPwGNvaV"
      },
      "source": [
        "Answer - The dot-star uses greedy mode: It will always try to match as much text as possible.To match any and all text in a non-greedy fashion, use the dot, star, and question mark (.?)"
      ]
    },
    {
      "cell_type": "markdown",
      "metadata": {
        "id": "KxqRU-BIYNxI"
      },
      "source": [
        "15. What is the syntax for matching both numbers and lowercase letters with a character class?\n"
      ]
    },
    {
      "cell_type": "markdown",
      "metadata": {
        "id": "praeofnFYP2A"
      },
      "source": [
        "Ans - Either [0-9a-z] or [a-z0-9]"
      ]
    },
    {
      "cell_type": "code",
      "source": [
        "reg1 = re.compile(r'[0-9a-z]')\n",
        "reg2 = re.compile(r'[a-z0-9]')\n",
        "\n",
        "mo1 = reg1.search('100 times I am Reading  this for 100 th time')\n",
        "mo1.group()"
      ],
      "metadata": {
        "colab": {
          "base_uri": "https://localhost:8080/",
          "height": 35
        },
        "id": "F9kcDuh48Zm6",
        "outputId": "087954b6-06ae-42c8-8a5b-11f19d23a842"
      },
      "execution_count": 10,
      "outputs": [
        {
          "output_type": "execute_result",
          "data": {
            "text/plain": [
              "'1'"
            ],
            "application/vnd.google.colaboratory.intrinsic+json": {
              "type": "string"
            }
          },
          "metadata": {},
          "execution_count": 10
        }
      ]
    },
    {
      "cell_type": "code",
      "source": [
        "reg2 = re.compile(r'[a-z0-9]')\n",
        "\n",
        "mo1 = reg2.search('times I am Reading  this for 100 th time')\n",
        "mo1.group()"
      ],
      "metadata": {
        "colab": {
          "base_uri": "https://localhost:8080/",
          "height": 35
        },
        "id": "sdEzsiBW8cuz",
        "outputId": "c688a267-0287-4c91-eb46-4aea8960f691"
      },
      "execution_count": 11,
      "outputs": [
        {
          "output_type": "execute_result",
          "data": {
            "text/plain": [
              "'t'"
            ],
            "application/vnd.google.colaboratory.intrinsic+json": {
              "type": "string"
            }
          },
          "metadata": {},
          "execution_count": 11
        }
      ]
    },
    {
      "cell_type": "markdown",
      "source": [
        "16. What is the procedure for making a normal expression in regax case insensitive?"
      ],
      "metadata": {
        "id": "9YNVseNC8tCT"
      }
    },
    {
      "cell_type": "code",
      "source": [
        "casesen.search('MACHINE is learning.').group()\n"
      ],
      "metadata": {
        "colab": {
          "base_uri": "https://localhost:8080/",
          "height": 35
        },
        "id": "BZ7Wd4L_90jp",
        "outputId": "f557843c-9105-427f-9095-110fdf17c97c"
      },
      "execution_count": 13,
      "outputs": [
        {
          "output_type": "execute_result",
          "data": {
            "text/plain": [
              "'MACHINE'"
            ],
            "application/vnd.google.colaboratory.intrinsic+json": {
              "type": "string"
            }
          },
          "metadata": {},
          "execution_count": 13
        }
      ]
    },
    {
      "cell_type": "code",
      "source": [
        "casesen = re.compile(r'machine', re.I)\n",
        "casesen.search('Machine learning is part of data science').group()\n",
        "     "
      ],
      "metadata": {
        "colab": {
          "base_uri": "https://localhost:8080/",
          "height": 35
        },
        "id": "HWSY7VS-8vzq",
        "outputId": "e124a568-894a-43b5-eded-ece07f2dee09"
      },
      "execution_count": 12,
      "outputs": [
        {
          "output_type": "execute_result",
          "data": {
            "text/plain": [
              "'Machine'"
            ],
            "application/vnd.google.colaboratory.intrinsic+json": {
              "type": "string"
            }
          },
          "metadata": {},
          "execution_count": 12
        }
      ]
    },
    {
      "cell_type": "markdown",
      "source": [
        "17. What does the . character normally match? What does it match if re.DOTALL is passed as 2nd argument in re.compile()?"
      ],
      "metadata": {
        "id": "O8zvZ8_p98LR"
      }
    },
    {
      "cell_type": "markdown",
      "source": [
        "Answer - The . character normally matches any character except the newline character. If re.DOTALL is passed as the second argument to re.compile(), then the dot will also match newline characters.\n",
        "\n",
        "\n",
        "\n"
      ],
      "metadata": {
        "id": "BjJJqcBK-Mcb"
      }
    },
    {
      "cell_type": "markdown",
      "source": [
        "18. If numReg = re.compile(r&#39;\\d+&#39;), what will numRegex.sub(&#39;X&#39;, &#39;11 drummers, 10 pipers, five rings, 4\n",
        "hen&#39;) return?"
      ],
      "metadata": {
        "id": "bnJVt_1G-WT6"
      }
    },
    {
      "cell_type": "code",
      "source": [
        "numRegex = re.compile(r'\\d+')\n",
        "mo = numRegex.sub('X', '11 drummers, 10 pipers, five rings, 4 hen')\n",
        "mo"
      ],
      "metadata": {
        "colab": {
          "base_uri": "https://localhost:8080/",
          "height": 35
        },
        "id": "ZG1Aj2o4-e15",
        "outputId": "35222fc9-9668-4385-f5c3-3d4b9cc3529a"
      },
      "execution_count": 14,
      "outputs": [
        {
          "output_type": "execute_result",
          "data": {
            "text/plain": [
              "'X drummers, X pipers, five rings, X hen'"
            ],
            "application/vnd.google.colaboratory.intrinsic+json": {
              "type": "string"
            }
          },
          "metadata": {},
          "execution_count": 14
        }
      ]
    },
    {
      "cell_type": "markdown",
      "source": [
        "19. What does passing re.VERBOSE as the 2nd argument to re.compile() allow to do?"
      ],
      "metadata": {
        "id": "Z2w74e5z-mlJ"
      }
    },
    {
      "cell_type": "markdown",
      "source": [
        "Ans. The re.VERBOSE argument allows you to add whitespace and comments to the string passed to re.compile()\n",
        "\n"
      ],
      "metadata": {
        "id": "29I6ZVwz_6ZC"
      }
    },
    {
      "cell_type": "markdown",
      "source": [
        "20. How would you write a regex that match a number with comma for every three digits? It must\n",
        "match the given following:\n",
        "&#39;42&#39;\n",
        "&#39;1,234&#39;\n",
        "&#39;6,368,745&#39;\n",
        "but not the following:\n",
        "&#39;12,34,567&#39; (which has only two digits between the commas)\n",
        "&#39;1234&#39; (which lacks commas)"
      ],
      "metadata": {
        "id": "_yAt7Wpo_9eK"
      }
    },
    {
      "cell_type": "code",
      "source": [
        "reg1 = re.compile(r'^\\d{1,3}(,\\d{3})*$')\n",
        "mo1 = reg1.search('42')\n",
        "mo1.group()"
      ],
      "metadata": {
        "colab": {
          "base_uri": "https://localhost:8080/",
          "height": 35
        },
        "id": "v9j9McykARJp",
        "outputId": "3d5e9e2d-9ae8-4b03-9af6-9b1d3d240242"
      },
      "execution_count": 15,
      "outputs": [
        {
          "output_type": "execute_result",
          "data": {
            "text/plain": [
              "'42'"
            ],
            "application/vnd.google.colaboratory.intrinsic+json": {
              "type": "string"
            }
          },
          "metadata": {},
          "execution_count": 15
        }
      ]
    },
    {
      "cell_type": "code",
      "source": [
        "\n",
        "reg1 = re.compile(r'^\\d{1,3}(,\\d{3})*$')\n",
        "mo1 = reg1.search('1,234')\n",
        "mo1.group()\n",
        "     "
      ],
      "metadata": {
        "colab": {
          "base_uri": "https://localhost:8080/",
          "height": 35
        },
        "id": "15de4WKkAUgo",
        "outputId": "c6a2e7bb-47c6-42b2-ecd8-9a3c26b7aa17"
      },
      "execution_count": 16,
      "outputs": [
        {
          "output_type": "execute_result",
          "data": {
            "text/plain": [
              "'1,234'"
            ],
            "application/vnd.google.colaboratory.intrinsic+json": {
              "type": "string"
            }
          },
          "metadata": {},
          "execution_count": 16
        }
      ]
    },
    {
      "cell_type": "code",
      "source": [
        "\n",
        "\n",
        "reg1 = re.compile(r'^\\d{1,3}(,\\d{3})*$')\n",
        "mo1 = reg1.search('6,368,745')\n",
        "mo1.group()"
      ],
      "metadata": {
        "colab": {
          "base_uri": "https://localhost:8080/",
          "height": 35
        },
        "id": "nA3YCGljAYrC",
        "outputId": "6cc7a346-2694-4ac5-8b05-cb6e81427bfe"
      },
      "execution_count": 17,
      "outputs": [
        {
          "output_type": "execute_result",
          "data": {
            "text/plain": [
              "'6,368,745'"
            ],
            "application/vnd.google.colaboratory.intrinsic+json": {
              "type": "string"
            }
          },
          "metadata": {},
          "execution_count": 17
        }
      ]
    },
    {
      "cell_type": "markdown",
      "source": [
        "21. How would you write a regex that matches the full name of someone whose last name is\n",
        "Watanabe? You can assume that the first name that comes before it will always be one word that\n",
        "begins with a capital letter. The regex must match the following:\n",
        "&#39;Haruto Watanabe&#39;\n",
        "&#39;Alice Watanabe&#39;\n",
        "&#39;RoboCop Watanabe&#39;\n",
        "but not the following:\n",
        "&#39;haruto Watanabe&#39; (where the first name is not capitalized)\n",
        "&#39;Mr. Watanabe&#39; (where the preceding word has a nonletter character)\n",
        "&#39;Watanabe&#39; (which has no first name)\n",
        "&#39;Haruto watanabe&#39; (where Watanabe is not capitalized)"
      ],
      "metadata": {
        "id": "7CSXkCzNBMoY"
      }
    },
    {
      "cell_type": "code",
      "source": [
        "name = re.compile(r'[A-Z][a-z]*\\sWatanabe')\n",
        "reg1 = re.compile(r'^\\d{1,3}(,\\d{haruto Watanabe3})*$')\n",
        "mo1 = name.search('Haruto Watanabe')\n",
        "mo1.group()"
      ],
      "metadata": {
        "colab": {
          "base_uri": "https://localhost:8080/",
          "height": 35
        },
        "id": "MkeHJDvTBRL4",
        "outputId": "3485a736-b4dd-4033-bc16-97bae63f6b78"
      },
      "execution_count": 18,
      "outputs": [
        {
          "output_type": "execute_result",
          "data": {
            "text/plain": [
              "'Haruto Watanabe'"
            ],
            "application/vnd.google.colaboratory.intrinsic+json": {
              "type": "string"
            }
          },
          "metadata": {},
          "execution_count": 18
        }
      ]
    },
    {
      "cell_type": "code",
      "source": [
        "name = re.compile(r'[A-Z][a-z]*\\sWatanabe')\n",
        "reg1 = re.compile(r'^\\d{1,3}(,\\d{3})*$')\n",
        "mo1 = name.search('Alice Watanabe')\n",
        "mo1.group()"
      ],
      "metadata": {
        "colab": {
          "base_uri": "https://localhost:8080/",
          "height": 35
        },
        "id": "U9czr9igBVmJ",
        "outputId": "f0c00ce6-21fb-4c04-fef2-7dcfb24159ec"
      },
      "execution_count": 19,
      "outputs": [
        {
          "output_type": "execute_result",
          "data": {
            "text/plain": [
              "'Alice Watanabe'"
            ],
            "application/vnd.google.colaboratory.intrinsic+json": {
              "type": "string"
            }
          },
          "metadata": {},
          "execution_count": 19
        }
      ]
    },
    {
      "cell_type": "code",
      "source": [
        "name = re.compile(r'[A-Z][a-z]*\\sWatanabe')\n",
        "reg1 = re.compile(r'^\\d{1,3}(,\\d{3})*$')\n",
        "mo1 = name.search('Robocop Watanabe')\n",
        "mo1.group()"
      ],
      "metadata": {
        "colab": {
          "base_uri": "https://localhost:8080/",
          "height": 35
        },
        "id": "GBONiuFBBYnR",
        "outputId": "1ea64c6b-035e-49cb-e4db-21b403b6851f"
      },
      "execution_count": 20,
      "outputs": [
        {
          "output_type": "execute_result",
          "data": {
            "text/plain": [
              "'Robocop Watanabe'"
            ],
            "application/vnd.google.colaboratory.intrinsic+json": {
              "type": "string"
            }
          },
          "metadata": {},
          "execution_count": 20
        }
      ]
    },
    {
      "cell_type": "markdown",
      "source": [
        "22. How would you write a regex that matches a sentence where the first word is either Alice, Bob,\n",
        "or Carol; the second word is either eats, pets, or throws; the third word is apples, cats, or baseballs;\n",
        "and the sentence ends with a period? This regex should be case-insensitive. It must match the\n",
        "following:\n",
        "&#39;Alice eats apples.&#39;\n",
        "&#39;Bob pets cats.&#39;\n",
        "&#39;Carol throws baseballs.&#39;\n",
        "&#39;Alice throws Apples.&#39;\n",
        "&#39;BOB EATS CATS.&#39;\n",
        "but not the following:\n",
        "&#39;RoboCop eats apples.&#39;\n",
        "&#39;ALICE THROWS FOOTBALLS.&#39;\n",
        "&#39;Carol eats 7 cats.&#39;"
      ],
      "metadata": {
        "id": "OMPiOWjqBeXa"
      }
    },
    {
      "cell_type": "code",
      "source": [
        "name = re.compile(r'(Alice|Bob|Carol)\\s(eats|pets|throws)\\s(apples|cats|baseballs)\\.', re.IGNORECASE)\n",
        "mo1 = name.search('Alice eats apples.')\n",
        "mo1.group()"
      ],
      "metadata": {
        "colab": {
          "base_uri": "https://localhost:8080/",
          "height": 35
        },
        "id": "2JhSbGuUBiH4",
        "outputId": "1317c2ba-85bc-4413-a2fd-d669c118ffd9"
      },
      "execution_count": 21,
      "outputs": [
        {
          "output_type": "execute_result",
          "data": {
            "text/plain": [
              "'Alice eats apples.'"
            ],
            "application/vnd.google.colaboratory.intrinsic+json": {
              "type": "string"
            }
          },
          "metadata": {},
          "execution_count": 21
        }
      ]
    },
    {
      "cell_type": "code",
      "source": [
        "\n",
        "name = re.compile(r'(Alice|Bob|Carol)\\s(eats|pets|throws)\\s(apples|cats|baseballs)\\.', re.IGNORECASE)\n",
        "\n",
        "mo1 = name.search('Carol throws baseballs.')\n",
        "mo1.group()\n",
        "name = re.compile(r'(Alice|Bob|Carol)\\s(eats|pets|throws)\\s(apples|cats|baseballs)\\.', re.IGNORECASE)\n",
        "\n",
        "mo1 = name.search('Carol throws baseballs.')\n",
        "mo1.group()"
      ],
      "metadata": {
        "colab": {
          "base_uri": "https://localhost:8080/",
          "height": 35
        },
        "id": "Xt2s4pm-CrNI",
        "outputId": "b3674448-a795-4355-b476-7d9517b40a8f"
      },
      "execution_count": 22,
      "outputs": [
        {
          "output_type": "execute_result",
          "data": {
            "text/plain": [
              "'Carol throws baseballs.'"
            ],
            "application/vnd.google.colaboratory.intrinsic+json": {
              "type": "string"
            }
          },
          "metadata": {},
          "execution_count": 22
        }
      ]
    }
  ],
  "metadata": {
    "colab": {
      "provenance": []
    },
    "kernelspec": {
      "display_name": "Python 3",
      "name": "python3"
    },
    "language_info": {
      "name": "python"
    }
  },
  "nbformat": 4,
  "nbformat_minor": 0
}