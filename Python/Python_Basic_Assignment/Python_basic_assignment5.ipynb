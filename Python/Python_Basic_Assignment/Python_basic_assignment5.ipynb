{
  "nbformat": 4,
  "nbformat_minor": 0,
  "metadata": {
    "colab": {
      "provenance": []
    },
    "kernelspec": {
      "name": "python3",
      "display_name": "Python 3"
    },
    "language_info": {
      "name": "python"
    }
  },
  "cells": [
    {
      "cell_type": "markdown",
      "source": [
        "1. What does an empty dictionary&#39;s code look like?"
      ],
      "metadata": {
        "id": "EWTs8KNW_XKx"
      }
    },
    {
      "cell_type": "code",
      "source": [
        "\n",
        "dict = {}\n",
        "type(dict)"
      ],
      "metadata": {
        "colab": {
          "base_uri": "https://localhost:8080/"
        },
        "id": "RBcjFdWz_acf",
        "outputId": "afc119ea-043e-47be-e8b9-537c15ba8dbe"
      },
      "execution_count": 23,
      "outputs": [
        {
          "output_type": "execute_result",
          "data": {
            "text/plain": [
              "dict"
            ]
          },
          "metadata": {},
          "execution_count": 23
        }
      ]
    },
    {
      "cell_type": "markdown",
      "source": [
        "2. What is the value of a dictionary value with the key &#39;foo&#39; and the value 42?"
      ],
      "metadata": {
        "id": "Er8JQift_qSv"
      }
    },
    {
      "cell_type": "code",
      "source": [
        "{'foo':42}\n"
      ],
      "metadata": {
        "colab": {
          "base_uri": "https://localhost:8080/"
        },
        "id": "NeuLS2RI_uRX",
        "outputId": "9e893e25-dc26-4b11-f90f-1da7cc0a413c"
      },
      "execution_count": 24,
      "outputs": [
        {
          "output_type": "execute_result",
          "data": {
            "text/plain": [
              "{'foo': 42}"
            ]
          },
          "metadata": {},
          "execution_count": 24
        }
      ]
    },
    {
      "cell_type": "markdown",
      "source": [
        "3. What is the most significant distinction between a dictionary and a list?"
      ],
      "metadata": {
        "id": "obuWC5RL_1b3"
      }
    },
    {
      "cell_type": "markdown",
      "source": [
        "Most significant difference:\n",
        "List - items in list are Ordered\n",
        "Dictionary : iten in dictionary are unordered"
      ],
      "metadata": {
        "id": "UmsQSsVgALJW"
      }
    },
    {
      "cell_type": "markdown",
      "source": [
        "4. What happens if you try to access spam['foo'] if spam is {'bar': 100}?\n",
        "\n",
        "---\n",
        "\n"
      ],
      "metadata": {
        "id": "HT1DyOrpATqA"
      }
    },
    {
      "cell_type": "markdown",
      "source": [
        "Answer - we will get a keyError KeyError: 'foo'\n",
        "\n"
      ],
      "metadata": {
        "id": "untAAW6MaQ1o"
      }
    },
    {
      "cell_type": "markdown",
      "source": [
        "5. If a dictionary is stored in spam, what is the difference between the expressions &#39;cat&#39; in spam and\n",
        "&#39;cat&#39; in spam.keys()?"
      ],
      "metadata": {
        "id": "I6NSgnhXaSZh"
      }
    },
    {
      "cell_type": "code",
      "source": [
        "spam ={'cat':100}\n",
        "'cat' in spam\n",
        "     "
      ],
      "metadata": {
        "colab": {
          "base_uri": "https://localhost:8080/"
        },
        "id": "Le35nl09amnh",
        "outputId": "41e76e8e-7c41-4b5d-e7ce-51b55eccb4c4"
      },
      "execution_count": 9,
      "outputs": [
        {
          "output_type": "execute_result",
          "data": {
            "text/plain": [
              "True"
            ]
          },
          "metadata": {},
          "execution_count": 9
        }
      ]
    },
    {
      "cell_type": "code",
      "source": [
        "'cat' in spam.keys()\n"
      ],
      "metadata": {
        "colab": {
          "base_uri": "https://localhost:8080/"
        },
        "id": "pzSG2LBpa3hY",
        "outputId": "a5f903c0-ecae-48d8-f654-8c980bfda7c9"
      },
      "execution_count": 10,
      "outputs": [
        {
          "output_type": "execute_result",
          "data": {
            "text/plain": [
              "True"
            ]
          },
          "metadata": {},
          "execution_count": 10
        }
      ]
    },
    {
      "cell_type": "markdown",
      "source": [
        "6. If a dictionary is stored in spam, what is the difference between the expressions &#39;cat&#39; in spam and\n",
        "&#39;cat&#39; in spam.values()?"
      ],
      "metadata": {
        "id": "R4X6HCeKbWyi"
      }
    },
    {
      "cell_type": "code",
      "source": [
        "\n",
        "spam ={'cat':100}\n",
        "'cat' in spam\n",
        "     "
      ],
      "metadata": {
        "colab": {
          "base_uri": "https://localhost:8080/"
        },
        "id": "loFY7I-mbcjq",
        "outputId": "bf353120-1b79-4466-96c5-99d80f087a57"
      },
      "execution_count": 11,
      "outputs": [
        {
          "output_type": "execute_result",
          "data": {
            "text/plain": [
              "True"
            ]
          },
          "metadata": {},
          "execution_count": 11
        }
      ]
    },
    {
      "cell_type": "code",
      "source": [
        "\n",
        "spam ={'cat':100}\n",
        "'cat' in spam.values()"
      ],
      "metadata": {
        "colab": {
          "base_uri": "https://localhost:8080/"
        },
        "id": "ta_r3u5cbv8x",
        "outputId": "80d08f6c-435a-483b-ea1f-dc8d0692d655"
      },
      "execution_count": 12,
      "outputs": [
        {
          "output_type": "execute_result",
          "data": {
            "text/plain": [
              "False"
            ]
          },
          "metadata": {},
          "execution_count": 12
        }
      ]
    },
    {
      "cell_type": "markdown",
      "source": [
        "7. What is a shortcut for the following code?\n",
        "if &#39;color&#39; not in spam:\n",
        "spam[&#39;color&#39;] = &#39;black&#39;"
      ],
      "metadata": {
        "id": "2PTjHsWVby-h"
      }
    },
    {
      "cell_type": "code",
      "source": [
        "\n",
        "spam ={'cat':100}\n",
        "spam.setdefault('color','black')\n",
        "spam\n"
      ],
      "metadata": {
        "colab": {
          "base_uri": "https://localhost:8080/"
        },
        "id": "aVjzrMXjcJOR",
        "outputId": "75a99e1a-9abe-4b72-dcc3-5826fce11d3a"
      },
      "execution_count": 13,
      "outputs": [
        {
          "output_type": "execute_result",
          "data": {
            "text/plain": [
              "{'cat': 100, 'color': 'black'}"
            ]
          },
          "metadata": {},
          "execution_count": 13
        }
      ]
    },
    {
      "cell_type": "markdown",
      "source": [
        "8. How do you &quot;pretty print&quot; dictionary values using which module and function?"
      ],
      "metadata": {
        "id": "kXFHMPA0cuiN"
      }
    },
    {
      "cell_type": "code",
      "source": [
        "ndict = [\n",
        "  {'Name': 'John', 'Age': '23', 'Residence': {'Country':'USA', 'City': 'New York'}},\n",
        "  {'Name': 'Jose', 'Age': '44', 'Residence': {'Country':'Spain', 'City': 'Madrid'}},\n",
        "  {'Name': 'Anne', 'Age': '29', 'Residence': {'Country':'UK', 'City': 'England'}},\n",
        "  {'Name': 'Lee', 'Age': '35', 'Residence': {'Country':'Japan', 'City': 'Osaka'}}\n",
        "]\n",
        "\n",
        "print('Printing using print() function\\n',ndict)\n",
        "print('-'*70)\n",
        "import pprint\n",
        "print('Printing using pprint() funciton')\n",
        "pprint.pprint(ndict)\n",
        "print('-'*70)\n",
        "import json\n",
        "dump = json.dumps(ndict, indent=4)\n",
        "print('Printing using dumps() method\\n', dump)\n",
        "print('-'*70)\n",
        "import yaml\n",
        "dump = yaml.dump(ndict)\n",
        "print('Printing using dump() method\\n', dump)"
      ],
      "metadata": {
        "colab": {
          "base_uri": "https://localhost:8080/"
        },
        "id": "pMvA1Xrifkk7",
        "outputId": "da1e47a1-11c9-4827-c204-6952aa1e3389"
      },
      "execution_count": 22,
      "outputs": [
        {
          "output_type": "stream",
          "name": "stdout",
          "text": [
            "Printing using print() function\n",
            " [{'Name': 'John', 'Age': '23', 'Residence': {'Country': 'USA', 'City': 'New York'}}, {'Name': 'Jose', 'Age': '44', 'Residence': {'Country': 'Spain', 'City': 'Madrid'}}, {'Name': 'Anne', 'Age': '29', 'Residence': {'Country': 'UK', 'City': 'England'}}, {'Name': 'Lee', 'Age': '35', 'Residence': {'Country': 'Japan', 'City': 'Osaka'}}]\n",
            "----------------------------------------------------------------------\n",
            "Printing using pprint() funciton\n",
            "[{'Age': '23',\n",
            "  'Name': 'John',\n",
            "  'Residence': {'City': 'New York', 'Country': 'USA'}},\n",
            " {'Age': '44',\n",
            "  'Name': 'Jose',\n",
            "  'Residence': {'City': 'Madrid', 'Country': 'Spain'}},\n",
            " {'Age': '29',\n",
            "  'Name': 'Anne',\n",
            "  'Residence': {'City': 'England', 'Country': 'UK'}},\n",
            " {'Age': '35',\n",
            "  'Name': 'Lee',\n",
            "  'Residence': {'City': 'Osaka', 'Country': 'Japan'}}]\n",
            "----------------------------------------------------------------------\n",
            "Printing using dumps() method\n",
            " [\n",
            "    {\n",
            "        \"Name\": \"John\",\n",
            "        \"Age\": \"23\",\n",
            "        \"Residence\": {\n",
            "            \"Country\": \"USA\",\n",
            "            \"City\": \"New York\"\n",
            "        }\n",
            "    },\n",
            "    {\n",
            "        \"Name\": \"Jose\",\n",
            "        \"Age\": \"44\",\n",
            "        \"Residence\": {\n",
            "            \"Country\": \"Spain\",\n",
            "            \"City\": \"Madrid\"\n",
            "        }\n",
            "    },\n",
            "    {\n",
            "        \"Name\": \"Anne\",\n",
            "        \"Age\": \"29\",\n",
            "        \"Residence\": {\n",
            "            \"Country\": \"UK\",\n",
            "            \"City\": \"England\"\n",
            "        }\n",
            "    },\n",
            "    {\n",
            "        \"Name\": \"Lee\",\n",
            "        \"Age\": \"35\",\n",
            "        \"Residence\": {\n",
            "            \"Country\": \"Japan\",\n",
            "            \"City\": \"Osaka\"\n",
            "        }\n",
            "    }\n",
            "]\n",
            "----------------------------------------------------------------------\n",
            "Printing using dump() method\n",
            " - Age: '23'\n",
            "  Name: John\n",
            "  Residence:\n",
            "    City: New York\n",
            "    Country: USA\n",
            "- Age: '44'\n",
            "  Name: Jose\n",
            "  Residence:\n",
            "    City: Madrid\n",
            "    Country: Spain\n",
            "- Age: '29'\n",
            "  Name: Anne\n",
            "  Residence:\n",
            "    City: England\n",
            "    Country: UK\n",
            "- Age: '35'\n",
            "  Name: Lee\n",
            "  Residence:\n",
            "    City: Osaka\n",
            "    Country: Japan\n",
            "\n"
          ]
        }
      ]
    }
  ]
}