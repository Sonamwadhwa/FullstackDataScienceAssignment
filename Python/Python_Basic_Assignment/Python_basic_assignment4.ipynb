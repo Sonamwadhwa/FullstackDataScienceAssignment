{
  "nbformat": 4,
  "nbformat_minor": 0,
  "metadata": {
    "colab": {
      "provenance": []
    },
    "kernelspec": {
      "name": "python3",
      "display_name": "Python 3"
    },
    "language_info": {
      "name": "python"
    }
  },
  "cells": [
    {
      "cell_type": "markdown",
      "source": [
        "1. What exactly is []?"
      ],
      "metadata": {
        "id": "DtQ8wYD8U6KD"
      }
    },
    {
      "cell_type": "markdown",
      "source": [
        "Answer - The empty list value, which is a list value that contains no items."
      ],
      "metadata": {
        "id": "PJSp55YsZ0x-"
      }
    },
    {
      "cell_type": "markdown",
      "source": [
        "2. In a list of values stored in a variable called spam, how would you assign the value &#39;hello&#39; as the\n",
        "third value? (Assume [2, 4, 6, 8, 10] are in spam.)\n",
        "\n"
      ],
      "metadata": {
        "id": "7UM-Mmm2Z84u"
      }
    },
    {
      "cell_type": "markdown",
      "source": [
        "Answer - spam[2] = 'hello'"
      ],
      "metadata": {
        "id": "DdMJIL-XaHqT"
      }
    },
    {
      "cell_type": "code",
      "source": [
        "spam = [2, 4, 6, 8, 10]\n",
        "spam[2] = 'hello' \n",
        "spam"
      ],
      "metadata": {
        "colab": {
          "base_uri": "https://localhost:8080/"
        },
        "id": "CuXNILjEahZQ",
        "outputId": "cef361aa-63de-42dd-d201-b43e7b5a2543"
      },
      "execution_count": 2,
      "outputs": [
        {
          "output_type": "execute_result",
          "data": {
            "text/plain": [
              "[2, 4, 'hello', 8, 10]"
            ]
          },
          "metadata": {},
          "execution_count": 2
        }
      ]
    },
    {
      "cell_type": "markdown",
      "source": [
        "3. What is the value of spam[int(int(&#39;3&#39; * 2) / 11)]?"
      ],
      "metadata": {
        "id": "1XS_M_Bjaq4E"
      }
    },
    {
      "cell_type": "code",
      "source": [
        "spam = ['a', 'b', 'c', 'd']\n",
        "spam[int(int('3' * 2) / 11)]"
      ],
      "metadata": {
        "colab": {
          "base_uri": "https://localhost:8080/",
          "height": 35
        },
        "id": "n2-Pi2Ala5Vc",
        "outputId": "ecdf33a7-da0e-4fee-e3fc-38a58fd879f9"
      },
      "execution_count": 3,
      "outputs": [
        {
          "output_type": "execute_result",
          "data": {
            "text/plain": [
              "'d'"
            ],
            "application/vnd.google.colaboratory.intrinsic+json": {
              "type": "string"
            }
          },
          "metadata": {},
          "execution_count": 3
        }
      ]
    },
    {
      "cell_type": "markdown",
      "source": [
        "4. What is the value of spam[-1]?"
      ],
      "metadata": {
        "id": "VM3vU9Ksa8Cz"
      }
    },
    {
      "cell_type": "code",
      "source": [
        "spam[-1]\n"
      ],
      "metadata": {
        "colab": {
          "base_uri": "https://localhost:8080/",
          "height": 35
        },
        "id": "8JinNd0PbIO8",
        "outputId": "170ace9e-125f-463c-d7dd-a66c088dbdf2"
      },
      "execution_count": 4,
      "outputs": [
        {
          "output_type": "execute_result",
          "data": {
            "text/plain": [
              "'d'"
            ],
            "application/vnd.google.colaboratory.intrinsic+json": {
              "type": "string"
            }
          },
          "metadata": {},
          "execution_count": 4
        }
      ]
    },
    {
      "cell_type": "code",
      "source": [],
      "metadata": {
        "id": "cf8HmHxYf75r"
      },
      "execution_count": 4,
      "outputs": []
    },
    {
      "cell_type": "markdown",
      "source": [
        "5. What is the value of spam[:2]?"
      ],
      "metadata": {
        "id": "X6XSkaozbNhk"
      }
    },
    {
      "cell_type": "code",
      "source": [
        "spam[:2]\n"
      ],
      "metadata": {
        "colab": {
          "base_uri": "https://localhost:8080/"
        },
        "id": "rFuPoZ7Kfj5h",
        "outputId": "241de5c6-7a22-4124-cb9a-efc3acb64505"
      },
      "execution_count": 5,
      "outputs": [
        {
          "output_type": "execute_result",
          "data": {
            "text/plain": [
              "['a', 'b']"
            ]
          },
          "metadata": {},
          "execution_count": 5
        }
      ]
    },
    {
      "cell_type": "markdown",
      "source": [
        "6. What is the value of bacon.index('cat')?"
      ],
      "metadata": {
        "id": "CdWrtIcmf0_9"
      }
    },
    {
      "cell_type": "code",
      "source": [
        "\n",
        "bacon = [3.14, 'cat', 11, 'cat', True]\n",
        "bacon.index('cat') # it returns the index of first occurrence of 'cat'"
      ],
      "metadata": {
        "colab": {
          "base_uri": "https://localhost:8080/"
        },
        "id": "1NVBmdv07v2g",
        "outputId": "2279778e-ac77-4bce-a720-279e0c91c817"
      },
      "execution_count": 1,
      "outputs": [
        {
          "output_type": "execute_result",
          "data": {
            "text/plain": [
              "1"
            ]
          },
          "metadata": {},
          "execution_count": 1
        }
      ]
    },
    {
      "cell_type": "markdown",
      "source": [
        "7. How does bacon.append(99) change the look of the list value in bacon?"
      ],
      "metadata": {
        "id": "XuJlmdNaktYO"
      }
    },
    {
      "cell_type": "code",
      "source": [
        "bacon = [3.14, 'cat', 11, 'cat', True]\n",
        "bacon.append(99) # append adds the item at the end of the list\n",
        "bacon"
      ],
      "metadata": {
        "colab": {
          "base_uri": "https://localhost:8080/"
        },
        "id": "525cvkK879k_",
        "outputId": "b414387d-0509-4ca3-8f19-546010947805"
      },
      "execution_count": 6,
      "outputs": [
        {
          "output_type": "execute_result",
          "data": {
            "text/plain": [
              "[3.14, 'cat', 11, 'cat', True, 99]"
            ]
          },
          "metadata": {},
          "execution_count": 6
        }
      ]
    },
    {
      "cell_type": "markdown",
      "source": [
        "8. How does bacon.remove(&#39;cat&#39;) change the look of the list in bacon?"
      ],
      "metadata": {
        "id": "oYOX4yOUlD4u"
      }
    },
    {
      "cell_type": "code",
      "source": [
        "bacon = [3.14, 'cat', 11, 'cat', True]\n",
        "bacon.remove('cat') # remove first occurrence of item\n",
        "bacon"
      ],
      "metadata": {
        "colab": {
          "base_uri": "https://localhost:8080/"
        },
        "id": "JFRnd35t8Bln",
        "outputId": "ddf0fd25-4707-40b1-c536-1da19f4a9ab7"
      },
      "execution_count": 7,
      "outputs": [
        {
          "output_type": "execute_result",
          "data": {
            "text/plain": [
              "[3.14, 11, 'cat', True]"
            ]
          },
          "metadata": {},
          "execution_count": 7
        }
      ]
    },
    {
      "cell_type": "markdown",
      "source": [
        "9. What are the list concatenation and list replication operators?"
      ],
      "metadata": {
        "id": "c11S1zE8lUr-"
      }
    },
    {
      "cell_type": "markdown",
      "source": [
        "Answer - The operator for list concatenation is +, while the operator for replication is *."
      ],
      "metadata": {
        "id": "oM6musVmlYPv"
      }
    },
    {
      "cell_type": "code",
      "source": [
        "l1 = [1,4]\n",
        "l2 = [2,5]\n",
        "# list concatination\n",
        "l1+l2\n",
        "     "
      ],
      "metadata": {
        "colab": {
          "base_uri": "https://localhost:8080/"
        },
        "id": "2cHui6dS8Y23",
        "outputId": "733cfe47-90c7-46aa-c5ce-10805d0e9531"
      },
      "execution_count": 8,
      "outputs": [
        {
          "output_type": "execute_result",
          "data": {
            "text/plain": [
              "[1, 4, 2, 5]"
            ]
          },
          "metadata": {},
          "execution_count": 8
        }
      ]
    },
    {
      "cell_type": "code",
      "source": [
        "\n",
        "l1 = [7,4]\n",
        "\n",
        "# list replication\n",
        "l1*3"
      ],
      "metadata": {
        "colab": {
          "base_uri": "https://localhost:8080/"
        },
        "id": "TXEAqJmb8dUn",
        "outputId": "14ae893a-ea0c-403a-9ee6-6101fae582e0"
      },
      "execution_count": 9,
      "outputs": [
        {
          "output_type": "execute_result",
          "data": {
            "text/plain": [
              "[7, 4, 7, 4, 7, 4]"
            ]
          },
          "metadata": {},
          "execution_count": 9
        }
      ]
    },
    {
      "cell_type": "markdown",
      "source": [
        "10. What is difference between the list methods append() and insert()?"
      ],
      "metadata": {
        "id": "5ITMyjoslaFf"
      }
    },
    {
      "cell_type": "markdown",
      "source": [
        "Answer - While append() will add values only to the end of a list, insert() can add them anywhere in the list."
      ],
      "metadata": {
        "id": "jET6OLO3lmbG"
      }
    },
    {
      "cell_type": "markdown",
      "source": [
        "11. What are the two methods for removing items from a list?"
      ],
      "metadata": {
        "id": "ZLYPGI7Hlq9d"
      }
    },
    {
      "cell_type": "markdown",
      "source": [
        "Answer - The del statement and the remove() list method are two ways to remove values from a list."
      ],
      "metadata": {
        "id": "5wv-lIaJl3at"
      }
    },
    {
      "cell_type": "markdown",
      "source": [
        "12. Describe how list values and string values are identical."
      ],
      "metadata": {
        "id": "9vPPQCmyl9YG"
      }
    },
    {
      "cell_type": "markdown",
      "source": [
        "Answer - Both lists and strings can be passed to len(), have indexes and slices, be used in for loops, be concatenated or replicated, and be used with the in and not in operators."
      ],
      "metadata": {
        "id": "gwoKLI1El_qW"
      }
    },
    {
      "cell_type": "markdown",
      "source": [
        "13. What's the difference between tuples and lists?"
      ],
      "metadata": {
        "id": "nORSqOEEo3Hn"
      }
    },
    {
      "cell_type": "markdown",
      "source": [
        "Answer - Lists are mutable; they can have values added, removed, or changed. Tuples are immutable; they cannot be changed at all. Also, tuples are written using parentheses, ( and ), while lists use the square brackets, [ and ]."
      ],
      "metadata": {
        "id": "zTgblhTBpHgm"
      }
    },
    {
      "cell_type": "markdown",
      "source": [
        "14. How do you type a tuple value that only contains the integer 42?"
      ],
      "metadata": {
        "id": "IviXWl1lpRD1"
      }
    },
    {
      "cell_type": "code",
      "source": [
        "tuple = (42,)\n",
        "tuple\n",
        "     "
      ],
      "metadata": {
        "colab": {
          "base_uri": "https://localhost:8080/"
        },
        "id": "I_b_iGBf8qNP",
        "outputId": "58696a4f-fede-4458-de97-9e37a54ec9ed"
      },
      "execution_count": 10,
      "outputs": [
        {
          "output_type": "execute_result",
          "data": {
            "text/plain": [
              "(42,)"
            ]
          },
          "metadata": {},
          "execution_count": 10
        }
      ]
    },
    {
      "cell_type": "markdown",
      "source": [
        "15. How do you get a list values tuple form? How do you get a tuple value&#39;s list form?"
      ],
      "metadata": {
        "id": "3MLQvcA-qaj3"
      }
    },
    {
      "cell_type": "markdown",
      "source": [
        "Answer - The tuple() and list() functions, respectively"
      ],
      "metadata": {
        "id": "PwFjrKCHqkI_"
      }
    },
    {
      "cell_type": "markdown",
      "source": [
        "16. Variables that &quot;contain&quot; list values are not necessarily lists themselves. Instead, what do they\n",
        "contain?"
      ],
      "metadata": {
        "id": "qBBxpIA4qoje"
      }
    },
    {
      "cell_type": "markdown",
      "source": [
        "Answer - They contain references to list values."
      ],
      "metadata": {
        "id": "vDoeP0euqvD2"
      }
    },
    {
      "cell_type": "markdown",
      "source": [
        "17. How do you distinguish between copy.copy() and copy.deepcopy()?"
      ],
      "metadata": {
        "id": "KlESM-EBtDPn"
      }
    },
    {
      "cell_type": "markdown",
      "source": [
        "Answer - The copy.copy() function will do a shallow copy of a list, while the copy.deepcopy() function will do a deep copy of a list. That is, only copy.deepcopy() will duplicate any lists inside the list.\n",
        "\n"
      ],
      "metadata": {
        "id": "HqEo_uc0tFsn"
      }
    }
  ]
}