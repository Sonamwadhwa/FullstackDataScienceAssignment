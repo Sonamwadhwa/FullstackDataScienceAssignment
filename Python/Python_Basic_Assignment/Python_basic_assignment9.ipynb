{
  "nbformat": 4,
  "nbformat_minor": 0,
  "metadata": {
    "colab": {
      "provenance": []
    },
    "kernelspec": {
      "name": "python3",
      "display_name": "Python 3"
    },
    "language_info": {
      "name": "python"
    }
  },
  "cells": [
    {
      "cell_type": "markdown",
      "source": [
        "1. To what does a relative path refer?"
      ],
      "metadata": {
        "id": "ixLnoDRha50-"
      }
    },
    {
      "cell_type": "markdown",
      "source": [
        " ANS : The relative path is the path to some file with respect to your current working directory (PWD). \n",
        " For example: if Absolute path to a file called stuff.txt is: C:/users/admin/docs/stuff.txt If my PWD is C:/users/admin/ , then the relative path to stuff.txt would be: docs/stuff.txt\n",
        "Note: PWD + relative path = absolute path"
      ],
      "metadata": {
        "id": "ihIilzj_biLP"
      }
    },
    {
      "cell_type": "markdown",
      "source": [
        "2. What does an absolute path start with your operating system?"
      ],
      "metadata": {
        "id": "A40r51CTbvWc"
      }
    },
    {
      "cell_type": "markdown",
      "source": [
        "ANS : In Linux based systems the absolute path starts with /. Where as in Windows based systems absolute path starts with C:"
      ],
      "metadata": {
        "id": "5sJBjLgFbxlT"
      }
    },
    {
      "cell_type": "markdown",
      "source": [
        "3. What do the functions os.getcwd() and os.chdir() do?"
      ],
      "metadata": {
        "id": "QWRGqAKtcOYJ"
      }
    },
    {
      "cell_type": "markdown",
      "source": [
        "Ans: os.getcwd() method tells us the location of current working directory (CWD). Whereas os.chdir() method in Python used to change the current working directory to specified path. These functions are similar to linux commands pwd and cd"
      ],
      "metadata": {
        "id": "_YLcTlGoeuyF"
      }
    },
    {
      "cell_type": "markdown",
      "source": [
        "4. What are the . and .. folders?"
      ],
      "metadata": {
        "id": "buP3ltN5fYYJ"
      }
    },
    {
      "cell_type": "markdown",
      "source": [
        "ANS-  . Represents the Current Directory Whereas .. Represents the Parent Directory of the Current Directory\n",
        "\n",
        "For Example: if the below path is my absolute path:\n",
        "\n",
        "C:\\\\Users\\\\vishnu\\\\Documents\\\\iNeuron-Assignments\\\\Python Basic Assignment\n",
        "Then . represents the path\n",
        "\n",
        "C:\\\\Users\\\\vishnu\\\\Documents\\\\iNeuron-Assignments\\\\Python Basic Assignment\n",
        "Where as .. represents the path\n",
        "\n",
        "C:\\\\Users\\\\vishnu\\\\Documents\\\\iNeuron-Assignments"
      ],
      "metadata": {
        "id": "0GyMPS7tfavD"
      }
    },
    {
      "cell_type": "markdown",
      "source": [
        "5. In C:\\bacon\\eggs\\spam.txt, which part is the dir name, and which part is the base name?"
      ],
      "metadata": {
        "id": "ZoBDVVtkfwRi"
      }
    },
    {
      "cell_type": "markdown",
      "source": [
        "Ans: For C:\\bacon\\eggs\\spam.txt\n",
        "The dir name is C:\\\\bacon\\\\eggs\n",
        "The Base name is spam.txt"
      ],
      "metadata": {
        "id": "I84B7V8ff5T4"
      }
    },
    {
      "cell_type": "code",
      "source": [
        "import os\n",
        "path = r'C:\\bacon\\eggs\\spam.txt'\n",
        "print(os.path.dirname(path))\n",
        "print(os.path.basename(path))"
      ],
      "metadata": {
        "colab": {
          "base_uri": "https://localhost:8080/"
        },
        "id": "NBgsFeUqf-yI",
        "outputId": "4512f861-f847-4724-98e6-34a1c9e8f83e"
      },
      "execution_count": 5,
      "outputs": [
        {
          "output_type": "stream",
          "name": "stdout",
          "text": [
            "\n",
            "C:\\bacon\\eggs\\spam.txt\n"
          ]
        }
      ]
    },
    {
      "cell_type": "markdown",
      "source": [
        "6. What are the three “mode” arguments that can be passed to the open() function?"
      ],
      "metadata": {
        "id": "H_7-xzLWgK-6"
      }
    },
    {
      "cell_type": "markdown",
      "source": [
        "Ans: A file can be Accessed in python using open() function. open function takes two arguments filename and mode of operation (optional). if mode is not provided the default mode of opening is read mode\n",
        "So, the syntax being: open(filename, mode)\n",
        "\n",
        "‘r’ – Read Mode: This is the default mode for open(). The file is opened and a pointer is positioned at the beginning of the file’s content.\n",
        "\n",
        "‘w’ – Write Mode: Using this mode will overwrite any existing content in a file. If the given file does not exist, a new one will be created.\n",
        "\n",
        "‘r+’ – Read/Write Mode: Use this mode if you need to simultaneously read and write to a file.\n",
        "\n",
        "‘a’ – Append Mode: With this mode the user can append the data without overwriting any already existing data in the file.\n",
        "\n",
        "‘a+’ – Append and Read Mode: In this mode you can read and append the data without overwriting the original file.\n",
        "\n",
        "‘x’ – Exclusive Creating Mode: This mode is for the sole purpose of creating new files. Use this mode if you know the file to be written doesn’t exist beforehand."
      ],
      "metadata": {
        "id": "wR3BQP8lgQKT"
      }
    },
    {
      "cell_type": "markdown",
      "source": [
        "7. What happens if an existing file is opened in write mode?"
      ],
      "metadata": {
        "id": "MpVZIj1dgm0u"
      }
    },
    {
      "cell_type": "markdown",
      "source": [
        "Ans: Using this mode will overwrite any existing content in a file. If the given file does not exist, a new one will be created."
      ],
      "metadata": {
        "id": "ieW2-KUpg6CB"
      }
    },
    {
      "cell_type": "markdown",
      "source": [
        "8. How do you tell the difference between read() and readlines()?"
      ],
      "metadata": {
        "id": "KzEK2j1yg82J"
      }
    },
    {
      "cell_type": "markdown",
      "source": [
        "Ans: The main difference is that read() will read the whole file at once and then print out the first characters that take up as many bytes as you specify in the parenthesis\n",
        "\n",
        "Whereas the readline() that will read and print out only the first characters that take up as many bytes as you specify in the parenthesis. You may want to use readline() when you're reading files that are too big for your RAM.\n",
        "\n",
        "\n",
        "The read() would treat each character in the file separately, meaning that the iteration would happen for every character.\n",
        "\n",
        "The readline() function, on the other hand, only reads a single line of the file. This means that if the first line of the file were three lines long, the readline() function would only parse (or iterate/operate) on the first line of the file."
      ],
      "metadata": {
        "id": "npK131TNhAJE"
      }
    },
    {
      "cell_type": "markdown",
      "source": [
        "9. What data structure does a shelf value resemble?\n",
        "\n",
        "Ans - It contains key and values it represents dictionary."
      ],
      "metadata": {
        "id": "8vy4XZ1_hYIv"
      }
    }
  ]
}