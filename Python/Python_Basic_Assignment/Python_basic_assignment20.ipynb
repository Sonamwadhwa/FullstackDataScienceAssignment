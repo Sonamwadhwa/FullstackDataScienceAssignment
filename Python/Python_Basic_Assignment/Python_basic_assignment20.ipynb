{
  "nbformat": 4,
  "nbformat_minor": 0,
  "metadata": {
    "colab": {
      "provenance": []
    },
    "kernelspec": {
      "name": "python3",
      "display_name": "Python 3"
    },
    "language_info": {
      "name": "python"
    }
  },
  "cells": [
    {
      "cell_type": "markdown",
      "source": [
        "1. Set the variable test1 to the string &#39;This is a test of the emergency text system,&#39; and save test1 to a\n",
        "file named test.txt."
      ],
      "metadata": {
        "id": "J5yCEad6PBOr"
      }
    },
    {
      "cell_type": "code",
      "source": [
        "test1 = 'This is a test of the emergency text system'\n",
        "len(test1)\n",
        "     "
      ],
      "metadata": {
        "colab": {
          "base_uri": "https://localhost:8080/"
        },
        "id": "jAEehB9ZPEpX",
        "outputId": "a3759364-6491-43bf-db7c-69773649fb73"
      },
      "execution_count": 1,
      "outputs": [
        {
          "output_type": "execute_result",
          "data": {
            "text/plain": [
              "43"
            ]
          },
          "metadata": {},
          "execution_count": 1
        }
      ]
    },
    {
      "cell_type": "code",
      "source": [
        "with open('test.txt', 'wt') as outfile:\n",
        "    outfile.write(test1)"
      ],
      "metadata": {
        "id": "RD__vEzj0jFH"
      },
      "execution_count": 2,
      "outputs": []
    },
    {
      "cell_type": "code",
      "source": [
        "outfile.close()\n"
      ],
      "metadata": {
        "id": "tewSSpL90oIV"
      },
      "execution_count": null,
      "outputs": []
    },
    {
      "cell_type": "markdown",
      "source": [
        "2. Read the contents of the file test.txt into the variable test2. Is there a difference between test 1\n",
        "and test 2?"
      ],
      "metadata": {
        "id": "ETWRU0OP0s5f"
      }
    },
    {
      "cell_type": "code",
      "source": [
        "with open('test.txt', 'rt') as infile:\n",
        "    test2 = infile.read()\n",
        "len(test2)"
      ],
      "metadata": {
        "colab": {
          "base_uri": "https://localhost:8080/"
        },
        "id": "arwP29rs0viY",
        "outputId": "87553037-9a57-4a4c-fc0d-16ac730bcab7"
      },
      "execution_count": 3,
      "outputs": [
        {
          "output_type": "execute_result",
          "data": {
            "text/plain": [
              "43"
            ]
          },
          "metadata": {},
          "execution_count": 3
        }
      ]
    },
    {
      "cell_type": "code",
      "source": [
        " test1 == test2\n"
      ],
      "metadata": {
        "colab": {
          "base_uri": "https://localhost:8080/"
        },
        "id": "N4jP5Dhh03rt",
        "outputId": "d467e5a1-84c7-4679-b117-f8083e065de8"
      },
      "execution_count": 4,
      "outputs": [
        {
          "output_type": "execute_result",
          "data": {
            "text/plain": [
              "True"
            ]
          },
          "metadata": {},
          "execution_count": 4
        }
      ]
    },
    {
      "cell_type": "markdown",
      "source": [
        "3. Create a CSV file called books.csv by using these lines:\n",
        "\n",
        "title,author,year\n",
        "\n",
        "The Weirdstone of Brisingamen,Alan Garner,1960\n",
        "\n",
        "Perdido Street Station,China Miéville,2000\n",
        "\n",
        "Thud!,Terry Pratchett,2005\n",
        "\n",
        "The Spellman Files,Lisa Lutz,2007\n",
        "\n",
        "Small Gods,Terry Pratchett,1992"
      ],
      "metadata": {
        "id": "akPZZMS006EG"
      }
    },
    {
      "cell_type": "code",
      "source": [
        "text = '''title,author,year\n",
        "The Weirdstone of Brisingamen,Alan Garner,1960\n",
        "Perdido Street Station,China Miéville,2000\n",
        "Thud!,Terry Pratchett,2005\n",
        "The Spellman Files,Lisa Lutz,2007\n",
        "Small Gods,Terry Pratchett,1992\n",
        "'''\n",
        "with open('books.csv', 'wt') as outfile:\n",
        "    outfile.write(text)"
      ],
      "metadata": {
        "id": "5ig48XPs1Dyq"
      },
      "execution_count": 5,
      "outputs": []
    },
    {
      "cell_type": "markdown",
      "source": [
        "4. Use the sqlite3 module to create a SQLite database called books.db, and a table called books with\n",
        "these fields: title (text), author (text), and year (integer)."
      ],
      "metadata": {
        "id": "AWkMjZY41IwI"
      }
    },
    {
      "cell_type": "code",
      "source": [
        "import sqlite3\n",
        "conn = sqlite3.connect('books.db')\n",
        "c = conn.cursor()\n",
        "\n",
        "c.execute('create table books(title varchar(20),author varchar(20), year int)')\n",
        "conn.commit()\n",
        "     "
      ],
      "metadata": {
        "id": "QMkEVXL54eJV"
      },
      "execution_count": 6,
      "outputs": []
    },
    {
      "cell_type": "markdown",
      "source": [
        "5. Read books.csv and insert its data into the book table.\n",
        "\n"
      ],
      "metadata": {
        "id": "5Fa1EQh790_b"
      }
    },
    {
      "cell_type": "code",
      "source": [
        "import pandas as pd\n",
        "\n",
        "read_books = pd.read_csv('books.csv',encoding='unicode_escape')\n",
        "read_books.to_sql('books', conn, if_exists='append', index = False)\n",
        "     "
      ],
      "metadata": {
        "id": "CPbs0Cu4-S1J",
        "colab": {
          "base_uri": "https://localhost:8080/"
        },
        "outputId": "f4f34aed-c1d0-46d1-b5ba-f72e4559c588"
      },
      "execution_count": 8,
      "outputs": [
        {
          "output_type": "execute_result",
          "data": {
            "text/plain": [
              "5"
            ]
          },
          "metadata": {},
          "execution_count": 8
        }
      ]
    },
    {
      "cell_type": "markdown",
      "source": [
        "6. Select and print the title column from the book table in alphabetical order."
      ],
      "metadata": {
        "id": "25OmJBVe_em9"
      }
    },
    {
      "cell_type": "code",
      "source": [
        "c.execute('select title from books order by title asc')\n",
        "print(c.fetchall())\n",
        "     "
      ],
      "metadata": {
        "id": "tUukM_mkCA7I",
        "colab": {
          "base_uri": "https://localhost:8080/"
        },
        "outputId": "e347f052-a9b1-4822-e313-7aa9fd9cadc4"
      },
      "execution_count": 9,
      "outputs": [
        {
          "output_type": "stream",
          "name": "stdout",
          "text": [
            "[('Perdido Street Station',), ('Small Gods',), ('The Spellman Files',), ('The Weirdstone of Brisingamen',), ('Thud!',)]\n"
          ]
        }
      ]
    },
    {
      "cell_type": "markdown",
      "source": [
        "7. From the book table, select and print all columns in the order of publication."
      ],
      "metadata": {
        "id": "7WMmgA5xCR1Q"
      }
    },
    {
      "cell_type": "code",
      "source": [
        "\n",
        "c.execute('select title, author,year from books order by year')\n",
        "\n",
        "\n",
        "df = pd.DataFrame(c.fetchall(), columns=['title','author','year'])\n",
        "df"
      ],
      "metadata": {
        "id": "LSZdG_nYEj5H",
        "colab": {
          "base_uri": "https://localhost:8080/",
          "height": 206
        },
        "outputId": "e3da72d1-cb3d-4c7c-b9af-b938562d5380"
      },
      "execution_count": 10,
      "outputs": [
        {
          "output_type": "execute_result",
          "data": {
            "text/plain": [
              "                           title           author  year\n",
              "0  The Weirdstone of Brisingamen      Alan Garner  1960\n",
              "1                     Small Gods  Terry Pratchett  1992\n",
              "2         Perdido Street Station  China MiÃ©ville  2000\n",
              "3                          Thud!  Terry Pratchett  2005\n",
              "4             The Spellman Files        Lisa Lutz  2007"
            ],
            "text/html": [
              "\n",
              "  <div id=\"df-26ecb799-4b18-49fe-a8ea-74c18c3bee3f\">\n",
              "    <div class=\"colab-df-container\">\n",
              "      <div>\n",
              "<style scoped>\n",
              "    .dataframe tbody tr th:only-of-type {\n",
              "        vertical-align: middle;\n",
              "    }\n",
              "\n",
              "    .dataframe tbody tr th {\n",
              "        vertical-align: top;\n",
              "    }\n",
              "\n",
              "    .dataframe thead th {\n",
              "        text-align: right;\n",
              "    }\n",
              "</style>\n",
              "<table border=\"1\" class=\"dataframe\">\n",
              "  <thead>\n",
              "    <tr style=\"text-align: right;\">\n",
              "      <th></th>\n",
              "      <th>title</th>\n",
              "      <th>author</th>\n",
              "      <th>year</th>\n",
              "    </tr>\n",
              "  </thead>\n",
              "  <tbody>\n",
              "    <tr>\n",
              "      <th>0</th>\n",
              "      <td>The Weirdstone of Brisingamen</td>\n",
              "      <td>Alan Garner</td>\n",
              "      <td>1960</td>\n",
              "    </tr>\n",
              "    <tr>\n",
              "      <th>1</th>\n",
              "      <td>Small Gods</td>\n",
              "      <td>Terry Pratchett</td>\n",
              "      <td>1992</td>\n",
              "    </tr>\n",
              "    <tr>\n",
              "      <th>2</th>\n",
              "      <td>Perdido Street Station</td>\n",
              "      <td>China MiÃ©ville</td>\n",
              "      <td>2000</td>\n",
              "    </tr>\n",
              "    <tr>\n",
              "      <th>3</th>\n",
              "      <td>Thud!</td>\n",
              "      <td>Terry Pratchett</td>\n",
              "      <td>2005</td>\n",
              "    </tr>\n",
              "    <tr>\n",
              "      <th>4</th>\n",
              "      <td>The Spellman Files</td>\n",
              "      <td>Lisa Lutz</td>\n",
              "      <td>2007</td>\n",
              "    </tr>\n",
              "  </tbody>\n",
              "</table>\n",
              "</div>\n",
              "      <button class=\"colab-df-convert\" onclick=\"convertToInteractive('df-26ecb799-4b18-49fe-a8ea-74c18c3bee3f')\"\n",
              "              title=\"Convert this dataframe to an interactive table.\"\n",
              "              style=\"display:none;\">\n",
              "        \n",
              "  <svg xmlns=\"http://www.w3.org/2000/svg\" height=\"24px\"viewBox=\"0 0 24 24\"\n",
              "       width=\"24px\">\n",
              "    <path d=\"M0 0h24v24H0V0z\" fill=\"none\"/>\n",
              "    <path d=\"M18.56 5.44l.94 2.06.94-2.06 2.06-.94-2.06-.94-.94-2.06-.94 2.06-2.06.94zm-11 1L8.5 8.5l.94-2.06 2.06-.94-2.06-.94L8.5 2.5l-.94 2.06-2.06.94zm10 10l.94 2.06.94-2.06 2.06-.94-2.06-.94-.94-2.06-.94 2.06-2.06.94z\"/><path d=\"M17.41 7.96l-1.37-1.37c-.4-.4-.92-.59-1.43-.59-.52 0-1.04.2-1.43.59L10.3 9.45l-7.72 7.72c-.78.78-.78 2.05 0 2.83L4 21.41c.39.39.9.59 1.41.59.51 0 1.02-.2 1.41-.59l7.78-7.78 2.81-2.81c.8-.78.8-2.07 0-2.86zM5.41 20L4 18.59l7.72-7.72 1.47 1.35L5.41 20z\"/>\n",
              "  </svg>\n",
              "      </button>\n",
              "      \n",
              "  <style>\n",
              "    .colab-df-container {\n",
              "      display:flex;\n",
              "      flex-wrap:wrap;\n",
              "      gap: 12px;\n",
              "    }\n",
              "\n",
              "    .colab-df-convert {\n",
              "      background-color: #E8F0FE;\n",
              "      border: none;\n",
              "      border-radius: 50%;\n",
              "      cursor: pointer;\n",
              "      display: none;\n",
              "      fill: #1967D2;\n",
              "      height: 32px;\n",
              "      padding: 0 0 0 0;\n",
              "      width: 32px;\n",
              "    }\n",
              "\n",
              "    .colab-df-convert:hover {\n",
              "      background-color: #E2EBFA;\n",
              "      box-shadow: 0px 1px 2px rgba(60, 64, 67, 0.3), 0px 1px 3px 1px rgba(60, 64, 67, 0.15);\n",
              "      fill: #174EA6;\n",
              "    }\n",
              "\n",
              "    [theme=dark] .colab-df-convert {\n",
              "      background-color: #3B4455;\n",
              "      fill: #D2E3FC;\n",
              "    }\n",
              "\n",
              "    [theme=dark] .colab-df-convert:hover {\n",
              "      background-color: #434B5C;\n",
              "      box-shadow: 0px 1px 3px 1px rgba(0, 0, 0, 0.15);\n",
              "      filter: drop-shadow(0px 1px 2px rgba(0, 0, 0, 0.3));\n",
              "      fill: #FFFFFF;\n",
              "    }\n",
              "  </style>\n",
              "\n",
              "      <script>\n",
              "        const buttonEl =\n",
              "          document.querySelector('#df-26ecb799-4b18-49fe-a8ea-74c18c3bee3f button.colab-df-convert');\n",
              "        buttonEl.style.display =\n",
              "          google.colab.kernel.accessAllowed ? 'block' : 'none';\n",
              "\n",
              "        async function convertToInteractive(key) {\n",
              "          const element = document.querySelector('#df-26ecb799-4b18-49fe-a8ea-74c18c3bee3f');\n",
              "          const dataTable =\n",
              "            await google.colab.kernel.invokeFunction('convertToInteractive',\n",
              "                                                     [key], {});\n",
              "          if (!dataTable) return;\n",
              "\n",
              "          const docLinkHtml = 'Like what you see? Visit the ' +\n",
              "            '<a target=\"_blank\" href=https://colab.research.google.com/notebooks/data_table.ipynb>data table notebook</a>'\n",
              "            + ' to learn more about interactive tables.';\n",
              "          element.innerHTML = '';\n",
              "          dataTable['output_type'] = 'display_data';\n",
              "          await google.colab.output.renderOutput(dataTable, element);\n",
              "          const docLink = document.createElement('div');\n",
              "          docLink.innerHTML = docLinkHtml;\n",
              "          element.appendChild(docLink);\n",
              "        }\n",
              "      </script>\n",
              "    </div>\n",
              "  </div>\n",
              "  "
            ]
          },
          "metadata": {},
          "execution_count": 10
        }
      ]
    },
    {
      "cell_type": "markdown",
      "source": [
        "8. Use the sqlalchemy module to connect to the sqlite3 database books.db that you just made in\n",
        "exercise 6."
      ],
      "metadata": {
        "id": "XLbvWFarEpc4"
      }
    },
    {
      "cell_type": "code",
      "source": [
        "import sqlalchemy\n",
        "engine = sqlalchemy.create_engine(\"sqlite:///books.db\")\n",
        "rows = engine.execute('select * from books')\n",
        "for i in rows:\n",
        "    print(i)"
      ],
      "metadata": {
        "id": "2ATRQ0Q5FY_Y",
        "colab": {
          "base_uri": "https://localhost:8080/"
        },
        "outputId": "cd6bb452-47b1-4f61-8060-ef87ad29486c"
      },
      "execution_count": 11,
      "outputs": [
        {
          "output_type": "stream",
          "name": "stdout",
          "text": [
            "('The Weirdstone of Brisingamen', 'Alan Garner', 1960)\n",
            "('Perdido Street Station', 'China MiÃ©ville', 2000)\n",
            "('Thud!', 'Terry Pratchett', 2005)\n",
            "('The Spellman Files', 'Lisa Lutz', 2007)\n",
            "('Small Gods', 'Terry Pratchett', 1992)\n"
          ]
        },
        {
          "output_type": "stream",
          "name": "stderr",
          "text": [
            "<ipython-input-11-03768d188b70>:3: RemovedIn20Warning: Deprecated API features detected! These feature(s) are not compatible with SQLAlchemy 2.0. To prevent incompatible upgrades prior to updating applications, ensure requirements files are pinned to \"sqlalchemy<2.0\". Set environment variable SQLALCHEMY_WARN_20=1 to show all deprecation warnings.  Set environment variable SQLALCHEMY_SILENCE_UBER_WARNING=1 to silence this message. (Background on SQLAlchemy 2.0 at: https://sqlalche.me/e/b8d9)\n",
            "  rows = engine.execute('select * from books')\n"
          ]
        }
      ]
    },
    {
      "cell_type": "markdown",
      "source": [
        "9. Install the Redis server and the Python redis library (pip install redis) on your computer. Create a\n",
        "Redis hash called test with the fields count (1) and name (&#39;Fester Bestertester&#39;). Print all the fields for\n",
        "test."
      ],
      "metadata": {
        "id": "uyNgCIf5F0Dw"
      }
    },
    {
      "cell_type": "code",
      "source": [
        "!pip install redis\n"
      ],
      "metadata": {
        "colab": {
          "base_uri": "https://localhost:8080/"
        },
        "id": "WJx-1UUgDycx",
        "outputId": "88370889-d30f-4a22-c563-a785fc87aeed"
      },
      "execution_count": 24,
      "outputs": [
        {
          "output_type": "stream",
          "name": "stdout",
          "text": [
            "Looking in indexes: https://pypi.org/simple, https://us-python.pkg.dev/colab-wheels/public/simple/\n",
            "Requirement already satisfied: redis in /usr/local/lib/python3.9/dist-packages (4.5.2)\n",
            "Requirement already satisfied: async-timeout>=4.0.2 in /usr/local/lib/python3.9/dist-packages (from redis) (4.0.2)\n"
          ]
        }
      ]
    },
    {
      "cell_type": "code",
      "source": [
        "import redis\n",
        "conn = redis.Redis()\n",
        "conn.delete('test')\n",
        "conn.hmset('test', {'count': 1, 'name': 'Fester Bestertester'})\n",
        "conn.hgetall('test')"
      ],
      "metadata": {
        "id": "X_oiMyEgDzDJ"
      },
      "execution_count": null,
      "outputs": []
    },
    {
      "cell_type": "markdown",
      "source": [
        "10. Increment the count field of test and print it."
      ],
      "metadata": {
        "id": "O1WCrFWDD0-Z"
      }
    },
    {
      "cell_type": "code",
      "source": [
        "conn.hincrby('test','count', 3)\n"
      ],
      "metadata": {
        "id": "WrzK4_GyGW15"
      },
      "execution_count": null,
      "outputs": []
    }
  ]
}