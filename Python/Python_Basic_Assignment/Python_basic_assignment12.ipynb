{
  "nbformat": 4,
  "nbformat_minor": 0,
  "metadata": {
    "colab": {
      "provenance": []
    },
    "kernelspec": {
      "name": "python3",
      "display_name": "Python 3"
    },
    "language_info": {
      "name": "python"
    }
  },
  "cells": [
    {
      "cell_type": "markdown",
      "source": [
        "1. In what modes should the PdfFileReader() and PdfFileWriter() File objects will be opened?"
      ],
      "metadata": {
        "id": "7NS-3R_4rx79"
      }
    },
    {
      "cell_type": "markdown",
      "source": [
        "Ans: These files will be opened in binary mode., read binary (rb) for PdfFileREader() and write binary (wb) PdfFileWriter()."
      ],
      "metadata": {
        "id": "gxpcrtQ0rzyL"
      }
    },
    {
      "cell_type": "code",
      "source": [
        "!pip install PyPDF2\n"
      ],
      "metadata": {
        "colab": {
          "base_uri": "https://localhost:8080/"
        },
        "id": "4C-auqY0r_Oq",
        "outputId": "d5e53098-5419-4754-85d7-e9538bea78b7"
      },
      "execution_count": 6,
      "outputs": [
        {
          "output_type": "stream",
          "name": "stdout",
          "text": [
            "Looking in indexes: https://pypi.org/simple, https://us-python.pkg.dev/colab-wheels/public/simple/\n",
            "Collecting PyPDF2\n",
            "  Downloading pypdf2-3.0.1-py3-none-any.whl (232 kB)\n",
            "\u001b[2K     \u001b[90m━━━━━━━━━━━━━━━━━━━━━━━━━━━━━━━━━━━━━━━\u001b[0m \u001b[32m232.6/232.6 KB\u001b[0m \u001b[31m6.3 MB/s\u001b[0m eta \u001b[36m0:00:00\u001b[0m\n",
            "\u001b[?25hRequirement already satisfied: typing_extensions>=3.10.0.0 in /usr/local/lib/python3.9/dist-packages (from PyPDF2) (4.5.0)\n",
            "Installing collected packages: PyPDF2\n",
            "Successfully installed PyPDF2-3.0.1\n"
          ]
        }
      ]
    },
    {
      "cell_type": "markdown",
      "source": [
        "2. From a PdfFileReader object, how do you get a Page object for page 5?"
      ],
      "metadata": {
        "id": "mGYRxEvbsPdr"
      }
    },
    {
      "cell_type": "markdown",
      "source": [
        "Ans. Calling getPage(4) will return a Page object for page 5 since page 0 is the first page"
      ],
      "metadata": {
        "id": "kaWQTvIcsTIb"
      }
    },
    {
      "cell_type": "markdown",
      "source": [
        "3. What PdfFileReader variable stores the number of pages in the PDF document?\n",
        "\n"
      ],
      "metadata": {
        "id": "vBiX4NXBuXSO"
      }
    },
    {
      "cell_type": "markdown",
      "source": [
        "Ans : The total number of pages in the document is stored in the numPages variable of a PdfFileReader object.\n",
        "\n"
      ],
      "metadata": {
        "id": "LuKipd118UpB"
      }
    },
    {
      "cell_type": "markdown",
      "source": [
        "4. If a PdfFileReader object’s PDF is encrypted with the password swordfish, what must you do before you can obtain Page objects from it?"
      ],
      "metadata": {
        "id": "6CGdxrCF8Wi0"
      }
    },
    {
      "cell_type": "markdown",
      "source": [
        "Ans: Before we obtain the page object, the pdf has to be decrypted by calling .decrypt('swordfish')"
      ],
      "metadata": {
        "id": "SfEadqdp82wP"
      }
    },
    {
      "cell_type": "markdown",
      "source": [
        "5. What methods do you use to rotate a page?"
      ],
      "metadata": {
        "id": "GKoHv6yHDQ5S"
      }
    },
    {
      "cell_type": "markdown",
      "source": [
        "ANS: The pages of a PDF can be rotated in 90-degree increments with the rotateClockwise() and rotateCounterClockwise() methods.\n",
        "\n"
      ],
      "metadata": {
        "id": "FIBlfXqeDa2d"
      }
    },
    {
      "cell_type": "markdown",
      "source": [
        "6. What is the difference between a Run object and a Paragraph object?"
      ],
      "metadata": {
        "id": "PZVS5IdQIZkw"
      }
    },
    {
      "cell_type": "markdown",
      "source": [
        "Ans: A document contains multiple paragraphs. A paragraph begins on a new line and contains multiple runs. Runs are contiguous groups of charecters within a paragraph."
      ],
      "metadata": {
        "id": "qKvc_gAqIe8Z"
      }
    },
    {
      "cell_type": "markdown",
      "source": [
        "7. How do you obtain a list of Paragraph objects for a Document object that’s stored in a variable named doc?\n",
        "\n"
      ],
      "metadata": {
        "id": "51JwUoStImTA"
      }
    },
    {
      "cell_type": "markdown",
      "source": [
        "Ans: len(doc.paragraphs)\n",
        "\n"
      ],
      "metadata": {
        "id": "D5dbWxA_MMkv"
      }
    },
    {
      "cell_type": "markdown",
      "source": [
        "8. What type of object has bold, underline, italic, strike, and outline variables?"
      ],
      "metadata": {
        "id": "lKMq4uJYMRiv"
      }
    },
    {
      "cell_type": "markdown",
      "source": [
        "Ans. A Run object has bold, underline,italic,strike and outline variables.\n"
      ],
      "metadata": {
        "id": "O1VQbVb3NLS2"
      }
    },
    {
      "cell_type": "markdown",
      "source": [
        "9. What is the difference between False, True, and None for the bold variable?"
      ],
      "metadata": {
        "id": "Aki4k_UCNOnX"
      }
    },
    {
      "cell_type": "markdown",
      "source": [
        "Ans: Runs can be further styled using text attributes. Each attribute can be set to one of three values:\n",
        "\n",
        "True (the attribute is always enabled, no matter what other styles are applied to the run),\n",
        "\n",
        "False (the attribute is always disabled),\n",
        "\n",
        "None (defaults to whatever the run’s style is set to)\n",
        "\n",
        "True always makes the Run object bolded and False makes it always not bolded, no matter what the style’s bold setting is. None will make the Run object just use the style’s bold setting\n",
        "\n"
      ],
      "metadata": {
        "id": "6oe_AAUUNTwH"
      }
    },
    {
      "cell_type": "markdown",
      "source": [
        "10. How do you create a Document object for a new Word document?"
      ],
      "metadata": {
        "id": "QIh-C5jnOGo2"
      }
    },
    {
      "cell_type": "markdown",
      "source": [
        "Ans. By Calling the docx.Document() function.\n"
      ],
      "metadata": {
        "id": "mChXzx1_ONCW"
      }
    },
    {
      "cell_type": "markdown",
      "source": [
        "11. How do you add a paragraph with the text &#39;Hello, there!&#39; to a Document object stored in a\n",
        "variable named doc?"
      ],
      "metadata": {
        "id": "AgMS3fVuOO0W"
      }
    },
    {
      "cell_type": "markdown",
      "source": [
        "Ans: doc.add_paragraph('Hello, there!')\n",
        "\n"
      ],
      "metadata": {
        "id": "fLyOAgVmPVfv"
      }
    },
    {
      "cell_type": "markdown",
      "source": [
        "12. What integers represent the levels of headings available in Word documents?"
      ],
      "metadata": {
        "id": "1CKjxPOJPakG"
      }
    },
    {
      "cell_type": "markdown",
      "source": [
        "Ans: The arguments to add_heading() are a string of the heading text and an integer from 0 to 4. The integer 0 makes the heading the Title style, which is used for the top of the document. Integers 1 to 4 are for various heading levels, with 1 being the main heading and 4 the lowest subheading. The add_heading() function returns a Paragraph object to save you the step of extracting it from the Document object as a separate step."
      ],
      "metadata": {
        "id": "Uv7Lhl88PeBV"
      }
    }
  ]
}