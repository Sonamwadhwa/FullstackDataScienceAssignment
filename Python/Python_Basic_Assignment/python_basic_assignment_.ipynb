{
  "nbformat": 4,
  "nbformat_minor": 0,
  "metadata": {
    "colab": {
      "provenance": []
    },
    "kernelspec": {
      "name": "python3",
      "display_name": "Python 3"
    },
    "language_info": {
      "name": "python"
    }
  },
  "cells": [
    {
      "cell_type": "markdown",
      "source": [
        "1. In the below elements which of them are values or an expression? eg:- values can be\n",
        "integer or string and expressions will be mathematical operators.\n",
        "*\n",
        "&#39;hello&#39;\n",
        "-87.8\n",
        "-\n",
        "/\n",
        "+\n",
        "6"
      ],
      "metadata": {
        "id": "a4nq_ZeuOXs5"
      }
    },
    {
      "cell_type": "markdown",
      "source": [
        "Ans :- 1) * = operator\n",
        "2) 'hello'= value\n",
        "3) -87.8 = value\n",
        "4) - = operator\n",
        "5) / = operator\n",
        "6) + = operator\n",
        "7) 6 = value"
      ],
      "metadata": {
        "id": "6Xo-3d2OQ381"
      }
    },
    {
      "cell_type": "markdown",
      "source": [
        "2. What is the difference between string and variable?"
      ],
      "metadata": {
        "id": "MJdioyGKRTuv"
      }
    },
    {
      "cell_type": "markdown",
      "source": [
        "Ans - String :- String is a datatype .\n",
        "Variable :- Variables are containers for storing data values. For example x= \"Shiva\" , Here x is a variable and \"Shiva\" is a string."
      ],
      "metadata": {
        "id": "JjmEgjf3RZHH"
      }
    },
    {
      "cell_type": "markdown",
      "source": [
        "3. Describe three different data types."
      ],
      "metadata": {
        "id": "xn9S5fDIT6gP"
      }
    },
    {
      "cell_type": "markdown",
      "source": [
        "Ans :- Text Type = str\n",
        "Numeric Types = int, float, complex\n",
        "Boolean Type = bool"
      ],
      "metadata": {
        "id": "ivTTt5dOjaJD"
      }
    },
    {
      "cell_type": "markdown",
      "source": [
        "4. What is an expression made up of? What do all expressions do?"
      ],
      "metadata": {
        "id": "rVtKWNzLjc9i"
      }
    },
    {
      "cell_type": "markdown",
      "source": [
        "Ans. An expression is a combination of operators, variables, values. Expressions need to be evaluated .All expressions evaluate to a single value.\n",
        "\n"
      ],
      "metadata": {
        "id": "U9aoIvnjjg9Q"
      }
    },
    {
      "cell_type": "markdown",
      "source": [
        "Q5. This assignment statements, like spam = 10. What is the difference between an expression and a statement?\n",
        "\n"
      ],
      "metadata": {
        "id": "ipuIBre9jjOc"
      }
    },
    {
      "cell_type": "markdown",
      "source": [
        "Ans. A statement does something. Statements represent an action or command e.g print statements, assignment statements. An expression is a combination of operators, variables, values. Expressions need to be evaluated. An expression is something that can be reduced to a value."
      ],
      "metadata": {
        "id": "Y4fp_tEekJ8D"
      }
    },
    {
      "cell_type": "markdown",
      "source": [
        "6. After running the following code, what does the variable bacon contain?\n",
        "bacon =22\n",
        "bacon +1"
      ],
      "metadata": {
        "id": "wu9DbeSCkXBM"
      }
    },
    {
      "cell_type": "code",
      "source": [
        "bacon = 22\n",
        "bacon + 1\n",
        "print(bacon)\n",
        "##bacon will contain 22"
      ],
      "metadata": {
        "colab": {
          "base_uri": "https://localhost:8080/"
        },
        "id": "uTND5Cfrk8RP",
        "outputId": "d0b77507-9e68-4f04-89ea-15b320c247b9"
      },
      "execution_count": null,
      "outputs": [
        {
          "output_type": "stream",
          "name": "stdout",
          "text": [
            "22\n"
          ]
        }
      ]
    },
    {
      "cell_type": "markdown",
      "source": [
        "7. What should the values of the following two terms be?\n",
        "'spam'+ 'spamspam'"
      ],
      "metadata": {
        "id": "07UPE1F0mbYt"
      }
    },
    {
      "cell_type": "code",
      "source": [
        "print('spam'+'spamspam')\n",
        "print('spam'*3)\n"
      ],
      "metadata": {
        "id": "WACHaMdcmfZW",
        "colab": {
          "base_uri": "https://localhost:8080/"
        },
        "outputId": "4f0e0747-cd50-49ca-d6fb-e784a7129b29"
      },
      "execution_count": null,
      "outputs": [
        {
          "output_type": "stream",
          "name": "stdout",
          "text": [
            "spamspamspam\n",
            "spamspamspam\n"
          ]
        }
      ]
    },
    {
      "cell_type": "markdown",
      "source": [
        "8. Why is eggs a valid variable name while 100 is invalid?"
      ],
      "metadata": {
        "id": "O4sVepY2y2zj"
      }
    },
    {
      "cell_type": "markdown",
      "source": [
        "Ans - A variable name cannot start with a number, therefore 100 cannot be the variable name."
      ],
      "metadata": {
        "id": "f6Kapc58zIhJ"
      }
    },
    {
      "cell_type": "markdown",
      "source": [
        "9. What three functions can be used to get the integer, floating-point number, or string version of a value?"
      ],
      "metadata": {
        "id": "Hco5SlgIzKIg"
      }
    },
    {
      "cell_type": "markdown",
      "source": [
        "The int(), float(), and str() functions will evaluate to the integer, floating-point number, and string versions of the value passed to them."
      ],
      "metadata": {
        "id": "oG5S_BBUzbx5"
      }
    },
    {
      "cell_type": "code",
      "source": [
        "int_value = int(10)\n",
        "print(type(int_value))\n",
        "#Converting to float\n",
        "float_value = float(10)\n",
        "print(type(float_value ))\n",
        "#Converting to String\n",
        "string_value = str(10)\n",
        "print(type(string_value))"
      ],
      "metadata": {
        "colab": {
          "base_uri": "https://localhost:8080/"
        },
        "id": "dSCtCxpC101v",
        "outputId": "0fbf7ded-5787-4698-ef0a-432a672be918"
      },
      "execution_count": null,
      "outputs": [
        {
          "output_type": "stream",
          "name": "stdout",
          "text": [
            "<class 'int'>\n",
            "<class 'float'>\n",
            "<class 'str'>\n"
          ]
        }
      ]
    },
    {
      "cell_type": "markdown",
      "source": [
        "10. Why does this expression cause an error? How can you fix it?\n",
        "'I have eaten' +99+ 'burritos'"
      ],
      "metadata": {
        "id": "qnRRDmQg14l3"
      }
    },
    {
      "cell_type": "markdown",
      "source": [
        "Ans :- The expression causes an error because 99 is an integer, and only strings can be concatenated to other strings with the + operator. The correct way is 'I have eaten ' + str(99) + ' burritos.'."
      ],
      "metadata": {
        "id": "dGzQEfIh3GV6"
      }
    }
  ]
}