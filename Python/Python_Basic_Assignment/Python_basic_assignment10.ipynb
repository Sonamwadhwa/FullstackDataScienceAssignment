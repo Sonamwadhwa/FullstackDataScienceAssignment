{
  "nbformat": 4,
  "nbformat_minor": 0,
  "metadata": {
    "colab": {
      "provenance": []
    },
    "kernelspec": {
      "name": "python3",
      "display_name": "Python 3"
    },
    "language_info": {
      "name": "python"
    }
  },
  "cells": [
    {
      "cell_type": "markdown",
      "source": [
        "1. How do you distinguish between shutil.copy() and shutil.copytree()?"
      ],
      "metadata": {
        "id": "ycGIuo27swv-"
      }
    },
    {
      "cell_type": "markdown",
      "source": [
        "Ans - shutil.copy : Copies a single file\n",
        "\n",
        "shutil.copytree() : will copy an entire folder and every folder and file contained in it"
      ],
      "metadata": {
        "id": "dBlwY9DauD4C"
      }
    },
    {
      "cell_type": "markdown",
      "source": [
        "2. What function is used to rename files??"
      ],
      "metadata": {
        "id": "JsxMoxyHuKQW"
      }
    },
    {
      "cell_type": "markdown",
      "source": [
        " Ans - import os\n",
        "\n",
        "os.rename(\"text.txt\",\"testnew.txt\")"
      ],
      "metadata": {
        "id": "wn13ieELuQJX"
      }
    },
    {
      "cell_type": "markdown",
      "source": [
        "3. What is the difference between the delete functions in the send2trash and shutil modules?"
      ],
      "metadata": {
        "id": "4KyTDANCw7C2"
      }
    },
    {
      "cell_type": "markdown",
      "source": [
        "Ans. import shutil\n",
        "shutil.retree(): The shutil module’s rmtree() function can be used to delete files or folders. But, this function delete the files permanently. The operations cannot be undone if there were any accidental deletions performed.\n",
        "\n",
        "import send2trash\n",
        "\n",
        "send2trash.send2trash() : Using send2trash, we can send files to the Trash or Recycle Bin instead of permanently deleting them. If the directory contains files or other folders, those are also deleted. A TrashPermissionError exception is raised, in case a file could not be deleted due to permission error or any other unexpected reason."
      ],
      "metadata": {
        "id": "Af9zlWW6xCHm"
      }
    },
    {
      "cell_type": "markdown",
      "source": [
        "4.ZipFile objects have a close() method just like File objects’ close() method. What ZipFile method is equivalent to File objects’ open() method?"
      ],
      "metadata": {
        "id": "dM_W6SjyyVmV"
      }
    },
    {
      "cell_type": "markdown",
      "source": [
        "Ans:  ZipFile Module provides a method called as zipfile.ZipFile() to read and write to zipFiles. it takes arugments lile filename and mode etc zipfile.ZipFile('filename', mode = 'r')"
      ],
      "metadata": {
        "id": "Pior0YHWybeV"
      }
    },
    {
      "cell_type": "markdown",
      "source": [
        "5. Create a programme that searches a folder tree for files with a certain file extension (such as .pdf or .jpg). Copy these files from whatever location they are in to a new folder."
      ],
      "metadata": {
        "id": "Oa8QcVcOrago"
      }
    },
    {
      "cell_type": "code",
      "source": [
        "import os\n",
        "import shutil\n",
        "\n",
        "def search_and_copy(source,destination,extensions):\n",
        "    source = os.path.abspath(source)\n",
        "    destination = os.path.abspath(destination)\n",
        "    for foldername, subfolder, filenames in os.walk(source):\n",
        "        print(f'Folder Name ➞ {foldername}',end='\\n\\n')\n",
        "        print(f'Sub Folders ➞ {subfolder}',end='\\n\\n')\n",
        "        print(f'Files ➞ {filenames}',end='\\n\\n')\n",
        "        for filename in filenames:\n",
        "            fileName,extension = os.path.splitext(filename)\n",
        "            if extension in extensions:\n",
        "                targetFile = foldername+os.path.sep+fileName+extension\n",
        "                shutil.copy(targetFile, destination)\n",
        "        print(f'Files copied successfully from {source} to {destination}')\n",
        "    \n",
        "extensions = ['.pdf','.jpg','.ipynb']\n",
        "source = 'Dummy Source'\n",
        "destination = 'Dummy Destination'\n",
        "search_and_copy(source, destination, extensions)"
      ],
      "metadata": {
        "id": "bUB17D5_sPL4"
      },
      "execution_count": 7,
      "outputs": []
    }
  ]
}