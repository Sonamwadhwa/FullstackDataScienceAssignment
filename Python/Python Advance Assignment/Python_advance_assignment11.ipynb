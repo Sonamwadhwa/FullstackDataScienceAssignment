{
  "nbformat": 4,
  "nbformat_minor": 0,
  "metadata": {
    "colab": {
      "provenance": []
    },
    "kernelspec": {
      "name": "python3",
      "display_name": "Python 3"
    },
    "language_info": {
      "name": "python"
    }
  },
  "cells": [
    {
      "cell_type": "markdown",
      "source": [
        "Q1. What is the concept of a metaclass?"
      ],
      "metadata": {
        "id": "k0cFsKxqqSF9"
      }
    },
    {
      "cell_type": "markdown",
      "source": [
        "Ans- Metaclass in Python is a class of a class that defines how a class behaves. A class is itself a instance of Metaclass, and any Instance of Class in Python is an Instance of type metaclass. E.g. Type of of int, str, float, list, tuple and many more is of metaclass type."
      ],
      "metadata": {
        "id": "csCqN-eUrKpA"
      }
    },
    {
      "cell_type": "markdown",
      "source": [
        "Q2. What is the best way to declare a class&#39;s metaclass?"
      ],
      "metadata": {
        "id": "XPHqmNvQrRGq"
      }
    },
    {
      "cell_type": "markdown",
      "source": [
        "Ans-  A way to declare a class’ metaclass is by using metaclass keyword in class definition."
      ],
      "metadata": {
        "id": "VAiod0MvreMr"
      }
    },
    {
      "cell_type": "code",
      "source": [
        "class meta(type):\n",
        "    pass\n",
        "class class_meta(metaclass=meta):\n",
        "    pass\n",
        "print(type(meta))\n",
        "print(type(class_meta))"
      ],
      "metadata": {
        "colab": {
          "base_uri": "https://localhost:8080/"
        },
        "id": "qpc9uTYvri_f",
        "outputId": "c8edc477-9d52-4b33-a711-90d63954163b"
      },
      "execution_count": 1,
      "outputs": [
        {
          "output_type": "stream",
          "name": "stdout",
          "text": [
            "<class 'type'>\n",
            "<class '__main__.meta'>\n"
          ]
        }
      ]
    },
    {
      "cell_type": "markdown",
      "source": [
        "Q3. How do class decorators overlap with metaclasses for handling classes?"
      ],
      "metadata": {
        "id": "UWoGKsZsrwe7"
      }
    },
    {
      "cell_type": "markdown",
      "source": [
        "Ans- Anything you can do with a class decorator, you can of course do with a custom metaclasses (just apply the functionality of the \"decorator function\", i.e., the one that takes a class object and modifies it, in the course of the metaclass's __new__ or __init__ that make the class object!)."
      ],
      "metadata": {
        "id": "9HBkGX6_r0Q0"
      }
    },
    {
      "cell_type": "markdown",
      "source": [
        "Q4. How do class decorators overlap with metaclasses for handling instances?"
      ],
      "metadata": {
        "id": "2wte3aVvr-xs"
      }
    },
    {
      "cell_type": "markdown",
      "source": [
        "Ans-  Anything you can do with a class decorator, you can of course do with a custom metaclass (just apply the functionality of the \"decorator function\", i.e., the one that takes a class object and modifies it, in the course of the metaclass's __new__ or __init__ that make the class object!)."
      ],
      "metadata": {
        "id": "RpUDSD0MsC4k"
      }
    }
  ]
}