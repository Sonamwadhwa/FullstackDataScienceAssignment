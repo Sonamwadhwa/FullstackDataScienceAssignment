{
  "nbformat": 4,
  "nbformat_minor": 0,
  "metadata": {
    "colab": {
      "provenance": []
    },
    "kernelspec": {
      "name": "python3",
      "display_name": "Python 3"
    },
    "language_info": {
      "name": "python"
    }
  },
  "cells": [
    {
      "cell_type": "markdown",
      "source": [
        "Q1. Is an assignment operator like += only for show? Is it possible that it would lead to faster results\n",
        "at the runtime?"
      ],
      "metadata": {
        "id": "WOlw_jwlZLA3"
      }
    },
    {
      "cell_type": "markdown",
      "source": [
        "Ans- A=A+1 evaluates to finding A, adding 1 to it. Then storing the value again in variable A. This expression makes Python to look for memory holder of a twice. But A+=1 simply means value of A is to incremented by 1. As memory address has to be identified once, += leads to faster operation."
      ],
      "metadata": {
        "id": "hDDgrvMBZOnB"
      }
    },
    {
      "cell_type": "markdown",
      "source": [
        "Q2. What is the smallest number of statements you&#39;d have to write in most programming languages to\n",
        "replace the Python expression a, b = a + b, a?"
      ],
      "metadata": {
        "id": "JZhWeDBPZcVV"
      }
    },
    {
      "cell_type": "markdown",
      "source": [
        "Ans- Minimum number of lines required to write above code in languages other Python will be 4, two for assigning initial values for variables a and b, and two for reassignment i.e. a=a+b and b=a."
      ],
      "metadata": {
        "id": "Lpeyrul7ZfaF"
      }
    },
    {
      "cell_type": "markdown",
      "source": [
        "Q3. In Python, what is the most effective way to set a list of 100 integers to 0?"
      ],
      "metadata": {
        "id": "5BfA7OjPaJMm"
      }
    },
    {
      "cell_type": "markdown",
      "source": [
        "Ans-  The Most effective way to set a list of 100 integers to 0 in python is by using repition operator(*) or by using list comprehension."
      ],
      "metadata": {
        "id": "Msn3G8tCaMo2"
      }
    },
    {
      "cell_type": "code",
      "source": [
        "# Method 1\n",
        "list_zero=[0]*100\n",
        "print(list_zero)\n",
        "# Method 2\n",
        "zero_list = [0 for x in range(100)]\n",
        "print(zero_list)"
      ],
      "metadata": {
        "colab": {
          "base_uri": "https://localhost:8080/"
        },
        "id": "7LTref9WaQVK",
        "outputId": "b00bfa49-4b42-4edf-9af2-c14252200cb5"
      },
      "execution_count": 1,
      "outputs": [
        {
          "output_type": "stream",
          "name": "stdout",
          "text": [
            "[0, 0, 0, 0, 0, 0, 0, 0, 0, 0, 0, 0, 0, 0, 0, 0, 0, 0, 0, 0, 0, 0, 0, 0, 0, 0, 0, 0, 0, 0, 0, 0, 0, 0, 0, 0, 0, 0, 0, 0, 0, 0, 0, 0, 0, 0, 0, 0, 0, 0, 0, 0, 0, 0, 0, 0, 0, 0, 0, 0, 0, 0, 0, 0, 0, 0, 0, 0, 0, 0, 0, 0, 0, 0, 0, 0, 0, 0, 0, 0, 0, 0, 0, 0, 0, 0, 0, 0, 0, 0, 0, 0, 0, 0, 0, 0, 0, 0, 0, 0]\n",
            "[0, 0, 0, 0, 0, 0, 0, 0, 0, 0, 0, 0, 0, 0, 0, 0, 0, 0, 0, 0, 0, 0, 0, 0, 0, 0, 0, 0, 0, 0, 0, 0, 0, 0, 0, 0, 0, 0, 0, 0, 0, 0, 0, 0, 0, 0, 0, 0, 0, 0, 0, 0, 0, 0, 0, 0, 0, 0, 0, 0, 0, 0, 0, 0, 0, 0, 0, 0, 0, 0, 0, 0, 0, 0, 0, 0, 0, 0, 0, 0, 0, 0, 0, 0, 0, 0, 0, 0, 0, 0, 0, 0, 0, 0, 0, 0, 0, 0, 0, 0]\n"
          ]
        }
      ]
    },
    {
      "cell_type": "markdown",
      "source": [
        "Q4. What is the most effective way to initialise a list of 99 integers that repeats the sequence 1, 2, 3?\n",
        "S If necessary, show step-by-step instructions on how to accomplish this."
      ],
      "metadata": {
        "id": "D_hR9DsYaYRe"
      }
    },
    {
      "cell_type": "code",
      "source": [
        "my_list = [1,2,3]*33\n",
        "print(my_list)"
      ],
      "metadata": {
        "colab": {
          "base_uri": "https://localhost:8080/"
        },
        "id": "jwxvLQOJacNY",
        "outputId": "fc3ee593-5336-433f-93b3-b21cf1a6617f"
      },
      "execution_count": 2,
      "outputs": [
        {
          "output_type": "stream",
          "name": "stdout",
          "text": [
            "[1, 2, 3, 1, 2, 3, 1, 2, 3, 1, 2, 3, 1, 2, 3, 1, 2, 3, 1, 2, 3, 1, 2, 3, 1, 2, 3, 1, 2, 3, 1, 2, 3, 1, 2, 3, 1, 2, 3, 1, 2, 3, 1, 2, 3, 1, 2, 3, 1, 2, 3, 1, 2, 3, 1, 2, 3, 1, 2, 3, 1, 2, 3, 1, 2, 3, 1, 2, 3, 1, 2, 3, 1, 2, 3, 1, 2, 3, 1, 2, 3, 1, 2, 3, 1, 2, 3, 1, 2, 3, 1, 2, 3, 1, 2, 3, 1, 2, 3]\n"
          ]
        }
      ]
    },
    {
      "cell_type": "markdown",
      "source": [
        "Q5. If you&#39;re using IDLE to run a Python application, explain how to print a multidimensional list as\n",
        "efficiently?"
      ],
      "metadata": {
        "id": "UvxxPHsCaj0m"
      }
    },
    {
      "cell_type": "code",
      "source": [
        "my_list = [[1,1],[2,2],[3,3],[4,4],[5,5]] # 2 dimensional List\n",
        "for x in range(len(my_list)):\n",
        "    for y in range(len(my_list[x])):\n",
        "        print(my_list[x][y],end=\" \")"
      ],
      "metadata": {
        "colab": {
          "base_uri": "https://localhost:8080/"
        },
        "id": "HkMN7VfvanUY",
        "outputId": "a22fdc41-9b1e-4962-8ddf-75cc7cc54574"
      },
      "execution_count": 3,
      "outputs": [
        {
          "output_type": "stream",
          "name": "stdout",
          "text": [
            "1 1 2 2 3 3 4 4 5 5 "
          ]
        }
      ]
    },
    {
      "cell_type": "markdown",
      "source": [
        "Q6. Is it possible to use list comprehension with a string? If so, how can you go about doing it?"
      ],
      "metadata": {
        "id": "AWlEaz-saqvY"
      }
    },
    {
      "cell_type": "markdown",
      "source": [
        "Ans- List comprehension with string is possible."
      ],
      "metadata": {
        "id": "f3yA99xWav6Q"
      }
    },
    {
      "cell_type": "code",
      "source": [
        "my_list = [ele for ele in 'iNeuron']\n",
        "print(my_list)"
      ],
      "metadata": {
        "colab": {
          "base_uri": "https://localhost:8080/"
        },
        "id": "52wpQhL2a0Bc",
        "outputId": "7e279812-712a-46ef-8e13-1edb37adf689"
      },
      "execution_count": 4,
      "outputs": [
        {
          "output_type": "stream",
          "name": "stdout",
          "text": [
            "['i', 'N', 'e', 'u', 'r', 'o', 'n']\n"
          ]
        }
      ]
    },
    {
      "cell_type": "markdown",
      "source": [
        "Q7. From the command line, how do you get support with a user-written Python programme? Is this\n",
        "possible from inside IDLE?"
      ],
      "metadata": {
        "id": "b9fUVboca4sL"
      }
    },
    {
      "cell_type": "markdown",
      "source": [
        "Ans- Get support with a user-written Python Programme: Start a command prompt (Windows) or terminal window (Linux/Mac). If the current working directory is the same as the location in which you saved the file, you can simply specify the filename as a command-line argument to the Python interpreter."
      ],
      "metadata": {
        "id": "aRrn_otga8TG"
      }
    },
    {
      "cell_type": "markdown",
      "source": [
        "Get support with a User-written Python Program from IDLE: You can also create script files and run them in IDLE. From the Shell window menu, select File → New File. That should open an additional editing window. Type in the code to be executed. From the menu in that window, select File → Save or File → Save As… and save the file to disk. Then select Run → Run Module. The output should appear back in the interpreter"
      ],
      "metadata": {
        "id": "wxkgucjtbCH4"
      }
    },
    {
      "cell_type": "markdown",
      "source": [
        "Q8. Functions are said to be “first-class objects” in Python but not in most other languages, such as\n",
        "C++ or Java. What can you do in Python with a function (callable object) that you can&#39;t do in C or\n",
        "C++?"
      ],
      "metadata": {
        "id": "UK_UhWqnbLOI"
      }
    },
    {
      "cell_type": "markdown",
      "source": [
        "Ans- The tasks which can be performed with the functions in python are:\n",
        "\n",
        "1) A function is an instance of the Object type.\n",
        "\n",
        "2) You can store the function in a variable.\n",
        "\n",
        "3) You can pass the function as a parameter to another function.\n",
        "\n",
        "4) You can return the function from a function.\n",
        "\n",
        "5) You can store them in data structures such as hash tables, lists.\n"
      ],
      "metadata": {
        "id": "ZdCNDxHhbNrJ"
      }
    },
    {
      "cell_type": "markdown",
      "source": [
        "Q9. How do you distinguish between a wrapper, a wrapped feature, and a decorator?\n"
      ],
      "metadata": {
        "id": "g978PZbzblCQ"
      }
    },
    {
      "cell_type": "markdown",
      "source": [
        "Ans- Wrappers Around the functions are known as Decrators."
      ],
      "metadata": {
        "id": "zyUigJ7Bbyqn"
      }
    },
    {
      "cell_type": "markdown",
      "source": [
        "Q10. If a function is a generator function, what does it return?"
      ],
      "metadata": {
        "id": "k_LJKnP7b1Uh"
      }
    },
    {
      "cell_type": "markdown",
      "source": [
        "Ans: Generator functions are a special kind of function that return a lazy iterator. These are objects that you can loop over like a list. However, unlike lists, lazy iterators do not store their contents in memory."
      ],
      "metadata": {
        "id": "SICxyhWJb5pQ"
      }
    },
    {
      "cell_type": "markdown",
      "source": [
        "Q11. What is the one improvement that must be made to a function in order for it to become a\n",
        "generator function in the Python language?"
      ],
      "metadata": {
        "id": "jDv73UB5b9W-"
      }
    },
    {
      "cell_type": "markdown",
      "source": [
        "Ans - Generator is a written as normal function but uses yield keyword to return values instead of return keyword."
      ],
      "metadata": {
        "id": "MhFHxQHQcBIp"
      }
    },
    {
      "cell_type": "markdown",
      "source": [
        "Q12. Identify at least one benefit of generators."
      ],
      "metadata": {
        "id": "1hrW_XHxcHZm"
      }
    },
    {
      "cell_type": "markdown",
      "source": [
        "Ans - return statement sends a specified value back to its caller whereas yield statment can produce a sequence of values. We should use generator when we want to iterate over a sequence, but don’t want to store the entire sequence in memory."
      ],
      "metadata": {
        "id": "mZgk8K3ocMWp"
      }
    }
  ]
}