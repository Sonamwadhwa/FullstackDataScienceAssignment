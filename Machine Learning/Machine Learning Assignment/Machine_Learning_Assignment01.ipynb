{
  "nbformat": 4,
  "nbformat_minor": 0,
  "metadata": {
    "colab": {
      "provenance": []
    },
    "kernelspec": {
      "name": "python3",
      "display_name": "Python 3"
    },
    "language_info": {
      "name": "python"
    }
  },
  "cells": [
    {
      "cell_type": "markdown",
      "source": [
        "1. What does one mean by the term &quot;machine learning&quot;?"
      ],
      "metadata": {
        "id": "miC9gYQX2Zrb"
      }
    },
    {
      "cell_type": "markdown",
      "source": [
        "Ans-  Machine learning Popularly known as ML is a branch of Artificial Intelligence (AI) that allows software applications to become more accurate at predicting outcomes without being explicitly programmed to do so. Machine learning algorithms use historical data as input to predict new output values."
      ],
      "metadata": {
        "id": "QwbJbSCc2eZt"
      }
    },
    {
      "cell_type": "markdown",
      "source": [
        "2.Can you think of 4 distinct types of issues where it shines?"
      ],
      "metadata": {
        "id": "J0mfIxKu2lz7"
      }
    },
    {
      "cell_type": "markdown",
      "source": [
        "Ans- The following are some of the issues where Machine Learning can be used:\n",
        "\n",
        "1)Image Recognition: Image recognition is one of the most common applications of machine learning. It is used to identify objects, persons, places, digital images, etc. The popular use case of image recognition and face detection is Automatic friend tagging suggestion.\n",
        "\n",
        "2)Speech Recognition: While using Google, we get an option of Search by voice, it comes under speech recognition, and it's a popular application of Machine Learning. Speech recognition is a process of converting voice instructions into text, and it is also known as Speech to text, or Computer based speech recognition At present, machine learning algorithms are widely used by various applications of speech recognition. Google assistant, Siri, Cortana, and Alexa are using speech recognition technology to follow the voice instructions.\n",
        "\n",
        "3) Traffic prediction: It predicts the traffic conditions such as whether traffic is cleared, slow-moving, or heavily congested with the help of two ways: Real Time location of the vehicle form Google Map app and sensors Average time has taken on past days at the same time.\n",
        "\n",
        "4)Product recommendations: Machine learning is widely used by various e-commerce and entertainment companies such as Amazon, Netflix, etc., for product recommendation to the user."
      ],
      "metadata": {
        "id": "gEps11Xt21na"
      }
    },
    {
      "cell_type": "markdown",
      "source": [
        "3.What is a labeled training set, and how does it work?"
      ],
      "metadata": {
        "id": "KvWzyaqf3S2L"
      }
    },
    {
      "cell_type": "markdown",
      "source": [
        "Ans-  You split up the data containing known response variable values into two pieces. The training set is used to train the algorithm, and then you use the trained model on the test set to predict the response variable values that are already known."
      ],
      "metadata": {
        "id": "9ZXArXUG3Wc8"
      }
    },
    {
      "cell_type": "markdown",
      "source": [
        "4.What are the two most important tasks that are supervised?"
      ],
      "metadata": {
        "id": "juPKBCYi3h3u"
      }
    },
    {
      "cell_type": "markdown",
      "source": [
        "Ans- The two most common supervised learning tasks are Regression and Classification."
      ],
      "metadata": {
        "id": "rojWQZ6I74vT"
      }
    },
    {
      "cell_type": "markdown",
      "source": [
        "5.Can you think of four examples of unsupervised tasks?"
      ],
      "metadata": {
        "id": "sXb4EOdA8AyH"
      }
    },
    {
      "cell_type": "markdown",
      "source": [
        "Ans- Four common Unsupervised Tasks included Clustering, Visualization, Dimensionality Reduction, and Association Rule Learning."
      ],
      "metadata": {
        "id": "M61J3TJo8Nep"
      }
    },
    {
      "cell_type": "markdown",
      "source": [
        "6.State the machine learning model that would be best to make a robot walk through various\n",
        "unfamiliar terrains?"
      ],
      "metadata": {
        "id": "cNxCCilv8YYh"
      }
    },
    {
      "cell_type": "markdown",
      "source": [
        "Ans- The best Machine Learning algorithm to allow a Robot to walk in unfamiliar terrains is Reinforced Learning, where the robot can learn from response of the terrain to optimize itself."
      ],
      "metadata": {
        "id": "8URlxDg88fmU"
      }
    },
    {
      "cell_type": "markdown",
      "source": [
        "7.Which algorithm will you use to divide your customers into different groups?"
      ],
      "metadata": {
        "id": "-nI2BzKf8oTt"
      }
    },
    {
      "cell_type": "markdown",
      "source": [
        "Ans-  The Best Algorithm to Segment Customers into different groups is either Supervised Learning (if the groups have known labels) or Unsupervised Learning (if there are no group labels)."
      ],
      "metadata": {
        "id": "-1xLTv4f8-TQ"
      }
    },
    {
      "cell_type": "markdown",
      "source": [
        "8.Will you consider the problem of spam detection to be a supervised or unsupervised learning\n",
        "problem?"
      ],
      "metadata": {
        "id": "IiBaqzfF9OD4"
      }
    },
    {
      "cell_type": "markdown",
      "source": [
        "Ans- Spam detection is a Supervised Machine Learning problem because the labels are known (spam or no spam)."
      ],
      "metadata": {
        "id": "wyR06rlK9Su6"
      }
    },
    {
      "cell_type": "markdown",
      "source": [
        "9.What is the concept of an online learning system?"
      ],
      "metadata": {
        "id": "gH843F2S9Yzw"
      }
    },
    {
      "cell_type": "markdown",
      "source": [
        "Ans- Online learning system is a learning system in which the machine learns continously, as data is given in small streams continuously."
      ],
      "metadata": {
        "id": "ZJYKIqN39sOh"
      }
    },
    {
      "cell_type": "markdown",
      "source": [
        "10.What is out-of-core learning, and how does it differ from core learning?"
      ],
      "metadata": {
        "id": "_5eVbL-R_GmI"
      }
    },
    {
      "cell_type": "markdown",
      "source": [
        "Ans-  Out-of-core learning system is a system that can handle data that cannot fit into your computer memory. It uses online learning system to feed data in small bits."
      ],
      "metadata": {
        "id": "xU31pwQj_LzX"
      }
    },
    {
      "cell_type": "markdown",
      "source": [
        "11.What kind of learning algorithm makes predictions using a similarity measure?"
      ],
      "metadata": {
        "id": "7_WC-xzw_ST3"
      }
    },
    {
      "cell_type": "markdown",
      "source": [
        "Ans: Learning algorithm that relies on a similarity measure to make predictions is Instance Based Algorithm."
      ],
      "metadata": {
        "id": "rHNk68oa_Vqf"
      }
    },
    {
      "cell_type": "markdown",
      "source": [
        "12.What&#39;s the difference between a model parameter and a hyperparameter in a learning\n",
        "algorithm?"
      ],
      "metadata": {
        "id": "uvXFZN7e_dpw"
      }
    },
    {
      "cell_type": "markdown",
      "source": [
        "Ans: Model parameter determines how a model will predict given a new instance. Model usually has more than one parameter (i.e. slope of a linear model). Hyperparameter is a parameter for the learning algorithm, not of a model."
      ],
      "metadata": {
        "id": "8CDbKTUY_kP3"
      }
    },
    {
      "cell_type": "markdown",
      "source": [
        "13.What are the criteria that model-based learning algorithms look for? What is the most popular\n",
        "method they use to achieve success? What method do they use to make predictions?"
      ],
      "metadata": {
        "id": "isLsF1sy_nlH"
      }
    },
    {
      "cell_type": "markdown",
      "source": [
        "Ans: Model based learning algorithm search for the optimal value of parameters in a model that will give the best results for the new instances. We often use a cost function or similar to determine what the parameter value has to be in order to minimize the function. The model makes prediction by using the value of the new instance and the parameters in its function."
      ],
      "metadata": {
        "id": "U6IQF0zU_0XY"
      }
    },
    {
      "cell_type": "markdown",
      "source": [
        "14.Can you name four of the most important Machine Learning challenges?"
      ],
      "metadata": {
        "id": "0bh65W_PAE5H"
      }
    },
    {
      "cell_type": "markdown",
      "source": [
        "Ans: Four main challenges in Machine Learning include the following:\n",
        "\n",
        "1)Overfitting the Data (using a model too complicated)\n",
        "\n",
        "2)Underfitting the data (using a simple model)\n",
        "\n",
        "3)Lacking in Data\n",
        "\n",
        "4)Non Representative Data."
      ],
      "metadata": {
        "id": "HpAaKE5uAJ_3"
      }
    },
    {
      "cell_type": "markdown",
      "source": [
        "15.What happens if the model performs well on the training data but fails to generalize the results\n",
        "to new situations? Can you think of three different options?"
      ],
      "metadata": {
        "id": "bs1KTu92ATfv"
      }
    },
    {
      "cell_type": "markdown",
      "source": [
        "Ans- If the model performs poorly to new instances, then it has overfitted on the training data. To solve this, we can do any of the following three:\n",
        "\n",
        "1)Get more data\n",
        "\n",
        "2)Implement a simpler model\n",
        "\n",
        "3)Eliminate outliers or noise from the existing data set."
      ],
      "metadata": {
        "id": "sWpq8uSFArPA"
      }
    },
    {
      "cell_type": "markdown",
      "source": [
        "16.What exactly is a test set, and why would you need one?"
      ],
      "metadata": {
        "id": "We2tgo-2A3oH"
      }
    },
    {
      "cell_type": "markdown",
      "source": [
        "Ans - Test set is a set to test your model (fit using training data) to see how it performs.Test set is necessary to determine how good (or bad) a model performs."
      ],
      "metadata": {
        "id": "SXJS1nrdA8Ef"
      }
    },
    {
      "cell_type": "markdown",
      "source": [
        "17.What is a validation set&#39;s purpose?\n",
        "\n",
        " Ans: Validation set is a set used to compare between different training models."
      ],
      "metadata": {
        "id": "JnbEfH8nBF4_"
      }
    },
    {
      "cell_type": "markdown",
      "source": [
        "18.What precisely is the train-dev kit, when will you need it, how do you put it to use?"
      ],
      "metadata": {
        "id": "nkgqynebBPgv"
      }
    },
    {
      "cell_type": "markdown",
      "source": [
        "Ans- Cross-validation is a tool to compare models without needing a separate validation set. It is preferred over validation set because we can save from breaking of part of the training set to create a validation set, as having more data is valuable regardless."
      ],
      "metadata": {
        "id": "TTLa4WaJBXcZ"
      }
    },
    {
      "cell_type": "markdown",
      "source": [
        "19.What could go wrong if you use the test set to tune hyperparameters?"
      ],
      "metadata": {
        "id": "WeEA2u1KBdNd"
      }
    },
    {
      "cell_type": "markdown",
      "source": [
        "Ans- If you tune hyperparameters using the test sets, then it may not perform well on the out-of-sample data because the model is tuned just for that specific set."
      ],
      "metadata": {
        "id": "xS8_cV9DBg9q"
      }
    }
  ]
}