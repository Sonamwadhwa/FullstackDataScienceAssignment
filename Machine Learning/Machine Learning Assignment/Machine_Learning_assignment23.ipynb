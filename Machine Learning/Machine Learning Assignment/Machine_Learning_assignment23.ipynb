{
  "nbformat": 4,
  "nbformat_minor": 0,
  "metadata": {
    "colab": {
      "provenance": []
    },
    "kernelspec": {
      "name": "python3",
      "display_name": "Python 3"
    },
    "language_info": {
      "name": "python"
    }
  },
  "cells": [
    {
      "cell_type": "markdown",
      "source": [
        "1. What are the key reasons for reducing the dimensionality of a dataset? What are the major\n",
        "disadvantages?\n",
        "\n",
        "Ans- Disadvantages of Dimensionality Reduction:\n",
        "\n",
        "1)It may lead to some amount of data loss.\n",
        "\n",
        "2)PCA tends to find linear correlations between variables, which is sometimes undesirable.\n",
        "\n",
        "3)PCA fails in cases where mean and covariance are not enough to define datasets."
      ],
      "metadata": {
        "id": "yl2LaTLvIF_2"
      }
    },
    {
      "cell_type": "markdown",
      "source": [
        "2. What is the dimensionality curse?\n",
        "\n",
        "Ans- The curse of dimensionality basically means that the error increases with the increase in the number of features. It refers to the fact that algorithms are harder to design in high dimensions and often have a running time exponential in the dimensions."
      ],
      "metadata": {
        "id": "nji9uRGXITQ4"
      }
    },
    {
      "cell_type": "markdown",
      "source": [
        "3. Tell if its possible to reverse the process of reducing the dimensionality of a dataset? If so, how\n",
        "can you go about doing it? If not, what is the reason?\n",
        "\n",
        "Ans- No, dimensionality reduction is not reversible in general."
      ],
      "metadata": {
        "id": "Md2gCMwLIhga"
      }
    },
    {
      "cell_type": "markdown",
      "source": [
        "4. Can PCA be utilized to reduce the dimensionality of a nonlinear dataset with a lot of variables?\n",
        "\n",
        "Ans-  Well it Depends on dataset. If it is comprised of points that are perfectly aligned, PCA can reduce the dataset down to 1 dimension and preserve 95% of the variance.\n",
        "\n"
      ],
      "metadata": {
        "id": "QCg-cIbvInZS"
      }
    },
    {
      "cell_type": "markdown",
      "source": [
        "5. Assume you&#39;re running PCA on a 1,000-dimensional dataset with a 95 percent explained variance\n",
        "ratio. What is the number of dimensions that the resulting dataset would have?\n",
        "\n",
        "Ans:  If I perform PCA on a 1,000-dimensional dataset, setting the explained variance ratio to 95%. In this case roughly 950 dimensions are required to preserve 95% of the variance. So the answer is, it depends on the dataset, and it could be any number between 1 and 950. "
      ],
      "metadata": {
        "id": "HjB56c56Iuzy"
      }
    },
    {
      "cell_type": "markdown",
      "source": [
        "6. Will you use vanilla PCA, incremental PCA, randomized PCA, or kernel PCA in which situations?\n",
        "\n",
        "Ans- The following are the scenarios where the following are used:\n",
        "\n",
        "1)Vanilla PCA: the dataset fit in memory\n",
        "\n",
        "2)Incremental PCA: larget dataset that don't fit in memory, online taks\n",
        "\n",
        "3)Randomized PCA: considerably reduce dimensionality and the dataset fit the memory.\n",
        "\n",
        "4)kernel PCA: used for nonlinear PCA\n",
        "\n",
        "\n"
      ],
      "metadata": {
        "id": "s4P40LiiI0zL"
      }
    },
    {
      "cell_type": "markdown",
      "source": [
        "7. How do you assess a dimensionality reduction algorithm&#39;s success on your dataset?\n",
        "\n",
        "Ans-  By doing PCA, it is a good choice for dimensionality reduction and visualization for datasets with a large number of variables.\n",
        "\n"
      ],
      "metadata": {
        "id": "YIZd4tXRJe6C"
      }
    },
    {
      "cell_type": "markdown",
      "source": [
        "8. Is it logical to use two different dimensionality reduction algorithms in a chain?\n",
        "\n",
        "Ans- Indeed, it often make any sense to chain two different dimensionality reduction algorithms. A common example is using PCA to quickly get rid of a large number of useless dimensions, then applying another much slower dimensionality reduction algorithm, such as LLE."
      ],
      "metadata": {
        "id": "TFK5gT01JoDT"
      }
    }
  ]
}