{
  "nbformat": 4,
  "nbformat_minor": 0,
  "metadata": {
    "colab": {
      "provenance": []
    },
    "kernelspec": {
      "name": "python3",
      "display_name": "Python 3"
    },
    "language_info": {
      "name": "python"
    }
  },
  "cells": [
    {
      "cell_type": "markdown",
      "source": [
        "1. What is the concept of human learning? Please give two examples."
      ],
      "metadata": {
        "id": "BE0s8B2n7aYK"
      }
    },
    {
      "cell_type": "markdown",
      "source": [
        "Ans: Human learning is the form of learning which requires higher order mental processes like thinking, reasoning, intelligence, etc.We learn different concepts from childhood. For example:\n",
        "\n",
        "1)Learning through Association - Classical Conditioning.\n",
        "\n",
        "2)Learning through consequences – Operant Conditioning.\n",
        "\n",
        "3)Learning through observation – Modeling/Observational Learning."
      ],
      "metadata": {
        "id": "fJ1LU1wt9Qxf"
      }
    },
    {
      "cell_type": "markdown",
      "source": [
        "2. What different forms of human learning are there? Are there any machine learning equivalents?"
      ],
      "metadata": {
        "id": "ZbgzheZ29iWx"
      }
    },
    {
      "cell_type": "markdown",
      "source": [
        "Ans- Different Forms of ML are as follows :\n",
        "\n",
        "1)Artificial Intelligence Learning Theories. Machine Learning. Reinforcement Learning. Supervised Learning. Unsupervised Learning.\n",
        "\n",
        "2)ML equivalents like Linear regression, decision trees, random forest and support vector machines are some commonly used techniques that are actually examples of supervised learning."
      ],
      "metadata": {
        "id": "6HBaMDE_98e5"
      }
    },
    {
      "cell_type": "markdown",
      "source": [
        "3. What is machine learning, and how does it work? What are the key responsibilities of machine\n",
        "learning?"
      ],
      "metadata": {
        "id": "ZotwwVQO-Umi"
      }
    },
    {
      "cell_type": "markdown",
      "source": [
        "Ans-  Machine learning is a branch of Artificial intelligence (AI) that teaches computers on how to think in a similar way to how humans do, like by Learning and improving upon past experiences.\n",
        "\n",
        "1)It works by exploring data and identifying patterns, and involves minimal human intervention.\n",
        "\n",
        "\n",
        "Roles and responsibilities of a machine learning engineer are:\n",
        "\n",
        "1) Designing ML systems.\n",
        "\n",
        "2)Researching and implementing ML algorithms and tools. Selecting appropriate data sets.\n",
        "\n",
        "3)Picking appropriate data representation methods. Identifying differences in data distribution that affects model performance. Verifying data quality.\n",
        "\n",
        "\n"
      ],
      "metadata": {
        "id": "jDTCz4Og-YHs"
      }
    },
    {
      "cell_type": "markdown",
      "source": [
        "4) Define the terms \"penalty\" and \"reward\" in the context of reinforcement learning ?"
      ],
      "metadata": {
        "id": "j2y_po_R_5RG"
      }
    },
    {
      "cell_type": "markdown",
      "source": [
        "Ans- A Reinforcement Learning Algorithm, which may also be referred to as an agent, learns by interacting with its environment. The agent receives rewards by performing correctly and penalties for performing incorrectly. The agent learns without intervention from a human by maximizing its reward and minimizing its penalty."
      ],
      "metadata": {
        "id": "akBW-L3pIZTY"
      }
    },
    {
      "cell_type": "markdown",
      "source": [
        "5. Explain the term &quot;learning as a search&quot;?"
      ],
      "metadata": {
        "id": "gzHTHYbxIhVR"
      }
    },
    {
      "cell_type": "markdown",
      "source": [
        "Ans- Learning can be viewed as a search through the space of all sentences in a concept description language for a sentence that best describes the data. Alternatively, it can be viewed as a search through all hypotheses in a hypothesis space."
      ],
      "metadata": {
        "id": "eYtUV658ImPk"
      }
    },
    {
      "cell_type": "markdown",
      "source": [
        "6. What are the various goals of machine learning? What is the relationship between these and\n",
        "human learning?"
      ],
      "metadata": {
        "id": "dIottSbaIrlM"
      }
    },
    {
      "cell_type": "markdown",
      "source": [
        "Ans-The Goal of machine learning, closely coupled with the goal of AI, is to achieve a through understanding about the nature of learning process (both human learning and other forms of learning), about the computational aspects of learning behaviors, and to implant the learning capability in computer systems.\n",
        "\n",
        "Humans have the ability to learn, however with the progress in artificial intelligence, machine learning has become a resource which can augment or even replace human learning. Learning does not happen all at once, but it builds upon and is shaped by previous knowledge."
      ],
      "metadata": {
        "id": "gQL97csBIuIE"
      }
    },
    {
      "cell_type": "markdown",
      "source": [
        "7. Illustrate the various elements of machine learning using a real-life illustration."
      ],
      "metadata": {
        "id": "XG4kjhDkI1EO"
      }
    },
    {
      "cell_type": "markdown",
      "source": [
        "Ans-  The Various elements of the the Machine Learning are:\n",
        "\n",
        "1)Data\n",
        "\n",
        "2)Task\n",
        "\n",
        "3)Model\n",
        "\n",
        "4)Loss Function\n",
        "\n",
        "5)Learning Algorithm\n",
        "\n",
        "6)Evaluation"
      ],
      "metadata": {
        "id": "uGvQBTXcI6CX"
      }
    },
    {
      "cell_type": "markdown",
      "source": [
        "8. Provide an example of the abstraction method."
      ],
      "metadata": {
        "id": "3ywoIA1dJReq"
      }
    },
    {
      "cell_type": "markdown",
      "source": [
        "Ans- In Machine Learning, Abstraction is supported primarily at the level of modules. This can be justified in two ways: first, Data abstraction is mostly a question of program interfaces and therefore it arises naturally at the point where we have to consider program composition and modules."
      ],
      "metadata": {
        "id": "O20uKWZJJX93"
      }
    },
    {
      "cell_type": "markdown",
      "source": [
        "9. What is the concept of generalization? What function does it play in the machine learning\n",
        "process?"
      ],
      "metadata": {
        "id": "Cva9oI3eJm0R"
      }
    },
    {
      "cell_type": "markdown",
      "source": [
        "Ans-  Generalization refers to your model's ability to adapt properly to new, previously unseen data, drawn from the same distribution as the one used to create the model.\n",
        "\n",
        "In machine learning, generalization is a definition to demonstrate how well is a trained model to classify or forecast unseen data.This issue can result to classify an actual dog image as a cat from the unseen dataset. Therefore, data diversity is very important factor in order to make a good prediction."
      ],
      "metadata": {
        "id": "dxChCHLpKPnm"
      }
    },
    {
      "cell_type": "markdown",
      "source": [
        "10. What is classification, exactly? What are the main distinctions between classification and regression?"
      ],
      "metadata": {
        "id": "JA-5-mgZKZr2"
      }
    },
    {
      "cell_type": "markdown",
      "source": [
        "Ans-  In Machine Learning, Classification refers to a predictive modeling problem where a class label is predicted for a given example of input data.Classification is the task of predicting a discrete class label. Whereas Regression is the task of predicting a continuous quantity."
      ],
      "metadata": {
        "id": "kan3LSEQKg5I"
      }
    },
    {
      "cell_type": "markdown",
      "source": [
        "11. What is regression, and how does it work? Give an example of a real-world problem that was\n",
        "solved using regression."
      ],
      "metadata": {
        "id": "w0lHE4zaKzzR"
      }
    },
    {
      "cell_type": "markdown",
      "source": [
        "Ans-  Regression is a Supervised Machine Learning technique which is used to predict continuous values. The ultimate goal of a regression algorithm is to plot a best-fit line or a curve between the data.\n",
        "\n",
        "The three main metrics that are used for evaluating the trained regression model are Variance, Bias and Error.\n",
        "\n",
        "A simple linear regression real life example could mean you finding a relationship between the revenue and temperature, with a sample size for revenue as the dependent variable. In case of multiple variable regression, you can find the relationship between temperature, pricing and number of workers to the revenue.\n",
        "\n"
      ],
      "metadata": {
        "id": "jmB_YJ0hK7qf"
      }
    },
    {
      "cell_type": "markdown",
      "source": [
        "12. Describe the clustering mechanism in detail."
      ],
      "metadata": {
        "id": "cM9RHdmjLRpx"
      }
    },
    {
      "cell_type": "markdown",
      "source": [
        "Ans- Clustering is the task of dividing the population or data points into a number of groups such that data points in the same groups are more similar to other data points in the same group than those in other groups. In simple words, the aim is to segregate groups with similar traits and assign them into clusters."
      ],
      "metadata": {
        "id": "nMIXClsSLUwI"
      }
    },
    {
      "cell_type": "markdown",
      "source": [
        "13. Make brief observations on two of the following topics:\n",
        "\n",
        "1)Machine learning algorithms are used\n",
        "\n",
        "2)Studying under supervision\n",
        "\n",
        "3)Studying without supervision\n",
        "\n",
        "4)Reinforcement learning is a form of learning based on positive reinforcement.\n",
        "\n",
        "\n",
        "Ans-The breif observations on the following two topics is:\n",
        "\n",
        "1) Machine learning algorithms are used- At its Most basic, Machine Learning uses programmed algorithms that receive and analyse input data to predict output values within an acceptable range. As new data is fed to these algorithms, they learn and optimise their operations to improve performance, developing intelligence over time.\n",
        "\n",
        "2)Studying under supervision- In machine learning, there are two important categories- Supervised and Unsupervised learning.Supervised learning, an algorithm learns from a training dataset. We know the correct answers or desired output, the algorithm makes predictions using the given dataset and is corrected by the “supervisor”.\n"
      ],
      "metadata": {
        "id": "LTzxEZ2iLcy3"
      }
    }
  ]
}